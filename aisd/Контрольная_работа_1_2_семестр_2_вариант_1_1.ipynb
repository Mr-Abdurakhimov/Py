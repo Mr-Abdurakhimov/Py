{
 "cells": [
  {
   "cell_type": "markdown",
   "metadata": {},
   "source": [
    "### Контрольная работа № 1.\n",
    "### Вариант 2.\n",
    "#### Студент: Абдурахимов Амир Баходирович      группа: ТРПО23-2"
   ]
  },
  {
   "cell_type": "markdown",
   "metadata": {},
   "source": [
    "1. Напишите программу, которая выполняет добавление, удаление и вывод на экран элементов списка при помощи классов. \n",
    "\n",
    "Решение задачи\n",
    "\n",
    "1.\tСоздаем класс и с помощью конструктора инициализируем значения этого класса.\n",
    "2.\tСоздаем в данном классе методы для добавления, удаления и вывода на экран соответствующих значений.\n",
    "3.\tСоздаем объект данного класса.\n",
    "4.\tИспользуя созданный объект, вызываем соответствующий метод (в зависимости от выбора пользователя).\n",
    "5.\tВыводим результат на экран.\n",
    "6.\tКонец.\n",
    "\n",
    "В программе реализовать выбор с помощью меню:\n",
    "\n",
    "print(\"0. Выход\")\n",
    "\n",
    "print(\"1. Добавить\")\n",
    "\n",
    "print(\"2. Удалить\")\n",
    "\n",
    "print(\"3. Вывести на экран\")\n",
    "\n",
    "choice = int(input(\"Выберите одно из этих значений: \"))\n",
    "\n"
   ]
  },
  {
   "cell_type": "code",
   "execution_count": 1,
   "metadata": {},
   "outputs": [
    {
     "name": "stdout",
     "output_type": "stream",
     "text": [
      "10\n",
      "12\n",
      "6\n"
     ]
    }
   ],
   "source": [
    "class Example:\n",
    "    def __init__(self, x):\n",
    "        self.x = x\n",
    "\n",
    "    def Choose(self, x):\n",
    "        if(x == 0):\n",
    "            print(\"Всего доброго\")\n",
    "        elif(x==1):\n",
    "            a = input(\"Сколько добавить?\")\n",
    "            self.__AddValue(int(a))\n",
    "        elif(x==2):\n",
    "            a = input(\"Сколько удалить?\")\n",
    "            self.__SubstractValue(int(a))\n",
    "        else:\\\n",
    "            print(self.x)\n",
    "\n",
    "    def __AddValue(self, x):\n",
    "        self.x += x\n",
    "\n",
    "    def __SubstractValue(self, x):\n",
    "        self.x -= x\n",
    "\n",
    "    def __Print(self):\n",
    "        print(self.x)\n",
    "\n",
    "\n",
    "a = Example(10)\n",
    "choice = input()\n",
    "\n",
    "a.Choose(choice)\n"
   ]
  },
  {
   "cell_type": "markdown",
   "metadata": {},
   "source": [
    "2. Используя класс People в качестве базового, создайте класс Сотрудник (Worker), имеющий свойства:\n",
    "\n",
    "• должность (post)\n",
    "\n",
    "• зарплата (salary)\n",
    "\n",
    "методы:\n",
    "\n",
    "• __init__ – конструктор;\n",
    "\n",
    "• __str__ – аналогично методу класса Teacher из примера.\n",
    "\n",
    "Используя класс Сотрудник в качестве базового создайте класс Преподаватель (Teacher), имеющий:\n",
    "\n",
    "• закрытый атрибут дисциплины (disciplines), в котором хранятся названия дисциплин, которые ведет преподаватель;\n",
    "\n",
    "• методы __init__ и __str__;\n",
    "\n",
    "• методы добавить_дисциплину (add_dis) и удалить_дисциплину (delete_dis), которые позволяют изменять список дисциплин.\n",
    "\n",
    "Создайте список, содержащий по 2 объекта каждого класса (People, Worker, Teacher). Для этого списка:\n",
    "\n",
    "• выведите информацию о каждом человеке с помощью метода info;\n",
    "\n",
    "• выведите фамилии тех, кто моложе 30 лет;\n",
    "\n",
    "• продемонстрируйте работу со свойствами должность и зарплата и методами добавить_дисциплину и удалить_дисциплину.\n"
   ]
  },
  {
   "cell_type": "code",
   "execution_count": 2,
   "metadata": {},
   "outputs": [],
   "source": [
    "# Решение 2.\n",
    "class People:\n",
    "    def __init__(self, name, age):\n",
    "        self.name = name\n",
    "        self.age = age\n",
    "\n",
    "    def info(self):\n",
    "        return f\"Name: {self.name}, Age: {self.age}\"\n",
    "\n",
    "class Worker(People):\n",
    "    def __init__(self, name, age, post, salary):\n",
    "        super().__init__(name, age)\n",
    "        self.post = post\n",
    "        self.salary = salary\n",
    "\n",
    "    def __str__(self):\n",
    "        return f\"{self.info()}, Post: {self.post}, Salary: {self.salary}\"\n",
    "\n",
    "class Teacher(Worker):\n",
    "    def __init__(self, name, age, post, salary):\n",
    "        super().__init__(name, age, post, salary)\n",
    "        self.disciplines = []\n",
    "\n",
    "    def add_dis(self, discipline):\n",
    "        self.disciplines.append(discipline)\n",
    "\n",
    "    def delete_dis(self, discipline):\n",
    "        if discipline in self.disciplines:\n",
    "            self.disciplines.remove(discipline)\n",
    "\n",
    "    \n",
    "\n",
    "# Создаем объекты\n",
    "people_list = [\n",
    "    People(\"Alice\", 25),\n",
    "    People(\"Bob\", 30),\n",
    "    Worker(\"Charlie\", 35, \"Manager\", 50000),\n",
    "    Worker(\"David\", 28, \"Developer\", 60000),\n",
    "    Teacher(\"Eve\", 40, \"Teacher\", 45000),\n",
    "    Teacher(\"Frank\", 29, \"Professor\", 70000)\n",
    "]\n",
    "\n",
    "# Вывод информации о каждом человеке\n",
    "for person in people_list:\n",
    "    print(person.info())\n",
    "\n",
    "# Вывод фамилий тех, кто моложе 30 лет\n",
    "print(\"\\nPeople younger than 30:\")\n",
    "for person in people_list:\n",
    "    if person.age < 30:\n",
    "        print(person.name)\n",
    "\n",
    "# Демонстрация работы со свойствами и методами Teacher\n",
    "teacher1 = Teacher(\"Grace\", 32, \"Instructor\", 55000)\n",
    "print(\"\\nBefore adding disciplines:\")\n",
    "print(teacher1)\n",
    "teacher1.add_dis(\"Math\")\n",
    "teacher1.add_dis(\"Physics\")\n",
    "print(\"\\nAfter adding disciplines:\")\n",
    "print(teacher1)\n",
    "teacher1.delete_dis(\"Math\")\n",
    "print(\"\\nAfter deleting a discipline:\")\n",
    "print(teacher1)\n"
   ]
  },
  {
   "cell_type": "markdown",
   "metadata": {},
   "source": [
    "3.Создайте класс Заказ(Order), у которого есть свойства кодтовара(code), цена(price), количество(count) и методы _init и str.\n",
    "\n",
    "Создайте 2 класса-потомка: Опт(Opt) и Розница(Retail). В этих классах создайте методы init, str.и сумма_заказа(summa), позволяющий узнать стоимость заказа. Для опта стоимость единицы товара составляет 95% от цены, а при покупке более 500 штук – 90% цены. В розницу стоимость единицы товара составляет 100% цены. Стоимость заказа равна произведению цены на количество.\n",
    "\n",
    "Продемонстрируйте работу с классами, создав необходимые объекты и обратившись к их свойствам и методам"
   ]
  },
  {
   "cell_type": "code",
   "execution_count": 3,
   "metadata": {},
   "outputs": [],
   "source": [
    "class Order:\n",
    "    def __init__(self, code, price, count):\n",
    "        self.code = code\n",
    "        self.price = price\n",
    "        self.count = count\n",
    "\n",
    "    def __str__(self):\n",
    "        return f\"Code: {self.code}, Price: {self.price}, Count: {self.count}\"\n",
    "\n",
    "class Opt(Order):\n",
    "    def __init__(self, code, price, count):\n",
    "        super().__init__(code, price, count)\n",
    "\n",
    "    def summa(self):\n",
    "        if self.count > 500:\n",
    "            return 0.9 * self.price * self.count\n",
    "        else:\n",
    "            return 0.95 * self.price * self.count\n",
    "\n",
    "    def __str__(self):\n",
    "        return f\" Total Price: {self.summa()}\"\n",
    "\n",
    "class Retail(Order):\n",
    "    def __init__(self, code, price, count):\n",
    "        super().__init__(code, price, count)\n",
    "\n",
    "    def summa(self):\n",
    "        return self.price * self.count\n",
    "\n",
    "    def __str__(self):\n",
    "        return f\" Total Price: {self.summa()}\"\n",
    "\n",
    "# Создаем объекты\n",
    "order1 = Opt(\"A001\", 100, 600)\n",
    "order2 = Retail(\"B002\", 50, 10)\n",
    "\n",
    "# Вывод информации о заказах\n",
    "print(order1)\n",
    "print(order2)\n",
    "\n",
    "# Вывод стоимости заказов\n",
    "print(f\"Total Price for order 1: {order1.summa()}\")\n",
    "print(f\"Total Price for order 2: {order2.summa()}\")"
   ]
  },
  {
   "cell_type": "markdown",
   "metadata": {},
   "source": [
    "4.Написать функцию-генератор my_func_2(lst), которая принимает объект, поддерживающий итерации с произвольным уровнем вложенности, и возвращает все элементы по одному."
   ]
  },
  {
   "cell_type": "code",
   "execution_count": 2,
   "metadata": {},
   "outputs": [
    {
     "name": "stdout",
     "output_type": "stream",
     "text": [
      "1\n",
      "2\n",
      "3\n",
      "4\n",
      "5\n",
      "6\n",
      "7\n"
     ]
    }
   ],
   "source": [
    "# Решение 4.\n",
    "def my_func_2(lst):\n",
    "    if isinstance(lst, (list, tuple)):\n",
    "        for item in lst:\n",
    "            yield from my_func_2(item)\n",
    "    else:\n",
    "        yield lst\n",
    "\n",
    "# Пример использования\n",
    "nested_list = [1, [2, 3], [4, [5, 6], 7]]\n",
    "for item in my_func_2(nested_list):\n",
    "    print(item)"
   ]
  },
  {
   "cell_type": "markdown",
   "metadata": {},
   "source": [
    "5.С помощью механизма map/filter/reduce (хотя бы одна из этих функций должна быть использована в решении) посчитать в тексте количество слов, состоящих не менее, чем из 3-х букв. Слова в тексте разделены пробелами. Написать реализацию в одну строку. Оформить решение в виде функции my_func_3(text), т.е. шаблон таков:\n",
    "\n",
    "строка с import, если необходимо def my_func_3(text): return # однострочная реализация задания"
   ]
  },
  {
   "cell_type": "code",
   "execution_count": 3,
   "metadata": {},
   "outputs": [
    {
     "name": "stdout",
     "output_type": "stream",
     "text": [
      "4\n"
     ]
    }
   ],
   "source": [
    "def my_func_3(text):\n",
    "    return len(list(filter(lambda x: len(x) >= 3, text.split())))\n",
    "\n",
    "# Пример использования\n",
    "text = \"Python is a great programming language\"\n",
    "result = my_func_3(text)\n",
    "print(result)# Решение 5."
   ]
  },
  {
   "cell_type": "markdown",
   "metadata": {},
   "source": [
    "6. Написать декоратор с параметром my_decorator(n). Декоратор превращает функцию, возвращающую поддерживающий итерации объект (далее \"последовательность\"), в функцию-генератор. Если декорируемая функция возвращает что-то другое, а не последовательность, то декоратор должен вернуть этот результат вызова функции без изменений.\n",
    "\n",
    "Проверку объекта можно организовать при помощи условия import collections if isinstance(item, collections.Iterable)\n",
    "\n",
    "Параметром декоратора может быть целое положительное число n, тогда получившаяся функция-декоратор должна генерировать по одному значению из последовательности, повторенной n раз. Также параметр может принимать строковое значение 'inf', тогда функция-декоратор генерирует по одному значению из последовательности, повторенной бесконечное число раз (зацикливает генерирование результата).\n",
    "\n",
    "Подсказка: сначала реализовать случай со значением аргумента 'inf', а затем модифицировать для целочисленного значения аргумента."
   ]
  },
  {
   "cell_type": "code",
   "execution_count": null,
   "metadata": {},
   "outputs": [],
   "source": [
    "# Решение 6."
   ]
  }
 ],
 "metadata": {
  "kernelspec": {
   "display_name": "Python 3 (ipykernel)",
   "language": "python",
   "name": "python3"
  },
  "language_info": {
   "codemirror_mode": {
    "name": "ipython",
    "version": 3
   },
   "file_extension": ".py",
   "mimetype": "text/x-python",
   "name": "python",
   "nbconvert_exporter": "python",
   "pygments_lexer": "ipython3",
   "version": "3.10.9"
  }
 },
 "nbformat": 4,
 "nbformat_minor": 4
}
