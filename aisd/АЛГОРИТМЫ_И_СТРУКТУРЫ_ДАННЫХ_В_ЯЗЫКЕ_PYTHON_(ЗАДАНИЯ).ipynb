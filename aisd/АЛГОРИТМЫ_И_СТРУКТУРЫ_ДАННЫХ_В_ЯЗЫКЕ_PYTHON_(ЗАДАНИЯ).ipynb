{
  "nbformat": 4,
  "nbformat_minor": 0,
  "metadata": {
    "colab": {
      "provenance": [],
      "collapsed_sections": [
        "UHFP36oYlxVP",
        "Qtks3ldxSlRQ",
        "deqygj8V4cFn",
        "iTMMjxHx34ze",
        "hHvyt-v4tqHf",
        "CRGxay6Yuc7F",
        "jtrdGrUwvGSW",
        "JJyN-79_JHIz",
        "5ASh5cH0JJzO",
        "pSYyv9rQJKeQ",
        "LOrWCgzgJKqw",
        "sJf0cye_JKzu",
        "yUJ1yoYFJLRx",
        "RBeJ_jewJLc7",
        "J8W2WrivJLmB",
        "nbrmNnQkSqTF",
        "eEfJ3hdacn2O",
        "XdpHm6SQco3u",
        "AsCxG7xFcpFg",
        "nODNI4fhcpR_",
        "S1z_xRDucpkG",
        "tdV2beFdcpuO",
        "YbP9A-Z4cp5y",
        "jLbD02v5Ef9L",
        "jRQwjKp1cqGI",
        "nTJboR7ycqP2",
        "WtxZotV6eLD2",
        "s2CXmHkJeW6N",
        "YpP98h6Lej5f",
        "C_MzbmEnesp0",
        "ICWe68Cre6qx",
        "Ufb_V5ALe70J",
        "jIET26XX-1iW",
        "grEFfrT1Ptd9",
        "_50nhig8e8WB",
        "Y5IzArqPfc6g",
        "Zz7Pa6d9fp0N",
        "pbF7QemofsxE",
        "7km8KaMcftjL",
        "jFhR9iC2ftuv",
        "YbpTd9oaft6R",
        "83V3q8I8fuFK",
        "gttR9xjtFbtf",
        "meJCexfTfuPn"
      ]
    },
    "kernelspec": {
      "name": "python3",
      "display_name": "Python 3"
    },
    "language_info": {
      "name": "python"
    }
  },
  "cells": [
    {
      "cell_type": "markdown",
      "source": [
        "# <font color='CadetBlue'> **АЛГОРИТМЫ И СТРУКТУРЫ ДАННЫХ В ЯЗЫКЕ PYTHON**"
      ],
      "metadata": {
        "id": "fHbADoOlkw_e"
      }
    },
    {
      "cell_type": "markdown",
      "source": [
        "## <font color='CadetBlue'> **ПЕРВЫЙ СЕМЕСТР**"
      ],
      "metadata": {
        "id": "UHFP36oYlxVP"
      }
    },
    {
      "cell_type": "markdown",
      "source": [
        "### <font color='CadetBlue'> **I** — сентябрь, октябрь"
      ],
      "metadata": {
        "id": "Qtks3ldxSlRQ"
      }
    },
    {
      "cell_type": "markdown",
      "source": [
        "#### <font color='LightCoral'> **ЗАДАНИЕ 1.** Ввод/вывод информации. Оператор =."
      ],
      "metadata": {
        "id": "deqygj8V4cFn"
      }
    },
    {
      "cell_type": "markdown",
      "source": [
        "Вычислите значение функции:"
      ],
      "metadata": {
        "id": "jpBiY3sNmiiz"
      }
    },
    {
      "cell_type": "markdown",
      "source": [
        "1. $y = 3x^2 + \\sin(x + 2)$."
      ],
      "metadata": {
        "id": "VbPz_-PYm51i"
      }
    },
    {
      "cell_type": "markdown",
      "source": [
        "2. $y = ax^2 + \\cos(2x + 1)$."
      ],
      "metadata": {
        "id": "k6nxZFI7nI3_"
      }
    },
    {
      "cell_type": "markdown",
      "source": [
        "3. $y = ax + b\\sin(2x + 2)$."
      ],
      "metadata": {
        "id": "brm99-6mnJC4"
      }
    },
    {
      "cell_type": "markdown",
      "source": [
        "4. $y = ax^3 + \\cos(3x + 1)$."
      ],
      "metadata": {
        "id": "OfEtCGwlnJZ-"
      }
    },
    {
      "cell_type": "markdown",
      "source": [
        "5. $y = \\frac{x^2}{a} + \\cos(2x - 1)$."
      ],
      "metadata": {
        "id": "IQyrV45jnJjp"
      }
    },
    {
      "cell_type": "markdown",
      "source": [
        "6. $y = \\frac{x}{a} + 2x^2$."
      ],
      "metadata": {
        "id": "kfC88-wVnKQ_"
      }
    },
    {
      "cell_type": "markdown",
      "source": [
        "7. $y = 3x^2 - 2x + 1 $."
      ],
      "metadata": {
        "id": "KaZG4BLenKcv"
      }
    },
    {
      "cell_type": "markdown",
      "source": [
        "8. $y = \\frac{1}{2}x^2 - 3x + 1$."
      ],
      "metadata": {
        "id": "i3VEP1z_nKxW"
      }
    },
    {
      "cell_type": "markdown",
      "source": [
        "9. $y = \\frac{1}{x^2 + 1} - a$."
      ],
      "metadata": {
        "id": "yDZATrponU28"
      }
    },
    {
      "cell_type": "markdown",
      "source": [
        "10. $y = \\frac{a}{x^2 + 1} - \\cos(2x - 1)$."
      ],
      "metadata": {
        "id": "QDxzZ2yhnUhA"
      }
    },
    {
      "cell_type": "markdown",
      "source": [
        "11. $y = x^3 - 2x^2 + 4$."
      ],
      "metadata": {
        "id": "b6B7RyvXnVey"
      }
    },
    {
      "cell_type": "markdown",
      "source": [
        "12. $y = ax^2 + bx^3 - 8$."
      ],
      "metadata": {
        "id": "4D479Z4FnVAF"
      }
    },
    {
      "cell_type": "markdown",
      "source": [
        "13. $y = a\\sqrt{x^2 + 4} - b$."
      ],
      "metadata": {
        "id": "5hIH_q_ZnVIj"
      }
    },
    {
      "cell_type": "markdown",
      "source": [
        "14. $y = \\cos(2x - 1) + \\sin{x}$."
      ],
      "metadata": {
        "id": "HaN7qZd4nVPt"
      }
    },
    {
      "cell_type": "markdown",
      "source": [
        "15. $y = a\\sqrt{x} + bx^2$."
      ],
      "metadata": {
        "id": "lXLJVkcHnVXn"
      }
    },
    {
      "cell_type": "markdown",
      "source": [
        "#### <font color='LightCoral'> **ЗАДАНИЕ 2.** Ввод/вывод информации. Оператор =."
      ],
      "metadata": {
        "id": "iTMMjxHx34ze"
      }
    },
    {
      "cell_type": "markdown",
      "source": [
        "1. Даны целые числа $K$ и $N$ ($N>0$). Вывести $N$ раз число $K$."
      ],
      "metadata": {
        "id": "8jJpcrHx4gCe"
      }
    },
    {
      "cell_type": "markdown",
      "source": [
        "2. Даны два целых числа $A$ и $B$ ($A < B$). Вывести в порядке возрастания все целые числа, расположенные между $A$ и $B$ (включая сами числа $A$ и $B$), а также количество $N$ этих чисел.\n"
      ],
      "metadata": {
        "id": "Igfe3VlA5T-T"
      }
    },
    {
      "cell_type": "markdown",
      "source": [
        "3. Даны два целых числа $A$ и $B$ ($A < B$). Вывести в порядке убывания все целые числа, расположенные между $A$ и $B$ (не включая числа $A$ и $B$), а также количество $N$ этих чисел.\n"
      ],
      "metadata": {
        "id": "GGdwLtjy5auX"
      }
    },
    {
      "cell_type": "markdown",
      "source": [
        "4. Одна штука некоторого товара стоит 20,4 руб. Напечатать таблицу стоимости для 1, 2, ..., 10 штук этого товара."
      ],
      "metadata": {
        "id": "bPLqyNNJ5kE5"
      }
    },
    {
      "cell_type": "markdown",
      "source": [
        "5. Напечатать квадраты всех целых чисел от $A$ до $B$ ($A < B$) с шагом $H$.\n"
      ],
      "metadata": {
        "id": "RFddSANW5qkv"
      }
    },
    {
      "cell_type": "markdown",
      "source": [
        "6. Напечатать все положительные числа из диапазона от $A$ до $B$ ($A < B$) с шагом $H$.\n"
      ],
      "metadata": {
        "id": "GFSiSAmf5waT"
      }
    },
    {
      "cell_type": "markdown",
      "source": [
        "7. Даны два целых числа $A$ и $B$ ($A < B$). Найти сумму всех целых чисел от $A$ до $B$ включительно.\n"
      ],
      "metadata": {
        "id": "ZDqm8iDx53Ob"
      }
    },
    {
      "cell_type": "markdown",
      "source": [
        "8. Даны два целых числа $A$ и $B$ ($A < B$). Найти произведение всех целых чисел от $A$ до $B$ включительно.\n"
      ],
      "metadata": {
        "id": "4ujv0uH46AwL"
      }
    },
    {
      "cell_type": "markdown",
      "source": [
        "9. Даны два целых числа $A$ и $B$ ($A < B$). Найти сумму квадратов всех целых чисел от $A$ до $B$ включительно.\n"
      ],
      "metadata": {
        "id": "d0aU5y-L6H2l"
      }
    },
    {
      "cell_type": "markdown",
      "source": [
        "10. Дано положительное вещественное число — цена 1 кг конфет. Вывести стоимость 1.2, 1.4, ..., 2 кг конфет.\n"
      ],
      "metadata": {
        "id": "3K5BHbFa6UB6"
      }
    },
    {
      "cell_type": "markdown",
      "source": [
        "11. Дано положительное целое число N. Найти квадрат данного числа, используя для его вычисления следующую формулу:\n",
        "\n",
        "\\begin{align}\n",
        "    N^2 = 1 + 3 + 5 + ... + (2 \\cdot N - 1).\n",
        "\\end{align}\n"
      ],
      "metadata": {
        "id": "YXvWAVZn6fAY"
      }
    },
    {
      "cell_type": "markdown",
      "source": [
        "12. Дано вещественное число $A$ и положительное целое число $N$. Вывести все целые степени числа $A$ от $1$ до $N$.\n"
      ],
      "metadata": {
        "id": "e8ZmVwjf7Gk9"
      }
    },
    {
      "cell_type": "markdown",
      "source": [
        "13. Дано положительное целое число $N$. Найти наибольшее целое число $K$, квадрат которого не превосходит $N$: $K^2 \\le N$.\n"
      ],
      "metadata": {
        "id": "UOgpwVdp7SYg"
      }
    },
    {
      "cell_type": "markdown",
      "source": [
        "14. Дано целое число $N > 1$. Найти наибольшее целое число $K$, при котором выполняется неравенство $3^K < N$.\n"
      ],
      "metadata": {
        "id": "gCifRUYt7fFn"
      }
    },
    {
      "cell_type": "markdown",
      "source": [
        "15. Дано целое число $N > 1$ и две вещественные точки на числовой оси: $A$, $B$ ($A<B$). Отрезок $[A, B]$ разбит на $N$ равных отрезков. Вывести $H$ — длину каждого отрезка, а также набор точек $A$, $A + H$, $A + 2H$, $A + 3H$, ..., $B$, образующий разбиение отрезка $[A, B]$."
      ],
      "metadata": {
        "id": "AX6Nl6qL7sTg"
      }
    },
    {
      "cell_type": "markdown",
      "source": [
        "#### <font color='LightCoral'> **ЗАДАНИЕ 3.** Условный оператор."
      ],
      "metadata": {
        "id": "hHvyt-v4tqHf"
      }
    },
    {
      "cell_type": "markdown",
      "source": [
        "1. Вычислите значение функции:\n",
        "\n",
        "\\begin{align}\n",
        "    y = \\left\\{\n",
        "            \\begin{array}{ll}\n",
        "                ax^2 + 1, & x > 0; \\\\\n",
        "                ax - 1, & x \\le 0.\n",
        "            \\end{array}\n",
        "        \\right.\n",
        "\\end{align}"
      ],
      "metadata": {
        "id": "YbJOr4sMtv9j"
      }
    },
    {
      "cell_type": "markdown",
      "source": [
        "2. Вычислите значение функции:\n",
        "\n",
        "\\begin{align}\n",
        "    y = \\left\\{\n",
        "            \\begin{array}{ll}\n",
        "                ax + 1, & x \\ge 1; \\\\\n",
        "                x^2 - 1, & x < 1.\n",
        "            \\end{array}\n",
        "        \\right.\n",
        "\\end{align}"
      ],
      "metadata": {
        "id": "m-MsEm64t1PZ"
      }
    },
    {
      "cell_type": "markdown",
      "source": [
        "3. Вычислите значение функции:\n",
        "\n",
        "\\begin{align}\n",
        "    y = \\left\\{\n",
        "            \\begin{array}{ll}\n",
        "                3a^2, & x < 0; \\\\\n",
        "                4ax - 1, & x \\ge 0.\n",
        "            \\end{array}\n",
        "        \\right.\n",
        "\\end{align}"
      ],
      "metadata": {
        "id": "YDnEyviYt4hP"
      }
    },
    {
      "cell_type": "markdown",
      "source": [
        "4. Вычислите значение функции:\n",
        "\n",
        "\\begin{align}\n",
        "    y = \\left\\{\n",
        "            \\begin{array}{ll}\n",
        "                2a^2, & x > 4; \\\\\n",
        "                3x - 1, & x \\le 4.\n",
        "            \\end{array}\n",
        "        \\right.\n",
        "\\end{align}"
      ],
      "metadata": {
        "id": "tYgYXPQHt-MH"
      }
    },
    {
      "cell_type": "markdown",
      "source": [
        "5. Вычислите значение функции:\n",
        "\n",
        "\\begin{align}\n",
        "    y = \\left\\{\n",
        "            \\begin{array}{ll}\n",
        "                2ax - 2, & x > 2; \\\\\n",
        "                3a^2 - 2x, & x \\le 2.\n",
        "            \\end{array}\n",
        "        \\right.\n",
        "\\end{align}"
      ],
      "metadata": {
        "id": "W4q-A8RTt-28"
      }
    },
    {
      "cell_type": "markdown",
      "source": [
        "6. Вычислите значение функции:\n",
        "\n",
        "\\begin{align}\n",
        "    y = \\left\\{\n",
        "            \\begin{array}{ll}\n",
        "                2ax^2 - 1, & x > 1; \\\\\n",
        "                x, & x \\le 1.\n",
        "            \\end{array}\n",
        "        \\right.\n",
        "\\end{align}"
      ],
      "metadata": {
        "id": "pdkls3iVuCCz"
      }
    },
    {
      "cell_type": "markdown",
      "source": [
        "7. Вычислите значение функции:\n",
        "\n",
        "\\begin{align}\n",
        "    y = \\left\\{\n",
        "            \\begin{array}{ll}\n",
        "                x^2, & x > 2; \\\\\n",
        "                2a - 1, & x \\le 2.\n",
        "            \\end{array}\n",
        "        \\right.\n",
        "\\end{align}"
      ],
      "metadata": {
        "id": "AD3exxljuEab"
      }
    },
    {
      "cell_type": "markdown",
      "source": [
        "8. Вычислите значение функции:\n",
        "\n",
        "\\begin{align}\n",
        "    y = \\left\\{\n",
        "            \\begin{array}{ll}\n",
        "                \\cos(2x - 1), & x > 2; \\\\\n",
        "                \\sin(3x + 1), & x \\le 2.\n",
        "            \\end{array}\n",
        "        \\right.\n",
        "\\end{align}"
      ],
      "metadata": {
        "id": "6dZfX7ccuG6m"
      }
    },
    {
      "cell_type": "markdown",
      "source": [
        "9. Вычислите значение функции:\n",
        "\n",
        "\\begin{align}\n",
        "    y = \\left\\{\n",
        "            \\begin{array}{ll}\n",
        "                2x^3 - 2x - 1, & x > 2; \\\\\n",
        "                3x^2 - 2x + 1, & x \\le 2.\n",
        "            \\end{array}\n",
        "        \\right.\n",
        "\\end{align}"
      ],
      "metadata": {
        "id": "lEwdhqyRuJN2"
      }
    },
    {
      "cell_type": "markdown",
      "source": [
        "10. Вычислите значение функции:\n",
        "\n",
        "\\begin{align}\n",
        "    y = \\left\\{\n",
        "            \\begin{array}{ll}\n",
        "                2ax^2 - 1, & x > 1; \\\\\n",
        "                1/a, & x \\le 1.\n",
        "            \\end{array}\n",
        "        \\right.\n",
        "\\end{align}"
      ],
      "metadata": {
        "id": "P4CEc8WUuL-1"
      }
    },
    {
      "cell_type": "markdown",
      "source": [
        "11. Вычислите значение функции:\n",
        "\n",
        "\\begin{align}\n",
        "    y = \\left\\{\n",
        "            \\begin{array}{ll}\n",
        "                a\\sqrt{x} + 1, & x \\ge 0; \\\\\n",
        "                ax - 1, & x < 0.\n",
        "            \\end{array}\n",
        "        \\right.\n",
        "\\end{align}\n"
      ],
      "metadata": {
        "id": "GXw0EF0TuOWL"
      }
    },
    {
      "cell_type": "markdown",
      "source": [
        "12. Вычислите значение функции:\n",
        "\n",
        "\\begin{align}\n",
        "    y = \\left\\{\n",
        "            \\begin{array}{ll}\n",
        "                \\sqrt{x} + a, & x \\ge 0; \\\\\n",
        "                a/x - 1, & x < 0.\n",
        "            \\end{array}\n",
        "        \\right.\n",
        "\\end{align}"
      ],
      "metadata": {
        "id": "n508TlXMuRYe"
      }
    },
    {
      "cell_type": "markdown",
      "source": [
        "13. Вычислите значение функции:\n",
        "\n",
        "\\begin{align}\n",
        "    y = \\left\\{\n",
        "            \\begin{array}{ll}\n",
        "                1/x + a, & x > 0; \\\\\n",
        "                x^2 - 1, & x \\le 0.\n",
        "            \\end{array}\n",
        "        \\right.\n",
        "\\end{align}"
      ],
      "metadata": {
        "id": "g3cnyVQEuTkV"
      }
    },
    {
      "cell_type": "markdown",
      "source": [
        "14. Вычислите значение функции:\n",
        "\n",
        "\\begin{align}\n",
        "    y = \\left\\{\n",
        "            \\begin{array}{ll}\n",
        "                \\cos{x}, & x > \\pi/2; \\\\\n",
        "                \\sin{x}, & x \\le \\pi/2.\n",
        "            \\end{array}\n",
        "        \\right.\n",
        "\\end{align}"
      ],
      "metadata": {
        "id": "jHKm1Up6uV6z"
      }
    },
    {
      "cell_type": "markdown",
      "source": [
        "15. Вычислите значение функции:\n",
        "\n",
        "\\begin{align}\n",
        "    y = \\left\\{\n",
        "            \\begin{array}{ll}\n",
        "                \\sqrt{x - 2}, & x > 2; \\\\\n",
        "                (x - 2)^2 + 1, & x \\le 2.\n",
        "            \\end{array}\n",
        "        \\right.\n",
        "\\end{align}"
      ],
      "metadata": {
        "id": "J_BXmgctuYBy"
      }
    },
    {
      "cell_type": "markdown",
      "source": [
        "#### <font color='LightCoral'> **ЗАДАНИЕ 4.** Циклы."
      ],
      "metadata": {
        "id": "CRGxay6Yuc7F"
      }
    },
    {
      "cell_type": "markdown",
      "source": [
        "1. Даны целые числа $K$ и $N$ ($N>0$). Вывести $N$ раз число $K$."
      ],
      "metadata": {
        "id": "6atQ9bJDuauJ"
      }
    },
    {
      "cell_type": "markdown",
      "source": [
        "2. Даны два целых числа $A$ и $B$ ($A < B$). Вывести в порядке возрастания все целые числа, расположенные между $A$ и $B$ (включая сами числа $A$ и $B$), а также количество $N$ этих чисел.\n"
      ],
      "metadata": {
        "id": "JfVB7MlZujlM"
      }
    },
    {
      "cell_type": "markdown",
      "source": [
        "3. Даны два целых числа $A$ и $B$ ($A < B$). Вывести в порядке убывания все целые числа, расположенные между $A$ и $B$ (не включая числа $A$ и $B$), а также количество $N$ этих чисел."
      ],
      "metadata": {
        "id": "sxgPqVxxulf1"
      }
    },
    {
      "cell_type": "markdown",
      "source": [
        "4. Одна штука некоторого товара стоит 20,4 руб. Напечатать таблицу стоимости для 1, 2, ..., 10 штук этого товара.\n"
      ],
      "metadata": {
        "id": "GLlUV527uopx"
      }
    },
    {
      "cell_type": "markdown",
      "source": [
        "5. Напечатать квадраты всех целых чисел от $A$ до $B$ ($A < B$) с шагом $H$.\n"
      ],
      "metadata": {
        "id": "t-sycTv1uqs6"
      }
    },
    {
      "cell_type": "markdown",
      "source": [
        "6. Напечатать все положительные числа из диапазона от $A$ до $B$ ($A < B$) с шагом $H$.\n"
      ],
      "metadata": {
        "id": "zJTY5-VRute2"
      }
    },
    {
      "cell_type": "markdown",
      "source": [
        "7. Даны два целых числа $A$ и $B$ ($A < B$). Найти сумму всех целых чисел от $A$ до $B$ включительно.\n"
      ],
      "metadata": {
        "id": "f8n0NgDMuv-S"
      }
    },
    {
      "cell_type": "markdown",
      "source": [
        "8. Даны два целых числа $A$ и $B$ ($A < B$). Найти произведение всех целых чисел от $A$ до $B$ включительно.\n"
      ],
      "metadata": {
        "id": "0dh-7jd7ux6P"
      }
    },
    {
      "cell_type": "markdown",
      "source": [
        "9. Даны два целых числа $A$ и $B$ ($A < B$). Найти сумму квадратов всех целых чисел от $A$ до $B$ включительно.\n"
      ],
      "metadata": {
        "id": "D9cqRycquz7a"
      }
    },
    {
      "cell_type": "markdown",
      "source": [
        "10. Дано положительное вещественное число — цена 1 кг конфет. Вывести стоимость 1.2, 1.4, ..., 2 кг конфет.\n"
      ],
      "metadata": {
        "id": "GZE4Er7ju1_v"
      }
    },
    {
      "cell_type": "markdown",
      "source": [
        "11. Дано положительное целое число N. Найти квадрат данного числа, используя для его вычисления следующую формулу:\n",
        "\n",
        "\\begin{align}\n",
        "    N^2 = 1 + 3 + 5 + ... + (2 \\cdot N - 1).\n",
        "\\end{align}\n"
      ],
      "metadata": {
        "id": "rNY-EB13u31y"
      }
    },
    {
      "cell_type": "markdown",
      "source": [
        "12. Дано вещественное число $A$ и положительное целое число $N$. Вывести все целые степени числа $A$ от $1$ до $N$.\n"
      ],
      "metadata": {
        "id": "5BR1OeUju6ag"
      }
    },
    {
      "cell_type": "markdown",
      "source": [
        "13. Дано положительное целое число $N$. Найти наибольшее целое число $K$, квадрат которого не превосходит $N$: $K^2 \\le N$.\n"
      ],
      "metadata": {
        "id": "9ieB0sdyu86Q"
      }
    },
    {
      "cell_type": "markdown",
      "source": [
        "14. Дано целое число $N > 1$. Найти наибольшее целое число $K$, при котором выполняется неравенство $3^K < N$.\n"
      ],
      "metadata": {
        "id": "cVPGwKSXu_H-"
      }
    },
    {
      "cell_type": "markdown",
      "source": [
        "15. Дано целое число $N > 1$ и две вещественные точки на числовой оси: $A$, $B$ ($A<B$). Отрезок $[A, B]$ разбит на $N$ равных отрезков. Вывести $H$ — длину каждого отрезка, а также набор точек $A$, $A + H$, $A + 2H$, $A + 3H$, ..., $B$, образующий разбиение отрезка $[A, B]$.\n"
      ],
      "metadata": {
        "id": "WgUyNWQMvCIt"
      }
    },
    {
      "cell_type": "markdown",
      "source": [
        "#### <font color='LightCoral'> **ЗАДАНИЕ 5.** Циклы."
      ],
      "metadata": {
        "id": "jtrdGrUwvGSW"
      }
    },
    {
      "cell_type": "markdown",
      "source": [
        "1. Для заданного натурального $n$ подсчитать сумму:\n",
        "\n",
        "\\begin{align}\n",
        "    \\frac{1}{2} + \\frac{1}{2^2} + \\frac{1}{2^3} + ... + \\frac{1}{2^n}.\n",
        "\\end{align}"
      ],
      "metadata": {
        "id": "Q-45d3vAvJd6"
      }
    },
    {
      "cell_type": "markdown",
      "source": [
        "2. Для заданного натурального $n$ и действительного $x$ подсчитать сумму:\n",
        "\n",
        "\\begin{align}\n",
        "    \\cos{x} + \\frac{\\cos^2{x}}{2} + \\frac{\\cos^3{x}}{3} + ... + \\frac{\\cos^n{x}}{n}.\n",
        "\\end{align}"
      ],
      "metadata": {
        "id": "KfojP_MHvMQr"
      }
    },
    {
      "cell_type": "markdown",
      "source": [
        "3. Для заданного натурального $n$ подсчитать сумму:\n",
        "\n",
        "\\begin{align}\n",
        "    1 - 3 + 3^2 - 3^3 + ... + (-1)^n3^n.\n",
        "\\end{align}\n"
      ],
      "metadata": {
        "id": "i7CCVOy2vPSM"
      }
    },
    {
      "cell_type": "markdown",
      "source": [
        "4. Для заданного натурального $n$ подсчитать сумму:\n",
        "\n",
        "\\begin{align}\n",
        "    \\frac{1}{\\sin{1}} + \\frac{1}{\\sin{2}} + ... + \\frac{1}{\\sin{n}}.\n",
        "\\end{align}"
      ],
      "metadata": {
        "id": "BULaXuorvSOc"
      }
    },
    {
      "cell_type": "markdown",
      "source": [
        "5. Для заданного натурального $n$ подсчитать сумму:\n",
        "\n",
        "\\begin{align}\n",
        "    1 - 2^3 + 3^3 - ... + (-1)^{n + 1}n^3.\n",
        "\\end{align}"
      ],
      "metadata": {
        "id": "F8fGUBVnvUde"
      }
    },
    {
      "cell_type": "markdown",
      "source": [
        "6. Для заданного натурального $n$ подсчитать сумму:\n",
        "\n",
        "\\begin{align}\n",
        "    \\cos{1} - \\cos{2} + \\cos{3} - ... + (-1)^{n + 1} \\cos{n} .\n",
        "\\end{align}"
      ],
      "metadata": {
        "id": "2eWCg_qRvWte"
      }
    },
    {
      "cell_type": "markdown",
      "source": [
        "7. Для заданного натурального $n$ и действительного $x$ подсчитать сумму:\n",
        "\n",
        "\\begin{align}\n",
        "    x - \\frac{x^2}{2} + \\frac{x^3}{3} - ... + \\frac{(-1)^{n-1}x^n}{n}, \\quad |x|<1.\n",
        "\\end{align}"
      ],
      "metadata": {
        "id": "mVHJY4ksvZtl"
      }
    },
    {
      "cell_type": "markdown",
      "source": [
        "8. Для заданного натурального $n$ подсчитать сумму:\n",
        "\n",
        "\\begin{align}\n",
        "    1! - 2! + 3! - ... + (-1)^{n + 1}n!.\n",
        "\\end{align}\n"
      ],
      "metadata": {
        "id": "A2SB9Puovc7a"
      }
    },
    {
      "cell_type": "markdown",
      "source": [
        "9. Для заданного натурального $n$ и действительного $x$ подсчитать сумму:\n",
        "\n",
        "\\begin{align}\n",
        "    \\sin{x} + \\sin{x^2} + \\sin{x^3} + ... + \\sin{x^n}.\n",
        "\\end{align}"
      ],
      "metadata": {
        "id": "omospO6VvfgT"
      }
    },
    {
      "cell_type": "markdown",
      "source": [
        "10. Для заданного натурального $n$ подсчитать сумму:\n",
        "\n",
        "\\begin{align}\n",
        "    1 + \\frac{1}{2!} + \\frac{1}{3!} + ... + \\frac{1}{n!}.\n",
        "\\end{align}"
      ],
      "metadata": {
        "id": "E_L4q7HkviOu"
      }
    },
    {
      "cell_type": "markdown",
      "source": [
        "11. Для заданного натурального $n$ подсчитать сумму:\n",
        "\n",
        "\\begin{align}\n",
        "    n^2 + (n + 1)^2 + (n + 2)^2 + ... + (2 \\cdot n)^2.\n",
        "\\end{align}"
      ],
      "metadata": {
        "id": "TdS3s2JGvksn"
      }
    },
    {
      "cell_type": "markdown",
      "source": [
        "12. Для заданного натурального $n$ подсчитать сумму:\n",
        "\n",
        "\\begin{align}\n",
        "    1! + 2! + 3! + ... + n!.\n",
        "\\end{align}"
      ],
      "metadata": {
        "id": "3ss1I5Xjvne_"
      }
    },
    {
      "cell_type": "markdown",
      "source": [
        "13. Для заданного натурального $n$ и действительного $x$ подсчитать сумму:\n",
        "\n",
        "\\begin{align}\n",
        "    1 + x + \\frac{x^2}{2!} + \\frac{x^3}{3!} + ... + \\frac{x^n}{n!}.\n",
        "\\end{align}"
      ],
      "metadata": {
        "id": "5e1HULwCvpmQ"
      }
    },
    {
      "cell_type": "markdown",
      "source": [
        "14. Для заданного натурального $n$ и действительного $x$ подсчитать сумму:\n",
        "\n",
        "\\begin{align}\n",
        "    1 - x + x^2 - x^3 + ... + (-1)^nx^n.\n",
        "\\end{align}"
      ],
      "metadata": {
        "id": "MT8Z68Ggvr7Y"
      }
    },
    {
      "cell_type": "markdown",
      "source": [
        "15. Для заданного натурального $n$ и действительного $x$ подсчитать сумму:\n",
        "\n",
        "\\begin{align}\n",
        "    x - \\frac{x^3}{3} + \\frac{x^5}{5} - ... + (-1)^n\\frac{x^{2n + 1}}{2n + 1}, \\quad |x|<1.\n",
        "\\end{align}"
      ],
      "metadata": {
        "id": "spSiFn2avuND"
      }
    },
    {
      "cell_type": "markdown",
      "source": [
        "#### <font color='LightCoral'> **ЗАДАНИЕ 6.** Списки."
      ],
      "metadata": {
        "id": "JJyN-79_JHIz"
      }
    },
    {
      "cell_type": "markdown",
      "source": [
        "1. Дан список, включающий $N$ элементов, и целые числа $K$ и $L$ ($1 ≤ K ≤ L ≤ N$). Найти среднее арифметическое элементов списка с порядковыми номерами от $K$ до $L$ включительно."
      ],
      "metadata": {
        "id": "gSJw8IwMJw_f"
      }
    },
    {
      "cell_type": "markdown",
      "source": [
        "2. Дан список, включающий $N$ элементов, и целые числа $K$ и $L$ ($1 < K ≤ L ≤ N$). Найти сумму всех элементов списка, кроме элементов с порядковыми номерами от $K$ до $L$ включительно."
      ],
      "metadata": {
        "id": "VzBuXVqLKYZA"
      }
    },
    {
      "cell_type": "markdown",
      "source": [
        "3. Дан список, включающий $N$ элементов, и целые числа $K$ и $L$ ($1 < K ≤ L ≤ N$). Найти среднее арифметическое всех элементов списка, кроме элементов с порядковыми номерами от $K$ до $L$ включительно."
      ],
      "metadata": {
        "id": "txStb_slKaQs"
      }
    },
    {
      "cell_type": "markdown",
      "source": [
        "4. Дан список. Вывести вначале все содержащиеся в данном списке четные числа в порядке возрастания их индексов, а затем — все нечетные числа в порядке убывания их индексов."
      ],
      "metadata": {
        "id": "qJP7omX0KeEr"
      }
    },
    {
      "cell_type": "markdown",
      "source": [
        "5. Дан список. Вывести вначале его элементы с четными номерами (в порядке возрастания номеров), а затем — элементы с нечетными номерами (также в порядке возрастания номеров)."
      ],
      "metadata": {
        "id": "wHNJTySJKhXA"
      }
    },
    {
      "cell_type": "markdown",
      "source": [
        "6. Дан список. Найти произведение всех элементов списка, расположенных справа от максимального элементами, не включая максимальный элемент."
      ],
      "metadata": {
        "id": "zsSEMgNOKiMH"
      }
    },
    {
      "cell_type": "markdown",
      "source": [
        "7. Дан список. Найти сумму всех элементов списка, расположенных между его минимальным и максимальным элементами, включая минимальный и максимальный элементы."
      ],
      "metadata": {
        "id": "KhYyOsXCKrNo"
      }
    },
    {
      "cell_type": "markdown",
      "source": [
        "8. Дан список. Обнулить элементы списка, расположенные между его минимальным и максимальным элементами (не включая минимальный и максимальный элементы)."
      ],
      "metadata": {
        "id": "j-4TGMO4Ktn5"
      }
    },
    {
      "cell_type": "markdown",
      "source": [
        "9. Дан список. Увеличить все четные числа, содержащиеся в списке, на заданное число. Если четные числа в списке отсутствуют, то оставить список без изменений."
      ],
      "metadata": {
        "id": "x9wt_wk2KwO5"
      }
    },
    {
      "cell_type": "markdown",
      "source": [
        "10. Дан список. Обнулить все нечетные числа, содержащиеся в списке. Если нечетные числа в списке отсутствуют, то оставить список без изменений."
      ],
      "metadata": {
        "id": "OI3z2uxEKyTW"
      }
    },
    {
      "cell_type": "markdown",
      "source": [
        "11. Дан список. Найти минимальный элемент из его элементов с четными номерами."
      ],
      "metadata": {
        "id": "uE0Fq8BNK0kg"
      }
    },
    {
      "cell_type": "markdown",
      "source": [
        "12. Дан список. Найти номера тех элементов списка, которые больше своего правого соседа, и количество таких элементов. Найденные номера выводить в порядке их возрастания."
      ],
      "metadata": {
        "id": "VW6a1mbRK4Hg"
      }
    },
    {
      "cell_type": "markdown",
      "source": [
        "13. Дан список. Найти два соседних элемента, сумма которых максимальна, и вывести эти элементы в порядке возрастания их индексов."
      ],
      "metadata": {
        "id": "gF3oD6u2K8n2"
      }
    },
    {
      "cell_type": "markdown",
      "source": [
        "14. Дан список. Поменять местами его минимальный и максимальный элементы."
      ],
      "metadata": {
        "id": "pGyA5bY-LBK9"
      }
    },
    {
      "cell_type": "markdown",
      "source": [
        "15. Даны целые числа $N>2$, $A$ и $B$. Сформировать и вывести список размера $N$, первый элемент которого равен $A$, второй равен $B$, а каждый последующий элемент равен сумме всех предыдущих."
      ],
      "metadata": {
        "id": "XLlrAghZLB9g"
      }
    },
    {
      "cell_type": "markdown",
      "source": [
        "#### <font color='LightCoral'> **ЗАДАНИЕ 7.** Сортировка списков."
      ],
      "metadata": {
        "id": "5ASh5cH0JJzO"
      }
    },
    {
      "cell_type": "markdown",
      "source": [
        "1. Дан список. Выбрать из списка все нечетные числа и упорядочить их по убыванию."
      ],
      "metadata": {
        "id": "kNFmWsUSLKO8"
      }
    },
    {
      "cell_type": "markdown",
      "source": [
        "2. Дан список. Выбрать из списка все положительные числа и упорядочить их по возрастанию."
      ],
      "metadata": {
        "id": "xWz-DMvRLVML"
      }
    },
    {
      "cell_type": "markdown",
      "source": [
        "3. Дан список. Выбрать из списка все положительные числа и упорядочить их по убыванию."
      ],
      "metadata": {
        "id": "SOGXQAr9LXQj"
      }
    },
    {
      "cell_type": "markdown",
      "source": [
        "4. Дан список. Выбрать из списка все четные числа и упорядочить их по возрастанию."
      ],
      "metadata": {
        "id": "yghapskVLZda"
      }
    },
    {
      "cell_type": "markdown",
      "source": [
        "5. Дан список. Выбрать из списка все числа больше заданного числа $k$ и упорядочить их по убыванию."
      ],
      "metadata": {
        "id": "8e6Syub1Lc-3"
      }
    },
    {
      "cell_type": "markdown",
      "source": [
        "6. Дан список. Выбрать из списка все числа больше 10 и упорядочить их по возрастанию."
      ],
      "metadata": {
        "id": "6n3e3q-qLgQr"
      }
    },
    {
      "cell_type": "markdown",
      "source": [
        "7. Дан список. Выбрать из списка все числа кратные 5 и упорядочить их по убыванию."
      ],
      "metadata": {
        "id": "ho6RUmw7Lj1G"
      }
    },
    {
      "cell_type": "markdown",
      "source": [
        "8. Дан список. Выбрать из списка все числа меньше заданного числа $k$ и упорядочить их по возрастанию."
      ],
      "metadata": {
        "id": "JSpQ6bzcLmpI"
      }
    },
    {
      "cell_type": "markdown",
      "source": [
        "9. Дан список. Выбрать из списка все числа меньше 15 и упорядочить их по убыванию."
      ],
      "metadata": {
        "id": "Q59Xf5jGLoyS"
      }
    },
    {
      "cell_type": "markdown",
      "source": [
        "10. Дан список. Выбрать из списка все числа кратные 3 и упорядочить их по возрастанию."
      ],
      "metadata": {
        "id": "c5-g9oKGLsCG"
      }
    },
    {
      "cell_type": "markdown",
      "source": [
        "11. Дан список. Выбрать из списка все числа кратные заданному числу $k$ и упорядочить их по убыванию."
      ],
      "metadata": {
        "id": "nW0zHOtoLuPE"
      }
    },
    {
      "cell_type": "markdown",
      "source": [
        "12. Дан список. Выбрать из списка все отрицательные числа и упорядочить их по возрастанию."
      ],
      "metadata": {
        "id": "8TQuX2fcLw_0"
      }
    },
    {
      "cell_type": "markdown",
      "source": [
        "13. Дан список. Выбрать из списка все числа на нечетных позициях и упорядочить эти числа по убыванию."
      ],
      "metadata": {
        "id": "PdDC4sBJLzh5"
      }
    },
    {
      "cell_type": "markdown",
      "source": [
        "14. Дан список. Выбрать из списка все двузначные числа и упорядочить эти числа по возрастанию."
      ],
      "metadata": {
        "id": "hL87MKeBL11k"
      }
    },
    {
      "cell_type": "markdown",
      "source": [
        "15. Дан список. Выбрать из списка все числа на четных позициях и упорядочить эти числа по возрастанию."
      ],
      "metadata": {
        "id": "7gJukV0iL308"
      }
    },
    {
      "cell_type": "markdown",
      "source": [
        "#### <font color='LightCoral'> **ЗАДАНИЕ 8.** Вложенные списки."
      ],
      "metadata": {
        "id": "pSYyv9rQJKeQ"
      }
    },
    {
      "cell_type": "markdown",
      "source": [
        "1. Дана целочисленная матрица размера $M×N$. Найти номер первого из ее столбцов, содержащих только нечетные числа. Если таких столбцов нет, то вывести 0."
      ],
      "metadata": {
        "id": "EfS8-FMLMgK-"
      }
    },
    {
      "cell_type": "markdown",
      "source": [
        "2. Дана матрица размера $M×N$. Преобразовать матрицу, поменяв местами минимальный и максимальный элемент в каждой строке."
      ],
      "metadata": {
        "id": "PCU4fxLyMhHJ"
      }
    },
    {
      "cell_type": "markdown",
      "source": [
        "3. Дана матрица размера $M×N$. Поменять местами строки, содержащие минимальный и максимальный элементы матрицы."
      ],
      "metadata": {
        "id": "u9r1Euh8Mjqs"
      }
    },
    {
      "cell_type": "markdown",
      "source": [
        "4. Дана матрица размера $M×N$. Зеркально отразить ее элементы относительно горизонтальной оси симметрии матрицы (при этом поменяются местами строки с номерами $1$ и $M$, $2$ и $M – 1$ и т.д.)."
      ],
      "metadata": {
        "id": "4VRCT49eMmIv"
      }
    },
    {
      "cell_type": "markdown",
      "source": [
        "5. Дана матрица размера $M×N$. Удалить строку, содержащую минимальный элемент матрицы."
      ],
      "metadata": {
        "id": "V4AkmyBXMojn"
      }
    },
    {
      "cell_type": "markdown",
      "source": [
        "6. Дана матрица размера $M×N$. Удалить столбец, содержащий максимальный элемент матрицы."
      ],
      "metadata": {
        "id": "0ANLcvaNMsbK"
      }
    },
    {
      "cell_type": "markdown",
      "source": [
        "7. Дана матрица размера $M×N$. Зеркально отразить ее элементы относительно вертикальной оси симметрии матрицы (при этом поменяются местами столбцы с номерами $1$ и $N$, $2$ и $N – 1$ и т.д.)."
      ],
      "metadata": {
        "id": "27oSlG6QMuur"
      }
    },
    {
      "cell_type": "markdown",
      "source": [
        "8. Дана матрица размера $M×N$. Продублировать строку матрицы, содержащую ее максимальный элемент."
      ],
      "metadata": {
        "id": "gVc_TU3YSF7F"
      }
    },
    {
      "cell_type": "markdown",
      "source": [
        "9. Дана матрица размера $M×N$. В каждом ее столбце найти количество элементов, больших среднего арифметического всех элементов этого столбца."
      ],
      "metadata": {
        "id": "WfiyT97nSIai"
      }
    },
    {
      "cell_type": "markdown",
      "source": [
        "10. Дана матрица размера $M×N$ ($M$ и $N$ — четные числа). Поменять местами левую верхнюю и правую нижнюю четверти матрицы."
      ],
      "metadata": {
        "id": "fegaH4TiSLIg"
      }
    },
    {
      "cell_type": "markdown",
      "source": [
        "11. Дана матрица размера $M×N$. Для каждой строки матрицы с нечетным номером (1, 3, ...) найти среднее арифметическое ее элементов."
      ],
      "metadata": {
        "id": "XChEDNjgSPpF"
      }
    },
    {
      "cell_type": "markdown",
      "source": [
        "12. Дана матрица размера $M×N$. Найти номер ее строки с наибольшей суммой элементов и вывести данный номер, а также значение наибольшей суммы."
      ],
      "metadata": {
        "id": "_p82vHh2SSV_"
      }
    },
    {
      "cell_type": "markdown",
      "source": [
        "13. Дана матрица размера $M×N$. Перед строкой матрицы, содержащей минимальный элемент матрицы, вставить строку из нулей."
      ],
      "metadata": {
        "id": "NoYUyMmYSU4H"
      }
    },
    {
      "cell_type": "markdown",
      "source": [
        "14. Дана целочисленная матрица размера $M×N$. Найти номер последней из ее строк, содержащих только четные числа. Если таких строк нет, то вывести 0."
      ],
      "metadata": {
        "id": "RwxNroNNSXp3"
      }
    },
    {
      "cell_type": "markdown",
      "source": [
        "15. Дана матрица размера $M×N$. Поменять местами столбец с номером 1 и последний из столбцов, содержащих только положительные элементы. Если требуемых столбцов нет, то вывести матрицу без изменений."
      ],
      "metadata": {
        "id": "wt-kFGNkSaSs"
      }
    },
    {
      "cell_type": "markdown",
      "source": [
        "#### <font color='LightCoral'> **ЗАДАНИЕ 9.** Строки."
      ],
      "metadata": {
        "id": "LOrWCgzgJKqw"
      }
    },
    {
      "cell_type": "markdown",
      "source": [
        "1. Дана строка, состоящая из русских слов, разделенных пробелами (одним или несколькими). Найти количество слов в строке."
      ],
      "metadata": {
        "id": "NWg1dTUeTdF9"
      }
    },
    {
      "cell_type": "markdown",
      "source": [
        "2. Дана строка, состоящая из русских слов, набранных заглавными буквами и разделенных пробелами (одним или несколькими). Найти количество слов, которые начинаются и заканчиваются одной и той же буквой."
      ],
      "metadata": {
        "id": "5TQgmFlNUDzf"
      }
    },
    {
      "cell_type": "markdown",
      "source": [
        "3. Дана строка, состоящая из русских слов, набранных заглавными буквами и разделенных пробелами (одним или несколькими). Найти количество слов, которые содержат хотя бы одну букву «А»."
      ],
      "metadata": {
        "id": "mWrtzEoCUGlX"
      }
    },
    {
      "cell_type": "markdown",
      "source": [
        "4. Дана строка, состоящая из русских слов, разделенных пробелами (одним или несколькими). Найти длину самого короткого слова."
      ],
      "metadata": {
        "id": "ut2dBlL-UMrK"
      }
    },
    {
      "cell_type": "markdown",
      "source": [
        "5. Дана строка, состоящая из русских слов, разделенных пробелами (одним или несколькими). Вывести строку, содержащую эти же слова, разделенные одним пробелом и расположенные в обратном порядке."
      ],
      "metadata": {
        "id": "ZVKsZUAbUQy6"
      }
    },
    {
      "cell_type": "markdown",
      "source": [
        "6. Дана строка, состоящая из русских слов, набранных заглавными буквами и разделенных пробелами (одним или несколькими). Вывести строку, содержащую эти же слова, разделенные одним пробелом и расположенные в алфавитном порядке."
      ],
      "metadata": {
        "id": "bt9OoLHZUTNB"
      }
    },
    {
      "cell_type": "markdown",
      "source": [
        "7. Дан символ `C` и строки `S`, `S0`. Перед каждым вхождением символа `C` в строку `S` вставить строку `S0`."
      ],
      "metadata": {
        "id": "IFihu9BBUWpL"
      }
    },
    {
      "cell_type": "markdown",
      "source": [
        "8. Дана строка-предложение с избыточными пробелами между словами. Преобразовать ее так, чтобы между словами был ровно один пробел."
      ],
      "metadata": {
        "id": "e1POnozjUZ5e"
      }
    },
    {
      "cell_type": "markdown",
      "source": [
        "9. Дана строка. Подсчитать общее количество содержащихся в ней строчных латинских и русских букв."
      ],
      "metadata": {
        "id": "r90NQqcvUcTz"
      }
    },
    {
      "cell_type": "markdown",
      "source": [
        "10. Дана строка, состоящая из русских слов, разделенных пробелами (одним или несколькими). Найти длину самого длинного слова."
      ],
      "metadata": {
        "id": "DUa6zaoTUfMk"
      }
    },
    {
      "cell_type": "markdown",
      "source": [
        "11. Дана строка-предложение. Зашифровать ее, поместив вначале все символы, расположенные на четных позициях строки, а затем, в обратном порядке, все символы, расположенные на нечетных позициях (например, строка `Программа` превратится в `ргамамроП`)."
      ],
      "metadata": {
        "id": "3WY_9j1PUhlV"
      }
    },
    {
      "cell_type": "markdown",
      "source": [
        "12. Дана непустая строка `S` и положительное целое число `N`. Вывести строку, содержащую символы строки `S`, между которыми вставлено по `N` символов `*` (звездочка)."
      ],
      "metadata": {
        "id": "1GFnPNEWUnz9"
      }
    },
    {
      "cell_type": "markdown",
      "source": [
        "13. Дана строка, состоящая из русских слов, разделенных пробелами (одним или несколькими). Вывести строку, содержащую эти же слова, разделенные одним символом `.` (точка). В конце строки точку не ставить."
      ],
      "metadata": {
        "id": "cv3IcVcEUq25"
      }
    },
    {
      "cell_type": "markdown",
      "source": [
        "14. Дана строка, содержащая полное имя файла, то есть имя диска, список каталогов (путь), собственно имя и расширение (например, `d:\\ivanov\\primer\\prog.py`). Выделить из этой строки имя файла (без расширения)."
      ],
      "metadata": {
        "id": "2yK-mdTAUu1a"
      }
    },
    {
      "cell_type": "markdown",
      "source": [
        "15. Дана строка, состоящая из русских слов, разделенных пробелами (одним или несколькими). Вывести самое длинное слово в предложении. Если таких слов несколько, то вывести последнее из них."
      ],
      "metadata": {
        "id": "NspViBIrUxeS"
      }
    },
    {
      "cell_type": "markdown",
      "source": [
        "#### <font color='LightCoral'> **ЗАДАНИЕ 10.** Строки."
      ],
      "metadata": {
        "id": "sJf0cye_JKzu"
      }
    },
    {
      "cell_type": "markdown",
      "source": [
        "1. Подсчитайте количество символов (частоты символов) в заданной с клаиватуры строке."
      ],
      "metadata": {
        "id": "0UnYa89lU2Or"
      }
    },
    {
      "cell_type": "markdown",
      "source": [
        "2. Получите строку, состоящую из первых двух и последних двух символов заданной строки. Если длина строки меньше двух, то выведите соответствующее сообщение."
      ],
      "metadata": {
        "id": "L2xvLZWFVFei"
      }
    },
    {
      "cell_type": "markdown",
      "source": [
        "3. Получите строку из заданной, в которой все вхождения ее первого символа были изменены на `$`, кроме самого первого символа.\n"
      ],
      "metadata": {
        "id": "GCLd8pVaVIMz"
      }
    },
    {
      "cell_type": "markdown",
      "source": [
        "4. Получите одну строку из двух заданных строк, разделенных пробелом, и поменяте местами первые два символа каждой строки."
      ],
      "metadata": {
        "id": "g1PCxXGwVN0S"
      }
    },
    {
      "cell_type": "markdown",
      "source": [
        "5. Добавьте `ing` в конце заданной строки (длина должна быть не менее трех). Если данная строка уже заканчивается на `ing`, добавьте вместо этого `ly`. Если длина заданной строки меньше трех, оставьте ее без изменений.\n"
      ],
      "metadata": {
        "id": "mzYotYBRVSDj"
      }
    },
    {
      "cell_type": "markdown",
      "source": [
        "6. Удалите из непустой строки каждый $n$-й символ, начиная с первого.\n"
      ],
      "metadata": {
        "id": "ZWgRtFc3VeFy"
      }
    },
    {
      "cell_type": "markdown",
      "source": [
        "7. Измените заданную строку на новую строку, в которой первый и последний символы поменяны местами."
      ],
      "metadata": {
        "id": "ozcFQk-9VkDw"
      }
    },
    {
      "cell_type": "markdown",
      "source": [
        "8. Удалите символы, которые имеют нечетные значения индексов в заданной строке."
      ],
      "metadata": {
        "id": "gsbQ02BjVnvy"
      }
    },
    {
      "cell_type": "markdown",
      "source": [
        "9. Дана строка-предложение. Подсчитайте вхождение каждого слова в данное предложение."
      ],
      "metadata": {
        "id": "MAf76AygVrDr"
      }
    },
    {
      "cell_type": "markdown",
      "source": [
        "10. Переверните заданную строку в обратном порядке, если ее длина кратна четырем."
      ],
      "metadata": {
        "id": "HmE0XQWVVtaE"
      }
    },
    {
      "cell_type": "markdown",
      "source": [
        "11. Переведите в заданной строке все буквы в верхний регистр, если она содержит не менее двух символов верхнего регистра в первых четырех символах."
      ],
      "metadata": {
        "id": "xCZjZryvVwu6"
      }
    },
    {
      "cell_type": "markdown",
      "source": [
        "12. Дана строка-предложение. Зашифровать ее, выполнив циклическую замену каждой буквы на следующую за ней в алфавите и сохранив при этом регистр букв («A» перейдет в «B», «a» — в «b», «B» — в «D», «z» — в «a» и т. д.). Знаки препинания и пробелы не изменять."
      ],
      "metadata": {
        "id": "DuLKCJCLVzej"
      }
    },
    {
      "cell_type": "markdown",
      "source": [
        "13. Найти первый неповторяющийся символ в заданной строке."
      ],
      "metadata": {
        "id": "AVwMdt5lV5Xp"
      }
    },
    {
      "cell_type": "markdown",
      "source": [
        "14. Перевести в верхний регистр первую и последнюю буквы каждого слова заданной строки."
      ],
      "metadata": {
        "id": "w5p6H7viV791"
      }
    },
    {
      "cell_type": "markdown",
      "source": [
        "15. Дана строка, содержащая цифры и строчные латинские буквы. Если буквы в строке упорядочены по алфавиту, то вывести 0; в противном случае вывести номер первого символа строки, нарушающего алфавитный порядок."
      ],
      "metadata": {
        "id": "NP26gE6hV-KX"
      }
    },
    {
      "cell_type": "markdown",
      "source": [
        "#### <font color='LightCoral'> **ЗАДАНИЕ 11.** Словари."
      ],
      "metadata": {
        "id": "yUJ1yoYFJLRx"
      }
    },
    {
      "cell_type": "markdown",
      "source": [
        "1. Создайте программу, которая выполняет следующие действия:</br>а) Возвращает словарь, отсортированный по значениям в порядке возрастания и убывания. _Пример_: `{1:2, 3:4, 4:3, 2:1, 0:0}` → `{0:0, 2:1, 1:2, 4:3, 3:4}`.</br>б) Объединяет два словаря, при этом суммирует значения для одинаковых ключей. _Пример_: `{1:2, 3:4}` и `{3:5, 6:7}` → `{1:2, 3:9, 6:7}`.</br>в) Проверяет наличие определенных ключей в словаре. _Пример_: `{1:2, 3:4}` и `[1, 3]` → `True`."
      ],
      "metadata": {
        "id": "h7VbNulWWT2C"
      }
    },
    {
      "cell_type": "markdown",
      "source": [
        "2. Создайте программу, которая выполняет следующие действия:</br>а) Добавляет новый ключ в словарь. _Пример_: `{1:2, 3:4}`, `5`, `6` → `{1:2, 3:4, 5:6}`.</br>б) Выводит все уникальные значения из словаря. _Пример_: `{1:2, 3:4, 5:2}` → `{2,4}`.</br>в) Подсчитывает общее количество элементов в списках, которые являются значениями в словаре. _Пример_: `{1:[2,3,4], 3:[5,6,7], 5:[8,9,0]}` → `9`."
      ],
      "metadata": {
        "id": "e-cbFiHxWVCn"
      }
    },
    {
      "cell_type": "markdown",
      "source": [
        "3. Создайте программу, которая выполняет следующие действия:</br>а) Объединяет несколько словарей в один новый словарь. _Пример_: `{1:2}`, `{3:4}`, `{5:6}` → `{1:2, 3:4, 5:6}`.</br>б) Возвращает словарь, отсортированный по значениям. _Пример_: `{1:2, 3:4, 4:3, 2:1, 0:0}` → `{0:0, 2:1, 1:2, 4:3, 3:4}`.</br>в) Очищает списки, которые являются значениями в словаре. _Пример_: `{1:[2,3,4], 3:[5,6,7], 5:[8,9,0]}` → `{1:[], 3:[], 5:[]}`."
      ],
      "metadata": {
        "id": "--nBg9bIWbDl"
      }
    },
    {
      "cell_type": "markdown",
      "source": [
        "4. Создайте программу, которая выполняет следующие действия:</br>а) Проверяет наличие заданного ключа в словаре. _Пример_: `{1:2, 3:4}` и `[1, 3]` → `True`.</br>б) Генерирует и выводит все возможные комбинации букв, используя каждую букву из значений другого ключа в словаре. _Пример_: `{1: 'abc'}`, `1` → `['abc', 'acb', 'bac', 'bca', 'cab', 'cba']`.</br>в) Заменяет каждое значение в словаре его средним значением. _Пример_: `{1:[2,3,4], 3:[5,6,7], 5:[8,9,0]}` → `{1:3.0, 3:6.0, 5:5.7}`."
      ],
      "metadata": {
        "id": "q1fuU8DvWej_"
      }
    },
    {
      "cell_type": "markdown",
      "source": [
        "5. Создайте программу, которая выполняет следующие действия:</br>а) Проходит по всем элементам словаря с использованием цикла `for`. _Пример_: `{1:2, 3:4, 5:6}` → `1: 2`, `3: 4`, `5: 6`.</br>б) Находит и выводит три наибольших значения из словаря. _Пример_: `{1:2, 3:4, 5:6}` → `[6, 4, 2]`.</br>в) Сравнивает и сопоставляет значения одинаковых ключей в двух словарях. _Пример_: `{1:2, 3:4}` и `{1:3, 3:4}` → `{1:(2, 3), 3:(4, 4)}`."
      ],
      "metadata": {
        "id": "ywNqC0b9Whe8"
      }
    },
    {
      "cell_type": "markdown",
      "source": [
        "6. Создайте программу, которая выполняет следующие действия:</br>а) Создает и выводит словарь, где каждый ключ — это число от 1 до $n$, а соответствующее ему значение — это квадрат этого числа. _Пример_: `5` → `{1:1, 2:4, 3:9, 4:16, 5:25}`.</br>б) Объединяет значения из списка словарей в один список. _Пример_: `[{1:2}, {3:4}, {5:6}]` → `[2, 4, 6]`.</br>в) Удаляет все пустые элементы из заданного словаря. _Пример_: `{1:'', 2:'abc', 3:None}` → `{2:'abc'}`."
      ],
      "metadata": {
        "id": "2USvbWWiWkK1"
      }
    },
    {
      "cell_type": "markdown",
      "source": [
        "7. Создайте программу, которая выполняет следующие действия:</br>а) Создает и выводит на печать словарь, в котором ключами являются числа от 1 до 15, а значениями — квадраты этих чисел; `{1:1, 2:4, 3:9, 4:16, 5:25, 6:36, 7:49, 8:64, 9:81, 10:100, 11:121, 12:144, 13:169, 14:196, 15:225}`.</br>б) Создает словарь из заданной строки, где каждый символ строки является ключом, а его значение — количество раз, которое этот символ встречается в строке. _Пример_: `\"hello world\"` → `{'h':1, 'e':1, 'l':3, 'o':2, ' ':1, 'w':1, 'r':1, 'd':1}`.</br>в) Отфильтровывает словарь, оставляя только определенные значения. _Пример_: `{'a':1, 'b':2, 'c':3, 'd':4}` → `{'c':3, 'd':4}`."
      ],
      "metadata": {
        "id": "mx5bcEwDWmu6"
      }
    },
    {
      "cell_type": "markdown",
      "source": [
        "8. Создайте программу, которая выполняет следующие действия:</br>а) Объединяет два заданных словаря в один. _Пример_: `{'a':1, 'b':2}, {'c':3, 'd':4}` → `{'a': 1, 'b': 2, 'c': 3, 'd': 4}`.</br>б) Выводит содержимое словаря в виде таблицы. _Пример_: `{'a':1, 'b':2, 'c':3, 'd':4}` → </br>`a 1`</br>`b 2`</br>`c 3`</br>`d 4`.</br>в) Преобразует несколько заданных списков в словарь, где каждый список является значением отдельного ключа. _Пример_: `[1, 2, 3]`, `[4, 5, 6]` → `{'key1': [1, 2, 3], 'key2': [4, 5, 6]}`."
      ],
      "metadata": {
        "id": "967bTZ-FWpVb"
      }
    },
    {
      "cell_type": "markdown",
      "source": [
        "9. Создайте программу, которая выполняет следующие действия:</br>а) Обходит все ключи и значения в заданном словаре с использованием цикла for. _Пример_: `{'a':1, 'b':2, 'c':3, 'd':4}` → </br>`key: a, value: 1`</br>`key: b, value: 2`</br>`key: c, value: 3`</br>`key: d, value: 4`.</br>б) Вычисляет сумму значений, связанных с определенным ключом, в списке словарей. _Пример_: `[{'a': 1}, {'a': 2}, {'a': 3}, {'b': 1}]` → `6`.</br>в) Отфильтровывает данные о росте и весе учащихся, хранящиеся в словаре. _Пример_: `{'Иван': {'рост':170, 'вес':70}, 'Михаил': {'рост':180, 'вес':75}}` → `{'Иван': {'рост': 170}, 'Михаил': {'рост': 180}}`."
      ],
      "metadata": {
        "id": "jw65N-kIWsEx"
      }
    },
    {
      "cell_type": "markdown",
      "source": [
        "10. Создайте программу, которая выполняет следующие действия:</br>а) Вычисляет сумму всех значений в заданном словаре. _Пример_: `{'a':1, 'b':2, 'c':3, 'd':4}` → `10`.</br>б) Преобразует заданный список в словарь, где каждый элемент списка становится ключом вложенного словаря. _Пример_: `['a', 'b', 'c']` → `{'a': {}, 'b': {}, 'c': {}}`.</br>в) Проверяет, являются ли все значения в словаре одинаковыми. _Пример_: `{'a':1, 'b':1, 'c':1}` → `True`."
      ],
      "metadata": {
        "id": "heyk6cxjWvFP"
      }
    },
    {
      "cell_type": "markdown",
      "source": [
        "11. Создайте программу, которая выполняет следующие действия:</br>а) Перемножает все значения в заданном словаре. _Пример_: `{'a':1, 'b':2, 'c':3, 'd':4}` → `24`.</br>б) Сортирует список значений каждого ключа в словаре в алфавитном порядке. _Пример_: `{'a':['c', 'b', 'a'], 'b':['c', 'b', 'a']}` → `{'a': ['a', 'b', 'c'], 'b': ['a', 'b', 'c']}`.</br>в) Создает словарь, где каждый ключ связан с списком значений, сгруппированных из заданной последовательности пар ключ-значение. _Пример_: `[('a', 1), ('b', 2), ('a', 3), ('b', 4)]` → `{'a': [1, 3], 'b': [2, 4]}`"
      ],
      "metadata": {
        "id": "q6GGvekZWygN"
      }
    },
    {
      "cell_type": "markdown",
      "source": [
        "12. Создайте программу, которая выполняет следующие действия:</br>а) Удаляет заданный ключ из словаря. _Пример_: `{'a':1, 'b':2, 'c':3}` → `{'a': 1, 'c': 3}`.</br>б) Удаляет пробелы из всех ключей в словаре. _Пример_: `{' a ':1, ' b ':2, ' c ':3}` → `{'a': 1, 'b': 2, 'c': 3}`.</br>в) Преобразует заданный словарь списков в список словарей. _Пример_: `{'a': [1, 2], 'b': [3, 4]}` → `[{'a': 1}, {'a': 2}, {'b': 3}, {'b': 4}]`."
      ],
      "metadata": {
        "id": "rc3bDMOxW1XH"
      }
    },
    {
      "cell_type": "markdown",
      "source": [
        "13. Создайте программу, которая выполняет следующие действия:</br>а) Преобразует два заданных списка в словарь, где один список будет ключами, а другой — значениями. _Пример_: `keys = ['a', 'b', 'c']`, `values = [1, 2, 3]` → `{'a': 1, 'b': 2, 'c': 3}`.</br>б) Определяет три наиболее дорогих товара в заданном списке товаров магазина. _Пример_: `items = [{'name': 'item1', 'price': 10}, {'name': 'item2', 'price': 50}, {'name': 'item3', 'price': 30}, {'name': 'item4', 'price': 40}]` → `[{'name': 'item2', 'price': 50}, {'name': 'item4', 'price': 40}, {'name': 'item3', 'price': 30}]`.</br>в) Удаляет определенный словарь из предоставленного списка словарей. _Пример_: `[{'a': 1}, {'b': 2}, {'c': 3}]`, `{'b': 2}` → `[{'a': 1}, {'c': 3}]`."
      ],
      "metadata": {
        "id": "qPBGeE1IW3fK"
      }
    },
    {
      "cell_type": "markdown",
      "source": [
        "14. Создайте программу, которая выполняет следующие действия:</br>а) Сортирует элементы заданного словаря по ключам. _Пример_: `{'b': 1, 'a': 2, 'c': 3}` → `{'a': 2, 'b': 1, 'c': 3}`.</br>б) Извлекает и отображает ключ, значение и элемент из указанного словаря. _Пример_: `{'a': 1, 'b': 2, 'c': 3}` → `key: a, value: 1, item: (a, 1)` и т.д.</br>в) Преобразует строковые значения в указанном словаре в числовые значения (целые числа или числа с плавающей точкой). _Пример_: `{'a': '1', 'b': '2', 'c': '3.0'}` → `{'a': 1, 'b': 2, 'c': 3.0}`."
      ],
      "metadata": {
        "id": "P7o0iOJbW5vs"
      }
    },
    {
      "cell_type": "markdown",
      "source": [
        "15. Создайте программу, которая выполняет следующие действия:</br>а) Определяет и отображает максимальное и минимальное значение в предоставленном словаре. _Пример_: `{'a': 1, 'b': 2, 'c': 3}` → `max: 3`, `min: 1`.</br>б) Выводит на печать ключи и значения заданного словаря, каждый в отдельной строке. _Пример_: `{'a': 1, 'b': 2, 'c': 3}` → `key: a, value: 1` и т.д.</br>в) Создайте словарь с ключами `x`, `y` и `z`, где каждому ключу соответствует список значений от 11 до 20, от 21 до 30 и от 31 до 40 соответственно. Получите доступ и отобразите пятое значение каждого из этих ключей. _Пример_: `{'x': [11, 12, 13, 14, 15, 16, 17, 18, 19, 20], 'y': [21, 22, 23, 24, 25, 26, 27, 28, 29, 30], 'z': [31, 32, 33, 34, 35, 36, 37, 38, 39, 40]}` → `пятый элемент из x: 15` и т.д."
      ],
      "metadata": {
        "id": "XBwMiu-8W8hr"
      }
    },
    {
      "cell_type": "markdown",
      "source": [
        "#### <font color='LightCoral'> **ЗАДАНИЕ 12.** Кортежи."
      ],
      "metadata": {
        "id": "RBeJ_jewJLc7"
      }
    },
    {
      "cell_type": "markdown",
      "source": [
        "1. Разработайте программу, которая:</br>а) создает кортеж из строк, введенных пользователем;</br>б) преобразует этот кортеж в словарь, где каждая строка становится ключом, а значение — длиной строки, учитывая только буквы верхнего регистра."
      ],
      "metadata": {
        "id": "cnqDTixVXJPv"
      }
    },
    {
      "cell_type": "markdown",
      "source": [
        "2. Разработайте программу, которая:</br>а) создает кортеж, содержащий различные типы данных (строки, числа, списки и т. д.);</br>б) распаковывает список кортежей, содержащих различные типы данных, в отдельные списки, сортируя их по типу данных."
      ],
      "metadata": {
        "id": "OsAcKDIlXMRS"
      }
    },
    {
      "cell_type": "markdown",
      "source": [
        "3. Разработайте программу, которая:</br>а) создает кортеж из чисел, введенных пользователем, и выводит на экран первый элемент;</br>б) переворачивает элементы кортежа в обратном порядке и выводит результат, удаляя все числа, кратные 3."
      ],
      "metadata": {
        "id": "TrqZ_QCRXPtJ"
      }
    },
    {
      "cell_type": "markdown",
      "source": [
        "4. Разработайте программу, которая:</br>а) распаковывает кортеж в несколько переменных и выводит их на экран;</br>б) преобразует список кортежей в словарь, где каждый кортеж становится парой ключ-значение, сортируя словарь по значениям."
      ],
      "metadata": {
        "id": "TV8K37wsXSjP"
      }
    },
    {
      "cell_type": "markdown",
      "source": [
        "5. Разработайте программу, которая:</br>а) добавляет элемент, введенный пользователем, в уже существующий кортеж;</br>б) выводит на экран форматированный кортеж, где каждый элемент представлен в виде строки с обратной последовательностью символов."
      ],
      "metadata": {
        "id": "IpPkCE-QXVOx"
      }
    },
    {
      "cell_type": "markdown",
      "source": [
        "6. Разработайте программу, которая:</br>а) преобразует кортеж в строку с использованием разделителя, введенного пользователем;</br>б) заменяет последний элемент в каждом кортеже в списке кортежей на значение, введенное пользователем, только если последний элемент является числом."
      ],
      "metadata": {
        "id": "laqk93PPXb1O"
      }
    },
    {
      "cell_type": "markdown",
      "source": [
        "7. Разработайте программу, которая:</br>а) выводит на экран четвертый элемент кортежа с начала и четвертый элемент с конца;</br>б) удаляет все пустые кортежи из списка кортежей, заменяя их на кортежи, содержащие случайные числа."
      ],
      "metadata": {
        "id": "oL2iDYklXfHJ"
      }
    },
    {
      "cell_type": "markdown",
      "source": [
        "8. Разработайте программу, которая:</br>а) создает кортеж словарей, где каждый словарь содержит данные, введенные пользователем;</br>б) сортирует кортеж по элементу, являющемуся числом с плавающей точкой, и выводит результат в обратном порядке."
      ],
      "metadata": {
        "id": "mLGpStwDXhYv"
      }
    },
    {
      "cell_type": "markdown",
      "source": [
        "9. Разработайте программу, которая:</br>а) ищет и выводит повторяющиеся элементы кортежа;</br>б) подсчитывает количество элементов в списке до тех пор, пока не встретится кортеж, и выводит сумму всех найденных элементов."
      ],
      "metadata": {
        "id": "FO8R687PXj6e"
      }
    },
    {
      "cell_type": "markdown",
      "source": [
        "10. Разработайте программу, которая:</br>а) проверяет, содержит ли кортеж элемент, заданный пользователем, и выводит количество его вхождений;</br>б) преобразует список строк, введенных пользователем, в кортеж, удаляя все повторяющиеся элементы."
      ],
      "metadata": {
        "id": "ymPr0S5WXnSH"
      }
    },
    {
      "cell_type": "markdown",
      "source": [
        "11. Разработайте программу, которая:</br>а) преобразует список, введенный пользователем, в кортеж;</br>б) перемножает все числа заданного кортежа и выводит результат, учитывая только числа, кратные 2."
      ],
      "metadata": {
        "id": "CNF0s4f8Xp5M"
      }
    },
    {
      "cell_type": "markdown",
      "source": [
        "12. Разработайте программу, которая:</br>а) удаляет из кортежа элемент, заданный пользователем;</br>б) вычисляет среднее значение чисел в каждом кортеже в заданном кортеже кортежей, учитывая только числа, большие 5."
      ],
      "metadata": {
        "id": "SY4yQXUMXsP5"
      }
    },
    {
      "cell_type": "markdown",
      "source": [
        "13. Разработайте программу, которая:</br>а) выводит на экран срез кортежа, заданный пользователем, удаляя все элементы, являющиеся строками;</br>б) преобразует кортеж строковых значений в кортеж целочисленных значений, удаляя все отрицательные числа."
      ],
      "metadata": {
        "id": "k9ahnhMkXuyR"
      }
    },
    {
      "cell_type": "markdown",
      "source": [
        "14. Разработайте программу, которая:</br>а) ищет порядковый номер заданного пользователем элемента кортежа, учитывая только элементы, являющиеся числами;</br>б) преобразует заданный кортеж положительных целых чисел в одно большое целое число, учитывая только числа, кратные 3."
      ],
      "metadata": {
        "id": "0syx_taUXxaC"
      }
    },
    {
      "cell_type": "markdown",
      "source": [
        "15. Разработайте программу, которая:</br>а) определяет длину кортежа и выводит ее на экран, учитывая только элементы, являющиеся строками;</br>б) проверяет, присутствует ли указанный пользователем элемент в кортеже кортежей, и выводит количество его вхождений."
      ],
      "metadata": {
        "id": "i_iqTa_LXz-h"
      }
    },
    {
      "cell_type": "markdown",
      "source": [
        "#### <font color='LightCoral'> **ЗАДАНИЕ 13.** Множества."
      ],
      "metadata": {
        "id": "J8W2WrivJLmB"
      }
    },
    {
      "cell_type": "markdown",
      "source": [
        "1. Примените структуру данных множества для решения следующих задач:</br>а) Создать множества, содержащие встречающиеся в заданной последовательности символов цифры и знаки арифметических операций, а также буквы от «A» до «F» и от «X» до «Z».</br>б) В магазине есть 20 различных товаров, каждый из которых имеет свой уникальный код. Необходимо написать программу, которая будет определять, какие товары отсутствуют в заданном списке кодов товаров."
      ],
      "metadata": {
        "id": "gEu2WbRobxso"
      }
    },
    {
      "cell_type": "markdown",
      "source": [
        "2. Примените структуру данных множества для решения следующих задач:</br>а) Используя множества, определить количество цифр и знаков «+», «–», «*» в пользовательском вводе.</br>б) Даны два списка чисел. Необходимо определить, какие элементы присутствуют в обоих списках и вывести их на экран."
      ],
      "metadata": {
        "id": "WN2-QfjdbzEJ"
      }
    },
    {
      "cell_type": "markdown",
      "source": [
        "3. Примените структуру данных множества для решения следующих задач:</br>а) Сформировать множество строчных латинских букв из пользовательского ввода и подсчитать количество знаков препинания в этом вводе.</br>б) Даны два множества $A$ и $B$, содержащих некоторые элементы. Необходимо определить, является ли множество $A$ подмножеством множества $B$."
      ],
      "metadata": {
        "id": "P3HDtKYwcAXW"
      }
    },
    {
      "cell_type": "markdown",
      "source": [
        "4. Примените структуру данных множества для решения следующих задач:</br>а) Используя множества, определить общие буквы для трёх заданных предложений.</br>б) В базе данных содержится информация о студентах двух университетов. Каждый студент имеет уникальный идентификационный номер и список предметов, которые он изучает. Необходимо написать программу, которая будет определять, какие предметы изучают только студенты одного университета."
      ],
      "metadata": {
        "id": "9nnDozRqcBNA"
      }
    },
    {
      "cell_type": "markdown",
      "source": [
        "5. Примените структуру данных множества для решения следующих задач:</br>а) Используя множества, найти наибольшую цифру среди трёх заданных целых чисел.</br>б) Даны два множества $A$ и $B$, содержащих некоторые элементы. Необходимо определить, какие элементы присутствуют только в одном из множеств (исключая общие элементы и вывести их на экран)."
      ],
      "metadata": {
        "id": "rJ-alxKfcEQm"
      }
    },
    {
      "cell_type": "markdown",
      "source": [
        "6. Примените структуру данных множества для решения следующих задач:</br>а) Используя множества, подсчитать количество уникальных цифр в заданной строке и вывести их.</br>б) В базе данных содержится информация о покупках пользователей интернет-магазина. Каждая покупка имеет уникальный номер и список купленных товаров. Необходимо написать программу, которая будет определять, какие товары были куплены только одним пользователем и выводить их на экран."
      ],
      "metadata": {
        "id": "yDl5w-lVcGoG"
      }
    },
    {
      "cell_type": "markdown",
      "source": [
        "7. Примените структуру данных множества для решения следующих задач:</br>а) Используя множества, определить уникальные буквы для трёх заданных предложений.</br>б) Даны два множества $A$ и $B$, содержащих некоторые элементы. Необходимо определить, являются ли эти множества непересекающимися (то есть не имеют общих элементов)."
      ],
      "metadata": {
        "id": "XVvSC76McIj3"
      }
    },
    {
      "cell_type": "markdown",
      "source": [
        "8. Примените структуру данных множества для решения следующих задач:</br>а) Используя множества, проверить, можно ли составить третью строку из символов первых двух строк.</br>б) Дан список сотрудников компании, каждый из которых имеет уникальный идентификационный номер и список навыков, которыми он обладает. Необходимо определить, какие навыки есть только у одного сотрудника."
      ],
      "metadata": {
        "id": "z6cj_Gi1cLfG"
      }
    },
    {
      "cell_type": "markdown",
      "source": [
        "9. Примените структуру данных множества для решения следующих задач:</br>а) Используя множества, вывести все уникальные строчные русские гласные буквы из заданного текста в алфавитном порядке.</br>б) В базе данных содержится информация о продуктах в интернет-магазине. Каждый продукт имеет уникальный идентификационный номер и список категорий, к которым он относится. Необходимо написать программу, которая будет определять, в каких категориях есть только один продукт."
      ],
      "metadata": {
        "id": "tn_-w9eTcOAs"
      }
    },
    {
      "cell_type": "markdown",
      "source": [
        "10. Примените структуру данных множества для решения следующих задач:</br>а) Используя множества, вывести все уникальные цифры из десятичной записи заданного числа в возрастающем порядке.</br>б) Даны два множества $A$ и $B$, содержащих некоторые элементы. Необходимо определить, является ли множество $A$ строгим подмножеством множества $B$ (то есть все элементы множества $A$ также присутствуют в множестве $B$, но множество $B$ содержит дополнительные элементы)."
      ],
      "metadata": {
        "id": "FiF5B0X9cQR7"
      }
    },
    {
      "cell_type": "markdown",
      "source": [
        "11. Примените структуру данных множества для решения следующих задач:</br>а) Используя множества, определить, каких букв больше в заданном тексте — гласных или согласных.</br>б) В базе данных содержится информация о заказах в интернет-магазине. Каждый заказ имеет уникальный номер и список товаров, которые были заказаны. Необходимо написать программу, которая будет определять, какие товары были заказаны только в определенный день."
      ],
      "metadata": {
        "id": "xORI-XudcSRm"
      }
    },
    {
      "cell_type": "markdown",
      "source": [
        "12. Примените структуру данных множества для решения следующих задач:</br>а) Используя множества, вывести все цифры, которые не встречаются в записи заданного натурального числа, в возрастающем порядке.</br>б) Даны два множества $A$ и $B$, содержащих некоторые элементы. Необходимо определить, является ли множество $A$ надмножеством множества $B$ (то есть все элементы множества $B$ также присутствуют в множестве $A$, но множество $A$ может содержать дополнительные элементы)."
      ],
      "metadata": {
        "id": "q3EXZ9jzcV5K"
      }
    },
    {
      "cell_type": "markdown",
      "source": [
        "13. Примените структуру данных множества для решения следующих задач:</br>а) Создать программу, которая удалит из первого множества все элементы, которые пересекаются со вторым множеством.</br>б) В базе данных содержится информация о покупках пользователей интернет-магазина. Каждая покупка имеет уникальный номер и список купленных товаров. Необходимо написать программу, которая будет определять, какие товары были куплены хотя бы одним пользователем."
      ],
      "metadata": {
        "id": "OCdcArjLcXFG"
      }
    },
    {
      "cell_type": "markdown",
      "source": [
        "14. Примените структуру данных множества для решения следующих задач:</br>а) Используя множества, вывести все согласные буквы, которые не встречаются в заданном тексте, в алфавитном порядке.</br>б) Даны два множества $A$ и $B$, содержащих некоторые элементы. Необходимо определить, являются ли эти множества равными (то есть содержат одни и те же элементы)."
      ],
      "metadata": {
        "id": "jrd7x47RcZ4i"
      }
    },
    {
      "cell_type": "markdown",
      "source": [
        "15. Примените структуру данных множества для решения следующих задач:</br>а) Проверить, имеют ли два заданных множества общие элементы.</br>б) В базе данных содержится информация о студентах двух университетов. Каждый студент имеет уникальный идентификационный номер и список предметов, которые он изучает. Необходимо написать программу, которая будет определять, какие предметы изучают только студенты обоих университетов."
      ],
      "metadata": {
        "id": "3jP-nAF8ccME"
      }
    },
    {
      "cell_type": "markdown",
      "source": [
        "### <font color='CadetBlue'> **II** —  ноябрь, декабрь"
      ],
      "metadata": {
        "id": "nbrmNnQkSqTF"
      }
    },
    {
      "cell_type": "markdown",
      "source": [
        "#### <font color='LightCoral'> **ЗАДАНИЕ 14.** Функции."
      ],
      "metadata": {
        "id": "eEfJ3hdacn2O"
      }
    },
    {
      "cell_type": "markdown",
      "source": [
        "1. Описать функцию `Mean`, вычисляющую среднее арифметическое `AMean` и среднее геометрическое `GMean` двух положительных чисел $X$ и $Y$ формулам: `AMean = (X + Y)/2`, `GMean = X * Y`."
      ],
      "metadata": {
        "id": "2qtxovtzkokd"
      }
    },
    {
      "cell_type": "markdown",
      "source": [
        "2. Описать функцию `Circle`, находящую площадь и длину окружности круга радиуса $R$."
      ],
      "metadata": {
        "id": "VC2z5Pm9kq_N"
      }
    },
    {
      "cell_type": "markdown",
      "source": [
        "3. Описать функцию `TrianglePS`, вычисляющую по стороне a равностороннего треугольника его периметр $P = 3a$ и площадь $S = 3/4a^2$."
      ],
      "metadata": {
        "id": "hDWBY0Hikv4o"
      }
    },
    {
      "cell_type": "markdown",
      "source": [
        "4. Описать функцию `RingS`, находящую площадь кольца, заключённого между двумя окружностями с общим центром и радиусами $R_1$ и $R_2$.\n"
      ],
      "metadata": {
        "id": "nbheKb6-k62P"
      }
    },
    {
      "cell_type": "markdown",
      "source": [
        "5. Описать функцию `RectPS`, вычисляющую периметр $P$ и площадь $S$ прямоугольника со сторонами, параллельными осям координат, по координатам $(x_1, y_1)$, $(x_2, y_2)$ его противоположных вершин.\n"
      ],
      "metadata": {
        "id": "5hiGJWdxlINt"
      }
    },
    {
      "cell_type": "markdown",
      "source": [
        "6. Описать функцию `TriangleP`, находящую периметр равнобедренного треугольника по его основанию $a$ и высоте $h$, проведенной к основанию. Для нахождения боковой стороны $b$ треугольника использовать теорему Пифагора: $b^2 = (a/2)^2 + h^2$.\n"
      ],
      "metadata": {
        "id": "W0tG3MahlcGN"
      }
    },
    {
      "cell_type": "markdown",
      "source": [
        "7. Описать функцию `InvertDigits`, меняющую порядок следования цифр целого положительного числа $K$ на обратный.\n"
      ],
      "metadata": {
        "id": "EXT3USJ7lrmU"
      }
    },
    {
      "cell_type": "markdown",
      "source": [
        "8. Описать функцию `SumRange`, находящую сумму всех целых чисел от $A$ до $B$ включительно ($A$ и $B$ — целые). Если $A>B$, то функция возвращает $0$.\n"
      ],
      "metadata": {
        "id": "3QVlX_NMlyRc"
      }
    },
    {
      "cell_type": "markdown",
      "source": [
        "9. Описать функцию `TypeTrl`, которая позволяет по заданным координатами вершин треугольника определить вид треугольника (равнобедренный, равносторонний, прямоугольный или обычный)."
      ],
      "metadata": {
        "id": "Vhmvmq_BmMvE"
      }
    },
    {
      "cell_type": "markdown",
      "source": [
        "10. Описать функцию `Quarter`, определяющую номер координатной четверти, в которой находится точка с ненулевыми вещественными координатами $(x, y)$.\n"
      ],
      "metadata": {
        "id": "vQUjEqh-mSUp"
      }
    },
    {
      "cell_type": "markdown",
      "source": [
        "11. Описать функцию `DigitCountSum`, находящую количество цифр целого положительного числа $K$, а также их сумму $S$.\n"
      ],
      "metadata": {
        "id": "wL7onBOfmV5A"
      }
    },
    {
      "cell_type": "markdown",
      "source": [
        "12. Описать функцию `Calc`, выполняющую над ненулевыми вещественными числами $A$ и $B$ одну из арифметических операций и возвращающую её результат. Вид операции определяется целым параметром `Op`: `1` — вычитание, `2` — умножение, `3` — деление, остальные значения — сложение.\n"
      ],
      "metadata": {
        "id": "GiJfeDkRmeJu"
      }
    },
    {
      "cell_type": "markdown",
      "source": [
        "13. Описать функцию `LuckyNum`, которая позволяет определить, является ли четырёхзначный номер счастливым. Счастливым называется номер, у которого сумма первых двух цифр номера равна сумме последних двух цифр. Получить все четырёхзначные счастливые номера."
      ],
      "metadata": {
        "id": "eqNe-jKEmpMR"
      }
    },
    {
      "cell_type": "markdown",
      "source": [
        "14. Описать функцию `DegToRad`, находящую величину угла в радианах, если дана его величина $D$ в градусах ($0 < D < 360$). Воспользоваться следующим соотношением: $180°= π$ радианов.\n"
      ],
      "metadata": {
        "id": "AoCkpJ8jmujh"
      }
    },
    {
      "cell_type": "markdown",
      "source": [
        "15. Описать функцию `IsLeapYear`, определяющую, является ли год $Y$ високосным. Високосным считается год, делящийся на 4, за исключением тех годов, которые делятся на 100 и не делятся на 400."
      ],
      "metadata": {
        "id": "p2DvhHcbm6hS"
      }
    },
    {
      "cell_type": "markdown",
      "source": [
        "#### <font color='LightCoral'> **ЗАДАНИЕ 15.** Функции."
      ],
      "metadata": {
        "id": "XdpHm6SQco3u"
      }
    },
    {
      "cell_type": "markdown",
      "source": [
        "1. Описать функцию `RemoveRowCol`, удаляющую из матрицы $A$ размера $M×N$ строку и столбец, которые содержат элемент $A_{K, L}$ (предполагается, что $M > 1$ и $N > 1$; если $K > M$ или $L > N$, то матрица не изменяется).\n"
      ],
      "metadata": {
        "id": "wD9I7kwXnDBn"
      }
    },
    {
      "cell_type": "markdown",
      "source": [
        "2. Описать функцию `Split`, формирующую по заданному списку $A$ два новых списка $B$ и $C$; при этом список $B$ содержит все чётные числа из списка $A$, а список $C$ — все нечётные числа (в том же порядке).\n"
      ],
      "metadata": {
        "id": "TcK7zZgkncR5"
      }
    },
    {
      "cell_type": "markdown",
      "source": [
        "3. Описать функцию `SwapRow`, осуществляющую перемену местами строк вещественной матрицы $A$ размера $M×N$ с номерами $K_1$ и $K_2$.\n"
      ],
      "metadata": {
        "id": "DlOynSUsnmzX"
      }
    },
    {
      "cell_type": "markdown",
      "source": [
        "4. Описать функцию `Transp`, выполняющую транспонирование (то есть зеркальное отражение относительно главной диагонали) квадратной матрицы $A$ порядка $M$.\n"
      ],
      "metadata": {
        "id": "guGVn1_WnxlP"
      }
    },
    {
      "cell_type": "markdown",
      "source": [
        "5. Описать функцию `MtrProd`, вычисляющую произведение двух матриц."
      ],
      "metadata": {
        "id": "pe1hvT_An4qy"
      }
    },
    {
      "cell_type": "markdown",
      "source": [
        "6. Описать функцию `SumMtr`, вычисляющую сумму двух матриц."
      ],
      "metadata": {
        "id": "QHU8zp_QnDMU"
      }
    },
    {
      "cell_type": "markdown",
      "source": [
        "7. Дана квадратная матрица. Вычислить сумму элементов главной или побочной диагонали в зависимости от выбора пользователя. Сумма элементов любой диагонали должна вычисляться в одной и той же функции."
      ],
      "metadata": {
        "id": "mOPq9x6Kn_01"
      }
    },
    {
      "cell_type": "markdown",
      "source": [
        "8. Описать функцию `RemoveRows`, удаляющую из матрицы $A$ размера $M×N$ строки с номерами от $K_1$ до $K_2$ включительно (предполагается, что $1 < K_1 ≤ K_2$). Если $K_1 > M$, то матрица не изменяется; если $K_2 > M$, то удаляются строки матрицы с номерами от $K_1$ до $M$."
      ],
      "metadata": {
        "id": "QkV8R1QBoGOd"
      }
    },
    {
      "cell_type": "markdown",
      "source": [
        "9. Описать функцию `InvertStr`, возвращающую инвертированную подстроку строки $S$, содержащую в обратном порядке $N$ символов строки $S$, начиная с её $K$-го символа. Если $K$ превосходит длину строки $S$, то возвращается пустая строка; если длина строки меньше $K + N$, то инвертируются все символы строки, начиная с её $K$-го символа."
      ],
      "metadata": {
        "id": "-so_iVlKpTLe"
      }
    },
    {
      "cell_type": "markdown",
      "source": [
        "10. Описать функцию `SwapCol`, осуществляющую перемену местами столбцов матрицы $A$ размера $M×N$ с номерами $K_1$ и $K_2$."
      ],
      "metadata": {
        "id": "L14050dKpcdw"
      }
    },
    {
      "cell_type": "markdown",
      "source": [
        "11. Описать функцию `CompressStr`, выполняющую сжатие строки $S$ по следующему правилу: каждая подстрока строки $S$, состоящая из более чем четырёх одинаковых символов $C$, заменяется текстом вида `C{K}`, где $K$ — количество символов $C$ (предполагается, что строка $S$ не содержит фигурных скобок `{` и  `}`). Например, для строки `S = bbbccccce` функция вернет строку `bbbc{5}e`.\n"
      ],
      "metadata": {
        "id": "GjCNOlerpnjZ"
      }
    },
    {
      "cell_type": "markdown",
      "source": [
        "12. Описать функцию `IsIdent`, проверяющую, является ли строка `S` допустимым идентификатором, то есть непустой строкой, которая содержит только латинские буквы, цифры и символ подчеркивания `_` и не начинается с цифры.\n"
      ],
      "metadata": {
        "id": "xLCqWoqpp7EE"
      }
    },
    {
      "cell_type": "markdown",
      "source": [
        "13. Описать функцию `Chessboard`, формирующую по целым положительным числам $M$ и $N$ матрицу $A$ размера $M×N$, которая содержит числа 0 и 1, расположенные в «шахматном» порядке, причём $A_{00} = 0$."
      ],
      "metadata": {
        "id": "dKg849rUuWD9"
      }
    },
    {
      "cell_type": "markdown",
      "source": [
        "14. Описать функцию `Bell`, меняющую порядок элементов списка $L$ на следующий: наименьший элемент списка располагается на первом месте, наименьший из оставшихся элементов — на последнем, следующий по величине располагается на втором месте, следующий — на предпоследнем и т.д. (в результате график значений элементов будет напоминать колокол).\n"
      ],
      "metadata": {
        "id": "1nvV7wLJvF5M"
      }
    },
    {
      "cell_type": "markdown",
      "source": [
        "15. Описать функцию `RemoveCols`, удаляющую из матрицы $A$ размера $M×N$ столбцы с номерами от $K_1$ до $K_2$ включительно (предполагается, что $1 < K_1 ≤ K_2$). Если $K_1 > N$, то матрица не изменяется; если $K_2 > N$, то удаляются столбцы матрицы с номерами от $K_1$ до $N$."
      ],
      "metadata": {
        "id": "37f25fjovPly"
      }
    },
    {
      "cell_type": "markdown",
      "source": [
        "#### <font color='LightCoral'> **ЗАДАНИЕ 16.** Функции: необязательные параметры, неопределенное количество параметров"
      ],
      "metadata": {
        "id": "DfIGsLWPwH6D"
      }
    },
    {
      "cell_type": "markdown",
      "source": [
        "1. <br>а) Написать функцию, которая принимает на вход имя и фамилию человека, а также необязательный параметр — отчество. Функция должна вернуть полное имя в формате «Фамилия Имя Отчество» или «Фамилия Имя», если отчество не указано.<br>б) Создать функцию, которая принимает на вход список чисел и необязательный параметр — функцию-преобразователь (изменение каждого элемента списка). Функция должна вернуть новый список, состоящий из элементов первого списка, преобразованных указанной функцией-преобразователем или использовать по умолчанию функцию, которая оставляет элементы без изменения.<br>в) Написать функцию, которая принимает неопределенное количество аргументов и возвращает их сумму.<br>г) Написать функцию, которая принимает два словаря и возвращает словарь, содержащий только те ключи, которые есть в обоих словарях."
      ],
      "metadata": {
        "id": "dHb49L-C0Ab_"
      }
    },
    {
      "cell_type": "markdown",
      "source": [
        "2. <br>а) Создать функцию, которая принимает на вход список чисел и необязательный параметр — порядок сортировки (по возрастанию или убыванию). Функция должна вернуть отсортированный список чисел в указанном порядке или по умолчанию — по возрастанию.<br>б) Написать функцию, которая принимает два параметра: обязательный параметр text, который является строкой, и необязательный параметр separator, который является символом (по умолчанию пробел). Функция должна возвращать новую строку, в которой каждое слово изначальной строки text преобразовано таким образом, что все его буквы становятся заглавными. Слова в исходной строке разделяются символом, указанным в параметре separator. Если параметр separator не указан, то слова в строке считаются разделенными пробелами.<br>в) Написать функцию, которая принимает список чисел и возвращает их произведение.<br>г) Написать функцию, которая принимает список строк и возвращает список строк, содержащих только буквы нижнего регистра."
      ],
      "metadata": {
        "id": "msfE54KT0B0R"
      }
    },
    {
      "cell_type": "markdown",
      "source": [
        "3. <br>а) Написать функцию, которая принимает на вход строку и необязательный параметр — символ-разделитель. Функция должна вернуть список подстрок, разделенных указанным символом-разделителем, или использовать по умолчанию пробел как разделитель.<br>б) Создать функцию, которая принимает на вход два списка и необязательный параметр — функцию-сравниватель (сравнение элементов двух списков). Функция должна вернуть список элементов, которые сравниваются указанной функцией-сравнивателем или использовать по умолчанию функцию, которая сравнивает элементы по индексу.<br>в) Написать функцию, которая принимает два аргумента: строку и символ, и возвращает количество вхождений символа в строку.<br>г) Написать функцию, которая принимает два списка и возвращает список, содержащий элементы обоих списков без повторений."
      ],
      "metadata": {
        "id": "8OB7yQa90Jny"
      }
    },
    {
      "cell_type": "markdown",
      "source": [
        "4. <br>а) Создать функцию, которая принимает на вход два числа и необязательный параметр — операцию (сложение, вычитание, умножение или деление). Функция должна выполнить указанную операцию с переданными числами или использовать по умолчанию сложение.<br>б) Написать функцию, которая принимает на вход список строк и необязательный параметр — символ-разделитель (по умолчанию символ-разделитель не используется). Функция должна вернуть новый список, в котором каждая строка из исходного списка будет разделена указанным символом-разделителем, если он задан. Если символ-разделитель не задан, то строки возвращаются без изменений.<br>в) Написать функцию, которая принимает список чисел и возвращает среднее арифметическое значение.<br>г) Написать функцию, которая принимает словарь и возвращает список ключей, отсортированных по возрастанию значений."
      ],
      "metadata": {
        "id": "XUxf1xrg0MnB"
      }
    },
    {
      "cell_type": "markdown",
      "source": [
        "5. <br>а) Написать функцию, которая принимает на вход список и необязательный параметр — функцию-критерий. Функция должна вернуть список элементов, удовлетворяющих переданному критерию, или использовать по умолчанию функцию, которая возвращает все элементы списка.<br>б) Создать функцию, которая принимает на вход два списка и необязательный параметр — функцию-фильтр (отбор элементов двух списков). Функция должна вернуть список элементов, которые проходят указанный фильтр-функцией или использовать по умолчанию функцию, которая возвращает все элементы.<br>в) Написать функцию, которая принимает два списка и возвращает список, содержащий элементы, которые присутствуют в обоих списках.<br>г) Написать функцию, которая принимает неопределенное количество аргументов и возвращает список, содержащий только нечетные числа."
      ],
      "metadata": {
        "id": "5YMXSJb10Svl"
      }
    },
    {
      "cell_type": "markdown",
      "source": [
        "6. <br>а) Создать функцию, которая принимает на вход строку и необязательный параметр — символ-разделитель. Функция должна вернуть словарь, где ключами являются подстроки, разделенные указанным символом-разделителем, а значениями — количество их вхождений в строку.<br>б) Написать функцию, которая принимает на вход список чисел и необязательный параметр — число-делитель. Функция должна вернуть список чисел, которые НЕ делятся на указанное число-делитель без остатка, или использовать по умолчанию число-делитель равное 2.<br>в) Написать функцию, которая принимает словарь и возвращает список ключей, отсортированных по убыванию значений.<br>г) Написать функцию, которая принимает произвольное количество чисел и возвращает их сумму."
      ],
      "metadata": {
        "id": "tTZTJpIj0VFD"
      }
    },
    {
      "cell_type": "markdown",
      "source": [
        "7. <br>а) Написать функцию, которая принимает на вход список строк и необязательный параметр — символ-разделитель. Функция должна вернуть строку, состоящую из элементов списка, разделенных указанным символом-разделителем, или использовать по умолчанию запятую как разделитель.<br>б) Создать функцию, которая принимает на вход два списка и необязательный параметр — символ-разделитель. Функция должна вернуть новый список, где каждый элемент представлен в виде строки и разделен указанным символом-разделителем или использовать по умолчанию запятую как разделитель.<br>в) Написать функцию, которая принимает неопределенное количество аргументов и возвращает список, содержащий только уникальные значения.<br>г) Написать функцию, которая принимает произвольное количество строк и возвращает строку, содержащую все элементы списка, разделенные пробелом."
      ],
      "metadata": {
        "id": "27aKV3_c0XD9"
      }
    },
    {
      "cell_type": "markdown",
      "source": [
        "8. <br>а) Создать функцию, которая принимает на вход два списка и необязательный параметр — функцию-критерий. Функция должна вернуть список пар элементов из двух списков, удовлетворяющих переданному критерию, или использовать по умолчанию функцию, которая возвращает все пары элементов.<br>б) Написать функцию, которая принимает на вход список строк и необязательный параметр — символ-разделитель. Если символ-разделитель задан, функция должна вернуть строку, созданную из исходных строк списка, разделенных данным символом. Если символ-разделитель не задан, функция должна вернуть строку, сформированную из исходных строк списка, разделенных одним пробелом.<br>в) Написать функцию, которая принимает список строк и возвращает список строк, содержащих только буквы верхнего регистра.<br>г) Написать функцию, которая принимает произвольное количество списков и возвращает список, содержащий элементы всех списков без повторений."
      ],
      "metadata": {
        "id": "t2ty55Vu0e-A"
      }
    },
    {
      "cell_type": "markdown",
      "source": [
        "9. <br>а) Написать функцию, которая принимает на вход строку и необязательный параметр — символ-разделитель. Функция должна вернуть новую строку, где каждое слово начинается с заглавной буквы, а слова разделены указанным символом-разделителем или использовать по умолчанию пробел как разделитель.<br>б) Создать функцию, которая принимает на вход два списка и необязательный параметр — функцию-фильтр (отбор элементов двух списков). Функция должна вернуть список элементов, которые проходят указанный фильтр-функцией или использовать по умолчанию функцию, которая возвращает все элементы.<br>в) Написать функцию, которая принимает два словаря и объединяет их в один словарь.<br>г) Написать функцию, которая принимает произвольное количество словарей и возвращает словарь, содержащий все ключи и значения из всех словарей."
      ],
      "metadata": {
        "id": "mODo6Yxh0h7s"
      }
    },
    {
      "cell_type": "markdown",
      "source": [
        "10. <br>а) Создать функцию, которая принимает на вход список чисел и необязательный параметр — функцию-критерий. Функция должна вернуть список чисел, удовлетворяющих переданному критерию, или использовать по умолчанию функцию, которая возвращает все числа.<br>б) Написать функцию, которая принимает на вход список чисел и необязательный параметр — число-делитель. Функция должна вернуть новый список чисел, где каждый элемент умножен на указанное число-делитель или использовать по умолчанию число-делитель равное 1.<br>в) Написать функцию, которая принимает список чисел и возвращает новый список, содержащий квадраты этих чисел.<br>г) Написать функцию, которая принимает произвольное количество чисел и возвращает их произведение."
      ],
      "metadata": {
        "id": "Y6MfsXdT0koa"
      }
    },
    {
      "cell_type": "markdown",
      "source": [
        "11. <br>а) Написать функцию, которая принимает на вход список строк и необязательный параметр — символ-разделитель. Функция должна вернуть список строк, где каждая строка начинается с заглавной буквы и разделена указанным символом-разделителем или использовать по умолчанию пробел как разделитель.<br>б) Создать функцию, которая принимает на вход два списка и необязательный параметр — функцию-сортировщик (сортировка элементов двух списков). Функция должна вернуть новый список, состоящий из элементов двух списков, отсортированных указанной функцией-сортировщиком или использовать по умолчанию функцию, которая сортирует элементы по возрастанию.<br>в) Написать функцию, которая принимает список строк и возвращает строку, содержащую все элементы списка, разделенные запятой.<br>г) Написать функцию, которая принимает произвольное количество строк и возвращает список, содержащий только уникальные строки."
      ],
      "metadata": {
        "id": "NTOZ-NU-0oBx"
      }
    },
    {
      "cell_type": "markdown",
      "source": [
        "12. <br>а) Создать функцию, которая принимает на вход два списка и необязательный параметр — порядок объединения (первый список + второй список или второй список + первый список). Функция должна вернуть объединенный список в указанном порядке или по умолчанию — первый список + второй список.<br>б) Написать функцию, которая принимает на вход строку и необязательный параметр — символ-разделитель. Если символ-разделитель указан, функция должна вернуть новую строку, где каждое слово начинается с заглавной буквой, а остальные буквы каждого слова — в нижнем регистре. Если символ-разделитель не указан, функция должна использовать пробел и возвращать все слова в нижнем регистре.<br>в) Написать функцию, которая принимает два списка и возвращает список, содержащий элементы первого списка, которых нет во втором списке.<br>г) Написать функцию, которая принимает произвольное количество списков и возвращает список, содержащий элементы, которые есть хотя бы в двух списках."
      ],
      "metadata": {
        "id": "1iAqEjoC0tic"
      }
    },
    {
      "cell_type": "markdown",
      "source": [
        "13. <br>а) Написать функцию, которая принимает на вход список чисел и необязательный параметр — число-делитель. Функция должна вернуть список чисел, которые делятся на указанное число-делитель без остатка, или использовать по умолчанию число-делитель равное 2.<br>б) Создать функцию, которая принимает на вход два списка и необязательный параметр — функцию-преобразователь (изменение каждого элемента списка). Функция должна вернуть новый список, состоящий из элементов первого списка, преобразованных указанной функцией-преобразователем или использовать по умолчанию функцию, которая удаляет все отрицательные элементы.<br>в) Написать функцию, которая принимает словарь и возвращает список значений, отсортированных по возрастанию ключей.<br>г) Написать функцию, которая принимает произвольное количество словарей и возвращает словарь, содержащий только те ключи, которые есть во всех словарях."
      ],
      "metadata": {
        "id": "a3o4qKRA0vrc"
      }
    },
    {
      "cell_type": "markdown",
      "source": [
        "14. <br>а) Создать функцию, которая принимает на вход два списка и необязательный параметр — функцию-объединитель (соединение элементов двух списков в один). Функция должна вернуть новый список, состоящий из элементов двух списков, объединенных указанной функцией-объединителем или использовать по умолчанию функцию, которая просто соединяет элементы двух списков.<br>б) Написать функцию, которая принимает на вход список строк и необязательный параметр — символ-разделитель. Функция должна вернуть новый список строк, где каждая строка содержит только цифры или использовать по умолчанию все символы.<br>в) Написать функцию, которая принимает неопределенное количество аргументов и возвращает список, содержащий только четные числа.<br>г) Написать функцию, которая принимает произвольное количество чисел и возвращает список, содержащий только положительные числа."
      ],
      "metadata": {
        "id": "pRq7ohpa0xqb"
      }
    },
    {
      "cell_type": "markdown",
      "source": [
        "15. <br>а) Написать функцию, которая принимает на вход список строк и необязательный параметр — символ-разделитель. Функция должна вернуть новую строку, где все символы в каждой строке заменены на заглавные или использовать по умолчанию все символы в нижнем регистре.<br>б) Создать функцию, которая принимает на вход два списка и необязательный параметр — функцию-фильтр (отбор элементов двух списков). Функция должна вернуть список элементов, которые превышают указанный фильтр-функцией или использовать по умолчанию функцию, которая возвращает все элементы.<br>в) Написать функцию, которая принимает список чисел и возвращает новый список, содержащий только уникальные значения.<br>г) Написать функцию, которая принимает произвольное количество строк и возвращает список, содержащий только те строки, которые начинаются с большой буквы."
      ],
      "metadata": {
        "id": "FZlkhfM900z2"
      }
    },
    {
      "cell_type": "markdown",
      "source": [
        "#### <font color='LightCoral'> **ЗАДАНИЕ 17.** Рекурсия."
      ],
      "metadata": {
        "id": "AsCxG7xFcpFg"
      }
    },
    {
      "cell_type": "markdown",
      "source": [
        "1. Описать рекурсивные функции `Fact` и `Fact2`, вычисляющие значения факториала $N!$ и двойного факториала $N!!$ соответственно ($N > 0$ — параметр целого типа)."
      ],
      "metadata": {
        "id": "KbVcHVzCv3vb"
      }
    },
    {
      "cell_type": "markdown",
      "source": [
        "2. Описать рекурсивную функцию `PowerN`, находящую значение $n$-й степени числа $x$ по формуле:\n",
        "\n",
        "\\begin{align}\n",
        "    x^0 = 1, \\quad x^n = x \\cdot x^{n - 1} \\quad при \\quad n>0, \\\\\n",
        "    x^n=1/x^{-n} \\quad при \\quad n<0,\n",
        "\\end{align}\n",
        "\n",
        "где $x≥0$ — вещественное число, $n$ — целое."
      ],
      "metadata": {
        "id": "qlGaAc6Nv_Mi"
      }
    },
    {
      "cell_type": "markdown",
      "source": [
        "3. Описать рекурсивную функцию `SqrtK(x, k, n)`, находящую приближенное значение корня $k$-й степени из числа $x$ по формуле:\n",
        "\\begin{align}\n",
        "    y(0)=1, \\quad y(n + 1) = y(n) – \\frac{y(n) – \\frac{x}{y^{k–1}(n)}}{k},\n",
        "\\end{align}\n",
        "\n",
        "где $y(n)$ обозначает `SqrtK(x, k, n)`, $x$ — вещественный параметр, $k$ и $n$ — целые; $x > 0$, $k > 1$, $n > 0$."
      ],
      "metadata": {
        "id": "xaNvlkiExSe6"
      }
    },
    {
      "cell_type": "markdown",
      "source": [
        "4. Описать рекурсивную функцию `FibRec`, вычисляющую $N$-е число Фибоначчи $F(N)$ по формуле:\n",
        "\n",
        "\\begin{align}\n",
        "    F(1)=F(2)=1, \\quad F(k) = F(k-2) + F(k - 1), \\quad k = 3, 4, ...\n",
        "\\end{align}\n",
        "\n",
        "С помощью этой функции найти пять чисел Фибоначчи с указанными номерами и вывести эти числа вместе с количеством рекурсивных вызовов функции `FibRec`, потребовавшихся для их нахождения."
      ],
      "metadata": {
        "id": "Ld7hIQaA0gTH"
      }
    },
    {
      "cell_type": "markdown",
      "source": [
        "5.\tОписать рекурсивную функцию `C(m, n)`, находящую число сочетаний из $n$ элементов по $m$, используя формулу:\n",
        "\n",
        "\\begin{align}\n",
        "    C(0, n) = C(n, n) = 1, \\quad C(m,  n) = C(m,  n – 1)+C(m – 1, n – 1)\n",
        "\\end{align}\n",
        "\n",
        "при $0 < m < n$ ($m$ и $n$ — целые параметры; $n > 0$, $0 ≤ m ≤ n$). Дано число $N$ и пять различных значений $M$. Вывести числа `C(M, N)` вместе с количеством рекурсивных вызовов функции `C`, потребовавшихся для их нахождения."
      ],
      "metadata": {
        "id": "ZDqTS5PE1WMp"
      }
    },
    {
      "cell_type": "markdown",
      "source": [
        "6. Описать рекурсивную функцию `NOD(A, B)`, находящую наибольший общий делитель двух натуральных чисел `A` и `B`, используя алгоритм Евклида:\n",
        "\n",
        "\\begin{align}\n",
        "    \\text{NOD}(A, B) = \\text{NOD}(B\\bmod{A}, A), \\text{  если  } A ≠ 0, \\quad \\text{NOD}(0, B) = B.\n",
        "\\end{align}\n",
        "\n",
        "С помощью этой функции найти наибольшие общие делители пар $A$ и $B$, $A$ и $C$, $A$ и $D$, если даны числа $A$, $B$, $C$, $D$."
      ],
      "metadata": {
        "id": "0xWqnXXH1_GB"
      }
    },
    {
      "cell_type": "markdown",
      "source": [
        "7. Описать рекурсивную функцию `MinRec`, которая находит минимальный элемент массива $A$ размера $N$, не используя оператор цикла. С помощью этой функции найти минимальные элементы трёх заданных массивов."
      ],
      "metadata": {
        "id": "Vp4rITB74Uyy"
      }
    },
    {
      "cell_type": "markdown",
      "source": [
        "8. Описать рекурсивную функцию `Digits`, находящую количество цифр в строке $S$ без использования оператора цикла. С помощью этой функции найти количество цифр в заданной строке."
      ],
      "metadata": {
        "id": "EGL2wVeC5sZQ"
      }
    },
    {
      "cell_type": "markdown",
      "source": [
        "9. Описать рекурсивную функцию `Simm`, проверяющую, является ли симметричной строка $S$, без использования оператора цикла. С помощью этой функции проверить заданную строку."
      ],
      "metadata": {
        "id": "naSGu7UE5yqe"
      }
    },
    {
      "cell_type": "markdown",
      "source": [
        "10. Задано положительное и отрицательное число в двоичной системе. Составить программу вычисления суммы этих чисел, используя функцию сложения чисел в двоичной системе счисления."
      ],
      "metadata": {
        "id": "QeU0lnGy59ou"
      }
    },
    {
      "cell_type": "markdown",
      "source": [
        "11. Описать рекурсивную функцию `Root`, которая методом деления отрезка пополам находит с точностью $ε$ корень уравнения $f(x) = 0$ на отрезке $[a, b]$ (считать, что $ε > 0$, $a < b$, $f(a) – f(b) < 0$ и $f(x)$ — непрерывная и монотонная на отрезке $[a, b]$ функция).\n"
      ],
      "metadata": {
        "id": "psnUZTWj6DBe"
      }
    },
    {
      "cell_type": "markdown",
      "source": [
        "12. Дано число $n$, десятичная запись которого не содержит нулей. Получите число, записанное теми же цифрами, но в противоположном порядке. При решении этой задачи нельзя использовать циклы, строки, списки разрешается только рекурсия и целочисленная арифметика. Функция должна возвращать целое число, являющееся результатом работы программы, выводить число по одной цифре нельзя.\n"
      ],
      "metadata": {
        "id": "9xCGk_Io6RlL"
      }
    },
    {
      "cell_type": "markdown",
      "source": [
        "13. Описать рекурсивную логическую функцию `Simm`, проверяющую, является ли симметричной часть строки $S$, начинающаяся $i$-м и заканчивающаяся $j$-м её элементами."
      ],
      "metadata": {
        "id": "IKMGQGH76YZd"
      }
    },
    {
      "cell_type": "markdown",
      "source": [
        "14. Дано натуральное число $N$. Вычислите сумму его цифр. При решении этой задачи нельзя использовать строки, списки и циклы.\n"
      ],
      "metadata": {
        "id": "1SJ_LHaV6gll"
      }
    },
    {
      "cell_type": "markdown",
      "source": [
        "15. Дано слово, состоящее только из строчных латинских букв. Проверьте, является ли это слово палиндромом. Выведите `yes` или `no`. При решении этой задачи нельзя пользоваться циклами, также нельзя использовать срезы с шагом, отличным от 1."
      ],
      "metadata": {
        "id": "XIbgaqVm6lsy"
      }
    },
    {
      "cell_type": "markdown",
      "source": [
        "#### <font color='LightCoral'> **ЗАДАНИЕ 18.** Модули."
      ],
      "metadata": {
        "id": "nODNI4fhcpR_"
      }
    },
    {
      "cell_type": "markdown",
      "source": [
        "1. Создать модуль, содержащий указанные функции:\n",
        "* вычисление середины отрезка по координатам его концов;\n",
        "* проверки возможности построения из трех отрезков треугольника;\n",
        "* вычисления площади треугольника по длинам его сторон.\n",
        "\n",
        "Привести пример на использование модуля."
      ],
      "metadata": {
        "id": "UaZ7n9yG9K1H"
      }
    },
    {
      "cell_type": "markdown",
      "source": [
        "2. Создать модуль, содержащий указанные функции: для трех точек на плоскости,\n",
        "заданных координатами, найти:\n",
        "* расстояния между точками;\n",
        "* периметр треугольника, если его можно построить по заданным точкам;\n",
        "* площадь треугольника, если его можно построить по заданным точкам.\n",
        "\n",
        "Привести пример на использование модуля.\n"
      ],
      "metadata": {
        "id": "BtyqD6Nf9Xic"
      }
    },
    {
      "cell_type": "markdown",
      "source": [
        "3. Создать модуль, содержащий указанные функции:\n",
        "* нахождения НОД двух чисел;\n",
        "* приведения простой дроби к несократимому виду;\n",
        "* перевода простой дроби в десятичную.\n",
        "\n",
        "Привести пример на использование модуля."
      ],
      "metadata": {
        "id": "eakaydUe9nte"
      }
    },
    {
      "cell_type": "markdown",
      "source": [
        "4. Создать модуль, содержащий указанные функции:\n",
        "* построения уравнения прямой через две точки;\n",
        "* проверки параллельности прямых;\n",
        "* проверки принадлежности точки прямой.\n",
        "\n",
        "Привести пример на использование модуля."
      ],
      "metadata": {
        "id": "k4TbBHBK9ss8"
      }
    },
    {
      "cell_type": "markdown",
      "source": [
        "5. Создать модуль, содержащий функции для вычисления:\n",
        "* площади круга;\n",
        "* длины окружности;\n",
        "* площади сектора круга;\n",
        "* периметра квадрата, вписанного в окружность.\n",
        "\n",
        "Привести пример на использование модуля."
      ],
      "metadata": {
        "id": "K74sMMta9zHA"
      }
    },
    {
      "cell_type": "markdown",
      "source": [
        "6. Создать модуль, содержащий указанные функции:\n",
        "* удаления заданного символа из строки;\n",
        "* замены в строке одного символа на другой;\n",
        "* подсчета количества заданного символа в строке.\n",
        "\n",
        "Привести пример на использование модуля.\n"
      ],
      "metadata": {
        "id": "e_4596Wj99o0"
      }
    },
    {
      "cell_type": "markdown",
      "source": [
        "7. Создать модуль, содержащий указанные функции:\n",
        "* ввода-вывода матриц на экран;\n",
        "* сложения матриц;\n",
        "* умножения матриц;\n",
        "* построение транспонированной матрицы.\n",
        "\n",
        "Привести пример на использование модуля."
      ],
      "metadata": {
        "id": "XpCdbcl7-CYP"
      }
    },
    {
      "cell_type": "markdown",
      "source": [
        "8. Создать модуль, содержащий указанные функции:\n",
        "* сложения числовых векторов;\n",
        "* умножения вектора на число;\n",
        "* поиска минимального и максимального значений вектора.\n",
        "\n",
        "Привести пример на использование модуля."
      ],
      "metadata": {
        "id": "q-EhUZ70-HTS"
      }
    },
    {
      "cell_type": "markdown",
      "source": [
        "9. Создать модуль, содержащий указанные функции:\n",
        "* удаления из текстового файла цифр;\n",
        "* вычисления количества символов в текстовом файле;\n",
        "* вычисления количества строк в текстовом файле.\n",
        "\n",
        "Привести пример на использование модуля."
      ],
      "metadata": {
        "id": "HaMj7O6U-LXj"
      }
    },
    {
      "cell_type": "markdown",
      "source": [
        "10. Создать модуль, содержащий указанные функции:\n",
        "* вычисления модуля комплексного числа;\n",
        "* умножения комплексных чисел;\n",
        "* деления комплексных чисел.\n",
        "\n",
        "Привести пример на использование модуля."
      ],
      "metadata": {
        "id": "5ykOJj_0-P-U"
      }
    },
    {
      "cell_type": "markdown",
      "source": [
        "11. Создать модуль, содержащий функции, реализующие следующие операции над\n",
        "обыкновенными дробями вида $P/Q$ ($P$ — целое, $Q$ — натуральное):\n",
        "* возведение дроби в степень $N$ ($N$ — натуральное);\n",
        "* операции отношения (равно, больше, меньше).\n",
        "\n",
        "Привести пример на использование модуля."
      ],
      "metadata": {
        "id": "5915fUPP-Vmx"
      }
    },
    {
      "cell_type": "markdown",
      "source": [
        "12. Создать модуль, содержащий функции для выполнения следующих операций\n",
        "над векторами на плоскости:\n",
        "* вычитание векторов;\n",
        "* скалярное произведение векторов;\n",
        "* длина вектора.\n",
        "\n",
        "Привести пример на использование модуля."
      ],
      "metadata": {
        "id": "M9umy-6c-ihr"
      }
    },
    {
      "cell_type": "markdown",
      "source": [
        "13. Создать модуль, содержащий функции для сортировки одномерного массива:\n",
        "* сортировка методом вставки;\n",
        "* сортировка методом обмена;\n",
        "* сортировка методом выбора.\n",
        "\n",
        "Привести пример на использование модуля."
      ],
      "metadata": {
        "id": "hgbKXOqS-oVG"
      }
    },
    {
      "cell_type": "markdown",
      "source": [
        "14. Создать модуль, содержащий указанные функции:\n",
        "* поиск минимального элемента матрицы;\n",
        "* поиск максимального элемента матрицы;\n",
        "* вычисление суммы элементов матрицы;\n",
        "* вычисление суммы элементов заданной строки матрицы.\n",
        "\n",
        "Привести пример на использование модуля."
      ],
      "metadata": {
        "id": "bKLbx3QV-smn"
      }
    },
    {
      "cell_type": "markdown",
      "source": [
        "15. Создать модуль, содержащий функции, реализующие следующие операции над\n",
        "обыкновенными дробями вида $P/Q$ ($P$ — целое, $Q$ — натуральное):\n",
        "* сложение дробей;\n",
        "* вычитание дробей;\n",
        "* умножение дробей.\n",
        "\n",
        "Привести пример на использование модуля."
      ],
      "metadata": {
        "id": "5zvBcwxI-ww1"
      }
    },
    {
      "cell_type": "markdown",
      "source": [
        "#### <font color='LightCoral'> **ЗАДАНИЕ 19.** Файлы."
      ],
      "metadata": {
        "id": "S1z_xRDucpkG"
      }
    },
    {
      "cell_type": "markdown",
      "source": [
        "1. Дано целое число $K$ ($0 < K < 10$) и текстовый файл, содержащий более $K$ строк. Создать новый текстовый файл, содержащий $K$ последних строк исходного файла."
      ],
      "metadata": {
        "id": "S8zTj3DO_pMq"
      }
    },
    {
      "cell_type": "markdown",
      "source": [
        "2. Дано целое число $K$ ($0 < K < 10$) и текстовый файл, содержащий более $K$ строк. Удалить из файла последние $K$ строк."
      ],
      "metadata": {
        "id": "Xhs5-5aq_rHr"
      }
    },
    {
      "cell_type": "markdown",
      "source": [
        "3. Дано целое число $K$ и текстовый файл. Удалить из каждой строки файла первые $K$ символов (если длина строки меньше $K$, то удалить из нее все символы)."
      ],
      "metadata": {
        "id": "vk0hnd-y_tRF"
      }
    },
    {
      "cell_type": "markdown",
      "source": [
        "4. Даны два текстовых файла. Добавить в конец каждой строки первого файла соответствующую строку второго файла. Если второй файл короче первого, то оставшиеся строки первого файла не изменять."
      ],
      "metadata": {
        "id": "SwekRavs_xQz"
      }
    },
    {
      "cell_type": "markdown",
      "source": [
        "5. Дано целое число $K$ и текстовый файл. Удалить из файла строку с номером $K$. Если строки с таким номером нет, то оставить файл без изменений."
      ],
      "metadata": {
        "id": "w0wr3-Oe_3qM"
      }
    },
    {
      "cell_type": "markdown",
      "source": [
        "6. Дан текстовый файл. Создать символьный файл, содержащий все знаки препинания, встретившиеся в текстовом файле (в том же порядке)."
      ],
      "metadata": {
        "id": "2Y7AhVf4_5au"
      }
    },
    {
      "cell_type": "markdown",
      "source": [
        "7. Дан текстовый файл, каждая строка которого изображает целое число, дополненное слева и справа несколькими пробелами. Вывести количество этих чисел и их сумму."
      ],
      "metadata": {
        "id": "MO6AuKsg_8_4"
      }
    },
    {
      "cell_type": "markdown",
      "source": [
        "8. Дана строка $S$ и текстовый файл. Заменить в файле все пустые строки на строку $S$."
      ],
      "metadata": {
        "id": "vQ67XqmGAC4T"
      }
    },
    {
      "cell_type": "markdown",
      "source": [
        "9. Дан текстовый файл, содержащий текст, выровненный по левому краю. Выровнять текст по центру, добавив в начало каждой непустой строки нужное количество пробелов (ширину текста считать равной 50). Строки нечетной длины перед центрированием дополнять слева пробелом."
      ],
      "metadata": {
        "id": "jyuoIa1cAM59"
      }
    },
    {
      "cell_type": "markdown",
      "source": [
        "10. Дан текстовый файл. Найти количество абзацев в тексте, если абзацы отделяются друг от друга одной или несколькими пустыми строками."
      ],
      "metadata": {
        "id": "K9wOtsy0APg8"
      }
    },
    {
      "cell_type": "markdown",
      "source": [
        "11. Дан текстовый файл, содержащий текст, выровненный по левому краю. Выровнять текст по правому краю, добавив в начало каждой непустой строки нужное количество пробелов (ширину текста считать равной 50)."
      ],
      "metadata": {
        "id": "guwqGPfRASa5"
      }
    },
    {
      "cell_type": "markdown",
      "source": [
        "12. Даны два текстовых файла. Добавить в начало первого файла содержимое второго файла."
      ],
      "metadata": {
        "id": "nz8-YoCIAVPt"
      }
    },
    {
      "cell_type": "markdown",
      "source": [
        "13. Дано целое число $K$ и текстовый файл. Вставить пустую строку перед строкой\n",
        "файла с номером $K$. Если строки с таким номером нет, то оставить файл без изменений."
      ],
      "metadata": {
        "id": "f2weusB2AiYt"
      }
    },
    {
      "cell_type": "markdown",
      "source": [
        "14. Дан текстовый файл. Продублировать в нем все пустые строки."
      ],
      "metadata": {
        "id": "9YV08v1RAn9g"
      }
    },
    {
      "cell_type": "markdown",
      "source": [
        "15. Дан непустой текстовый файл (число строк больше двух). Удалить из него первую и последнюю строки."
      ],
      "metadata": {
        "id": "y5avDyCsAtax"
      }
    },
    {
      "cell_type": "markdown",
      "source": [
        "#### <font color='LightCoral'> **ЗАДАНИЕ 20.** Работа с файлами."
      ],
      "metadata": {
        "id": "tdV2beFdcpuO"
      }
    },
    {
      "cell_type": "markdown",
      "source": [
        "1. Дан файл $f$, компоненты которого являются действительными числами. Найти произведение компонент файла."
      ],
      "metadata": {
        "id": "Cw4FPc-wBQpm"
      }
    },
    {
      "cell_type": "markdown",
      "source": [
        "2. Дан файл $f$, компоненты которого являются целыми числами. Ни одна из компонент файла не равна нулю. Файл $f$ содержит столько же отрицательных чисел, сколько и положительных. Переписать компоненты файла $f$ в файл $g$ так, чтобы в файле $g$ сначала шли положительные, потом отрицательные числа."
      ],
      "metadata": {
        "id": "Q0KpvOunBThw"
      }
    },
    {
      "cell_type": "markdown",
      "source": [
        "3. Дан файл $f$, компоненты которого являются целыми числами. Получить в файле $g$ все компоненты файла $f$, являющиеся точными квадратами."
      ],
      "metadata": {
        "id": "8_QRYvcIBW9H"
      }
    },
    {
      "cell_type": "markdown",
      "source": [
        "4. Дан файл $f$, компоненты которого являются действительными числами. Найти сумму наибольшего и наименьшего из значений компонент."
      ],
      "metadata": {
        "id": "rON2Gz6RBcq-"
      }
    },
    {
      "cell_type": "markdown",
      "source": [
        "5. Дан файл, содержащий различные даты. Каждая дата — это число, месяц и год. Найти год с наименьшим номером."
      ],
      "metadata": {
        "id": "y040oQNeBfX3"
      }
    },
    {
      "cell_type": "markdown",
      "source": [
        "6. Дан файл $f$, компоненты которого являются целыми числами. Найти количество чётных чисел среди компонент."
      ],
      "metadata": {
        "id": "Moq3_nX1BiMW"
      }
    },
    {
      "cell_type": "markdown",
      "source": [
        "7. Дан файл $f$. В файле не менее двух компонент. Определить, являются ли два первых символа файла цифрами. Если да, то установить, является ли число, образованное этими цифрами чётным."
      ],
      "metadata": {
        "id": "Q8feKkqhBmkM"
      }
    },
    {
      "cell_type": "markdown",
      "source": [
        "8. Дан файл $f$, компоненты которого являются целыми числами. Получить в файле $g$ все компоненты файла $f$, являющиеся чётными числами."
      ],
      "metadata": {
        "id": "BNuZfG_bBqMa"
      }
    },
    {
      "cell_type": "markdown",
      "source": [
        "9. Дан файл $f$, компоненты которого являются действительными числами. Найти наибольшее из значений модулей компонент с нечётными номерами."
      ],
      "metadata": {
        "id": "xb_QX5r1BtGJ"
      }
    },
    {
      "cell_type": "markdown",
      "source": [
        "10. Дан файл, содержащий различные даты. Каждая дата — это число, месяц и год. Найти все весенние даты."
      ],
      "metadata": {
        "id": "ymLknsMVBv3l"
      }
    },
    {
      "cell_type": "markdown",
      "source": [
        "11. Дан файл $f$, компоненты которого являются целыми числами. Получить в файле $g$ все компоненты файла $f$, делящиеся на 3 и не делящиеся на 7."
      ],
      "metadata": {
        "id": "v1kVlkX7BzOE"
      }
    },
    {
      "cell_type": "markdown",
      "source": [
        "12. Дан файл $f$, компоненты которого являются действительными числами. Найти наименьшее из значений компонент с чётными номерами."
      ],
      "metadata": {
        "id": "oLkq3SZwB1zf"
      }
    },
    {
      "cell_type": "markdown",
      "source": [
        "13. Записать в файл $g$ все чётные числа файла $f$, а в файл $h$ все нечётные. Порядок следования чисел сохраняется."
      ],
      "metadata": {
        "id": "oFo22kCLB4vX"
      }
    },
    {
      "cell_type": "markdown",
      "source": [
        "14. Дан файл $f$, компоненты которого являются целыми числами. Ни одна из компонент файла не равна нулю. Файл $f$ содержит столько же отрицательных чисел, сколько и положительных. Переписать компоненты файла $f$ в файл $g$ так, чтобы в файле $g$ не было двух соседних чисел с одним знаком."
      ],
      "metadata": {
        "id": "A_itjMTjB7tA"
      }
    },
    {
      "cell_type": "markdown",
      "source": [
        "15. Дан файл $f$, компоненты которого являются целыми числами. Ни одна из компонент файла не равна нулю. Файл $f$ содержит столько же отрицательных чисел, сколько и положительных. Переписать компоненты файла $f$ в файл $g$ так, чтобы в файле $g$ числа шли в следующем порядке: два положительных два отрицательных, два положительных, два отрицательных и т.д. (предполагается, что число компонент в файле $f$ делится на 4)."
      ],
      "metadata": {
        "id": "AabFdfdMCBPA"
      }
    },
    {
      "cell_type": "markdown",
      "source": [
        "#### <font color='LightCoral'> **ЗАДАНИЕ 21.** Работа с файлами."
      ],
      "metadata": {
        "id": "YbP9A-Z4cp5y"
      }
    },
    {
      "cell_type": "markdown",
      "source": [
        "1. В первом файле хранится $k$ матриц размерности $m × n$, во втором — $l$ матриц размерности $m × n$. Те матрицы из первого файла, у которых $a_{00} = 0$, перенести в конец второго файла. Вывести на экран содержимое обоих файлов."
      ],
      "metadata": {
        "id": "j-zDWAG5DHT_"
      }
    },
    {
      "cell_type": "markdown",
      "source": [
        "2. В первом файле хранится $k$ матриц размерности $m × n$, во втором — $l$ матриц размерности $m × n$. Убрать из файла, в котором больше матриц, лишние матрицы в третий файл. Вывести на экран содержимое всех трёх файлов."
      ],
      "metadata": {
        "id": "N3IzIRHdDJ-B"
      }
    },
    {
      "cell_type": "markdown",
      "source": [
        "3. Файл состоит из $k$ компонент структуры, где каждая компонента содержит две матрицы: первая размерности $m × n$, вторая размерности $m × l$. Получить $k$ произведений соответствующих матриц и записать их во второй файл. Вывести на экран содержимое обоих файлов."
      ],
      "metadata": {
        "id": "ab-Dy9jHDNH5"
      }
    },
    {
      "cell_type": "markdown",
      "source": [
        "4. В первом файле хранится $k$ матриц размерности $m × n$, во втором — $l$ матриц размерности $m × n$. Добавить во второй файл те матрицы из первого, которых нет во втором. Вывести на экран содержимое обоих файлов."
      ],
      "metadata": {
        "id": "HJBQkmciDVhU"
      }
    },
    {
      "cell_type": "markdown",
      "source": [
        "5. В файле хранится $k$ матриц размерности $m × n$. Для каждой матрицы из файла вычислить сумму её положительных четных элементов. Все матрицы с чётными суммами записать в другой файл, заменив их в исходном файле единичными матрицами. Вывести на экран содержимое обоих файлов."
      ],
      "metadata": {
        "id": "ltncABeVDZ0X"
      }
    },
    {
      "cell_type": "markdown",
      "source": [
        "6. В первом файле хранится $k$ матриц размерности $m × n$, во втором — $l$ матриц размерности $m × n$. Поменять местами все нечётные (по порядковому номеру в файле) матрицы из первого и второго файлов (до конца меньшего из файлов). Вывести на экран содержимое обоих файлов."
      ],
      "metadata": {
        "id": "obwaAWcmDdIq"
      }
    },
    {
      "cell_type": "markdown",
      "source": [
        "7. В первом файле хранится $k$ квадратных матриц порядка n, во втором — $l$ квадратных матриц. Если $k ≠ 1$, то в файл с меньшим числом матриц добавить в конец файла недостающее количество единичных матриц. Вывести на экран содержимое обоих файлов."
      ],
      "metadata": {
        "id": "JYtP3dg7Dgit"
      }
    },
    {
      "cell_type": "markdown",
      "source": [
        "8. В файле хранится $k$ матриц размерности $n×n$. Для каждой матрицы из файла вычислить сумму её диагональных элементов. Все матрицы с нечётными суммами записать в другой файл, заменив их в исходном файле транспонированными матрицами. Вывести на экран содержимое обоих файлов."
      ],
      "metadata": {
        "id": "F3RVyLnoDlcz"
      }
    },
    {
      "cell_type": "markdown",
      "source": [
        "9. В первом файле хранится $k$ квадратных матриц. Записать в другой файл из исходного файла все симметрические матрицы ($A = A^T$), в третий файл — остальные. Вывести на экран содержимое всех трёх файлов."
      ],
      "metadata": {
        "id": "Naqwe3ERDvKy"
      }
    },
    {
      "cell_type": "markdown",
      "source": [
        "10. В первом файле хранится $k$ матриц размерности $m × n$, во втором — $k$ матриц размерности n × $l$. Получить $k$ произведений соответствующих матриц из первого и второго файлов и записать их в третий файл в виде компонент структуры, где каждая компонента содержит три матрицы:<br>а) первая размерности $m × n$ из первого файла;<br>б) вторая размерности $n × l$ из второго файла;<br>в) третья, матрица размерности $m × l$, результат произведения.<br>Вывести на экран содержимое всех файлов."
      ],
      "metadata": {
        "id": "-H7KEYYLDyjq"
      }
    },
    {
      "cell_type": "markdown",
      "source": [
        "11. В первом файле хранится $k$ матриц порядка $m × n$, во втором — $l$ матриц. Поменять местами все нечётные (1, 3, 5,... по порядковому номеру в файле) матрицы из первого файла с чётными матрицами (0, 2, 4,...) второго файла (до конца меньшего из файлов). Оставшиеся в большем файле матрицы переписать в третий файл. Вывести на экран содержимое всех файлов."
      ],
      "metadata": {
        "id": "QIvOhrgJEDD1"
      }
    },
    {
      "cell_type": "markdown",
      "source": [
        "12. Файл состоит из $k$ компонент структуры, где каждая компонента содержит две матрицы: первая размерности $m × n$, вторая размерности $m × n$. Получить $k$ сумму соответствующих матриц и записать их во второй файл. Вывести на экран содержимое обоих файлов."
      ],
      "metadata": {
        "id": "V7IFsTO4ELoF"
      }
    },
    {
      "cell_type": "markdown",
      "source": [
        "13. В файле хранится $k$ матриц размерности $m × n$. Для каждой матрицы из файла вычислить сумму её отрицательных нечётных элементов. Все матрицы с нечёт ными суммами записать в другой файл, заменив их в исходном файле единичными матрицами. Вывести на экран содержимое обоих файлов."
      ],
      "metadata": {
        "id": "2lRvXedvEQQX"
      }
    },
    {
      "cell_type": "markdown",
      "source": [
        "14. В первом файле хранится $k$ матриц размерности $m × n$, во втором — $l$ матриц размерности $m × n$. Те матрицы из первого файла, у которых сумма первой строки больше заданного числа перенести в конец второго файла. Вывести на экран содержимое обоих файлов."
      ],
      "metadata": {
        "id": "YfTTG09PETZU"
      }
    },
    {
      "cell_type": "markdown",
      "source": [
        "15. В файле хранится $k$ матриц размерности $n × n$. Для каждой матрицы из файла вычислить произведение элементов её главной диагонали. Все матрицы, у которых произведение больше заданного числа, записать в другой файл. Вывести на экран содержимое обоих файлов."
      ],
      "metadata": {
        "id": "o-1eLzSjDqYP"
      }
    },
    {
      "cell_type": "markdown",
      "source": [
        "#### <font color='LightCoral'> **ЗАДАНИЕ 22.** Регулярные выражения."
      ],
      "metadata": {
        "id": "jLbD02v5Ef9L"
      }
    },
    {
      "cell_type": "markdown",
      "source": [
        "1. <br>а) Напишите программу, которая проверяет введенный пользователем email на соответствие стандарту. Используйте регулярные выражения для проверки.<br>б) Дан текстовый файл. Найдите все email-адреса в этом файле и выведите их на экран. Используйте регулярные выражения для поиска."
      ],
      "metadata": {
        "id": "grsBPZ3Dc8vC"
      }
    },
    {
      "cell_type": "markdown",
      "source": [
        "2. <br>а) Напишите программу, которая проверяет введенный пользователем номер телефона на соответствие стандарту. Используйте регулярные выражения для проверки.<br>б) Дан текстовый файл. Найдите все номера телефонов в этом файле и выведите их на экран. Используйте регулярные выражения для поиска."
      ],
      "metadata": {
        "id": "i-cgam-Hc98z"
      }
    },
    {
      "cell_type": "markdown",
      "source": [
        "3. <br>а) Напишите программу, которая проверяет введенный пользователем url-адрес на соответствие стандарту. Используйте регулярные выражения для проверки.<br>б) Дан текстовый файл. Найдите все url-адреса в этом файле и выведите их на экран. Используйте регулярные выражения для поиска."
      ],
      "metadata": {
        "id": "QsOcWaTZdA7o"
      }
    },
    {
      "cell_type": "markdown",
      "source": [
        "4. <br>а) Напишите программу, которая проверяет введенный пользователем дату на соответствие стандарту. Используйте регулярные выражения для проверки.<br>б) Дан текстовый файл. Найдите все даты в этом файле и выведите их на экран. Используйте регулярные выражения для поиска."
      ],
      "metadata": {
        "id": "8GxfnYtWdDi_"
      }
    },
    {
      "cell_type": "markdown",
      "source": [
        "5. <br>а) Напишите программу, которая проверяет введенный пользователем IP-адрес на соответствие стандарту. Используйте регулярные выражения для проверки.<br>б) Дан текстовый файл. Найдите все IP-адреса в этом файле и выведите их на экран. Используйте регулярные выражения для поиска."
      ],
      "metadata": {
        "id": "vr34q2ZtdGJW"
      }
    },
    {
      "cell_type": "markdown",
      "source": [
        "6. <br>а) Пользователь вводит строку, состоящую из слов, разделенных пробелами. Напишите функцию, которая с помощью регулярного выражения находит все слова, содержащие две и более согласных подряд.<br>б) Дан текстовый файл. Напишите функцию, которая с помощью регулярного выражения заменяет все URL-адреса на слово «ссылка»."
      ],
      "metadata": {
        "id": "u6BK-N9YdIlC"
      }
    },
    {
      "cell_type": "markdown",
      "source": [
        "7. <br>а) Пользователь вводит строку, состоящую из номеров телефонов, разделенных запятыми. Напишите функцию, которая с помощью регулярного выражения проверяет, все ли номера телефонов корректны (формат +7(999)999-99-99).<br>б) Дан текстовый файл. Напишите функцию, которая с помощью регулярного выражения находит все даты в формате мм-гггг и выводит их список."
      ],
      "metadata": {
        "id": "bBBRo_3pdP69"
      }
    },
    {
      "cell_type": "markdown",
      "source": [
        "8. <br>а) Пользователь вводит строку, состоящую из слов, разделенных пробелами. Напишите функцию, которая с помощью регулярного выражения находит все слова, начинающиеся на согласную букву.<br>б) Дан текстовый файл. Напишите функцию, которая с помощью регулярного выражения находит и выводит все номера телефонов."
      ],
      "metadata": {
        "id": "EQ-xb1QzddwI"
      }
    },
    {
      "cell_type": "markdown",
      "source": [
        "9. <br>а) Пользователь вводит строку, состоящую из слов, разделенных пробелами. Напишите функцию, которая с помощью регулярного выражения находит все слова, содержащие две и более цифры подряд.<br>б) Дан текстовый файл. Напишите функцию, которая с помощью регулярного выражения заменяет все русские слова на их перевод на английский язык (перевод задается вами)."
      ],
      "metadata": {
        "id": "2nRmhnD1dhGO"
      }
    },
    {
      "cell_type": "markdown",
      "source": [
        "10. <br>а) Пользователь вводит строку, состоящую из номеров кредитных карт, разделенных запятыми. Напишите функцию, которая с помощью регулярного выражения проверяет, все ли номера кредитных карт корректны (формат 9999 9999 9999 9999).<br>б) Дан текстовый файл. Напишите функцию, которая с помощью регулярного выражения находит все упоминания денежных сумм в формате $999.99 и выводит их список."
      ],
      "metadata": {
        "id": "XAlnJNoldjnP"
      }
    },
    {
      "cell_type": "markdown",
      "source": [
        "11. <br>а) Пользователь вводит строку, состоящую из слов, разделенных пробелами. Напишите функцию, которая с помощью регулярного выражения проверяет, все ли слова в этой строке начинаются с заглавной буквы.<br>б) Дан текстовый файл. Напишите функцию, которая с помощью регулярного выражения заменяет все даты в формате дд.мм.гггг на формат мм/дд/гггг."
      ],
      "metadata": {
        "id": "seUE0kZwdnBi"
      }
    },
    {
      "cell_type": "markdown",
      "source": [
        "12. <br>а) Пользователь вводит строку, состоящую из email-адресов, разделенных запятыми. Напишите функцию, которая с помощью регулярного выражения проверяет, все ли email-адреса корректны.<br>б) Дан текстовый файл. Напишите функцию, которая с помощью регулярного выражения находит все упоминания времени в формате чч:мм (24-часовой формат) и выводит их список."
      ],
      "metadata": {
        "id": "fLKrrjWzdp_G"
      }
    },
    {
      "cell_type": "markdown",
      "source": [
        "13. <br>а) Пользователь вводит строку, состоящую из слов, разделенных пробелами. Напишите функцию, которая с помощью регулярного выражения находит все слова, заканчивающиеся на «ing».<br>б) Дан текстовый файл. Напишите функцию, которая с помощью регулярного выражения заменяет все цифры на звездочки."
      ],
      "metadata": {
        "id": "obPb9FovdsV2"
      }
    },
    {
      "cell_type": "markdown",
      "source": [
        "14. <br>а) Пользователь вводит строку, состоящую из слов, разделенных пробелами. Напишите функцию, которая с помощью регулярного выражения находит все слова, начинающиеся на гласную букву.<br>б) Дан текстовый файл. Напишите функцию, которая с помощью регулярного выражения находит и выводит все адреса электронной почты."
      ],
      "metadata": {
        "id": "xo6dq0z6du4H"
      }
    },
    {
      "cell_type": "markdown",
      "source": [
        "15. <br>а) Пользователь вводит строку, состоящую из слов, разделенных пробелами. Напишите функцию, которая с помощью регулярного выражения находит все слова, содержащие две и более гласных подряд.<br>б) Дан текстовый файл. Напишите функцию, которая с помощью регулярного выражения заменяет все английские слова на их перевод на русский язык (перевод задается вами)."
      ],
      "metadata": {
        "id": "QnqmgMYgdxUN"
      }
    },
    {
      "cell_type": "markdown",
      "source": [
        "#### <font color='LightCoral'> **ЗАДАНИЕ 23.** Обработка исключений."
      ],
      "metadata": {
        "id": "jRQwjKp1cqGI"
      }
    },
    {
      "cell_type": "markdown",
      "source": [
        "1. <br>а) Пользователь вводит число. Если число отрицательное, выводится сообщение «Число должно быть положительным». Если число равно нулю, выводится сообщение «Число не может быть нулевым». В остальных случаях выводится сообщение «Число введено корректно». Используйте исключения `ValueError` и `ZeroDivisionError`.<br>б) Пользователь вводит свой возраст. Если возраст меньше 18 лет, выбрасывается исключение «Несовершеннолетний пользователь». Если возраст больше 100 лет, выбрасывается исключение «Неверный возраст». В остальных случаях выводится сообщение «Возраст введен корректно».<br>в) Пользователь вводит число. Если число отрицательное, используя инструкцию `assert`, проверить условие и вывести сообщение «Число должно быть положительным». В остальных случаях выводится сообщение «Число введено корректно»."
      ],
      "metadata": {
        "id": "dcZaTYuvWADb"
      }
    },
    {
      "cell_type": "markdown",
      "source": [
        "2. <br>а) Необходимо открыть файл с заданным именем. Если файл не существует, вывести сообщение «Файл не найден». Если возникла ошибка при чтении файла, вывести сообщение «Ошибка чтения файла». В остальных случаях вывести сообщение «Файл успешно прочитан». Используйте исключения `FileNotFoundError` и `IOError`.<br>б) Необходимо проверить, является ли введенная пользователем строка палиндромом. Если строка не является палиндромом, выбрасывается исключение «Строка не является палиндромом». В остальных случаях выводится сообщение «Строка является палиндромом».<br>в) Необходимо открыть файл с заданным именем. Если файл не существует, используя инструкцию `assert`, проверить условие и вывести сообщение «Файл не найден». В остальных случаях вывести сообщение «Файл успешно прочитан»."
      ],
      "metadata": {
        "id": "f8VUi5FSWCkt"
      }
    },
    {
      "cell_type": "markdown",
      "source": [
        "3. <br>а) Необходимо разделить два числа, введенных пользователем. Если второе число равно нулю, вывести сообщение «Деление на ноль запрещено». В остальных случаях вывести результат деления. Используйте исключение `ZeroDivisionError`.<br>б) Необходимо проверить, является ли введенное пользователем число простым. Если число не является простым, выбрасывается исключение «Число не является простым». В остальных случаях выводится сообщение «Число является простым».<br>в) Необходимо разделить два числа, введенных пользователем. Если второе число равно нулю, используя инструкцию `assert`, проверить условие и вывести сообщение «Деление на ноль запрещено». В остальных случаях вывести результат деления."
      ],
      "metadata": {
        "id": "dTpmyqQqWHGF"
      }
    },
    {
      "cell_type": "markdown",
      "source": [
        "4. <br>а) Пользователь вводит имя файла. Если имя файла содержит недопустимые символы, выбрасывается исключение «Недопустимое имя файла». В остальных случаях выводится сообщение «Имя файла введено корректно».<br>б) Пользователь вводит дату своего рождения. Если дата не соответствует формату «дд.мм.гггг», выбрасывается исключение «Неверный формат даты». В остальных случаях выводится сообщение «Дата введена корректно».<br>в) Пользователь вводит координаты точки на плоскости. Если хотя бы одна из координат не является числом, выбрасывается исключение «Некорректные координаты». В остальных случаях выводится сообщение «Координаты введены корректно»."
      ],
      "metadata": {
        "id": "WXsxfNiHWKDX"
      }
    },
    {
      "cell_type": "markdown",
      "source": [
        "5. <br>а) Необходимо открыть файл с заданным именем. Если файл не существует, вывести сообщение «Файл не найден». Если файл не является текстовым, выбрасывается исключение «Файл не является текстовым». В остальных случаях вывести сообщение «Файл успешно открыт». Используйте исключения `FileNotFoundError` и `TypeError`.<br>б) Необходимо проверить, является ли введенная пользователем строка числом. Если строка не является числом, выбрасывается исключение «Строка не является числом». В остальных случаях выводится сообщение «Строка является числом».<br>в) Необходимо открыть файл с заданным именем. Если файл не существует, используя инструкцию `assert`, проверить условие и вывести сообщение «Файл не найден». Если файл не является текстовым, выбрасывается исключение «Файл не является текстовым». В остальных случаях вывести сообщение «Файл успешно открыт»."
      ],
      "metadata": {
        "id": "IO8GcnNcWaOD"
      }
    },
    {
      "cell_type": "markdown",
      "source": [
        "6. <br>а) Необходимо возвести число, введенное пользователем, в степень, также введенную пользователем. Если степень отрицательная, выбрасывается исключение «Отрицательная степень». В остальных случаях выводится результат возведения в степень. Используйте исключение `ValueError`.<br>б) Необходимо проверить, является ли введенное пользователем число четным. Если число не является четным, выбрасывается исключение «Число не является четным». В остальных случаях выводится сообщение «Число является четным».<br>в) Необходимо возвести число, введенное пользователем, в степень, также введенную пользователем. Если степень отрицательная, используя инструкцию `assert`, проверить условие и вывести сообщение «Отрицательная степень». В остальных случаях выводится результат возведения в степень."
      ],
      "metadata": {
        "id": "Hc_POcb_WfQv"
      }
    },
    {
      "cell_type": "markdown",
      "source": [
        "7. <br>а) Пользователь вводит свое имя. Если имя содержит цифры или специальные символы, выбрасывается исключение «Некорректное имя». В остальных случаях выводится сообщение «Имя введено корректно».<br>б) Пользователь вводит номер телефона. Если номер не соответствует формату «+7XXXXXXXXXX», выбрасывается исключение «Неверный формат номера». В остальных случаях выводится сообщение «Номер введен корректно».<br>в) Пользователь вводит email адрес. Если адрес не соответствует формату «example@example.com», выбрасывается исключение «Неверный формат email». В остальных случаях выводится сообщение «Email введен корректно»."
      ],
      "metadata": {
        "id": "mMOdpvk2Wl3C"
      }
    },
    {
      "cell_type": "markdown",
      "source": [
        "8. <br>а) Необходимо открыть файл с заданным именем. Если файл не существует, вывести сообщение «Файл не найден». Если файл пустой, выбрасывается исключение «Файл пустой». В остальных случаях вывести сообщение «Файл успешно открыт». Используйте исключения `FileNotFoundError` и `EOFError`.<br>б) Необходимо проверить, является ли введенная пользователем строка URL-адресом. Если строка не является URL-адресом, выбрасывается исключение «Строка не является URL-адресом». В остальных случаях выводится сообщение «Строка является URL-адресом».<br>в) Необходимо открыть файл с заданным именем. Если файл не существует, используя инструкцию `assert`, проверить условие и вывести сообщение «Файл не найден». Если файл пустой, выбрасывается исключение «Файл пустой». В остальных случаях вывести сообщение «Файл успешно открыт»."
      ],
      "metadata": {
        "id": "2t5_dI0mWq1k"
      }
    },
    {
      "cell_type": "markdown",
      "source": [
        "9. <br>а) Необходимо посчитать факториал числа, введенного пользователем. Если число отрицательное, выбрасывается исключение «Отрицательное число». В остальных случаях выводится результат вычисления факториала. Используйте исключение `ValueError`.<br>б) Необходимо проверить, является ли введенное пользователем число положительным. Если число не является положительным, выбрасывается исключение «Число не является положительным». В остальных случаях выводится сообщение «Число является положительным».<br>в) Необходимо посчитать факториал числа, введенного пользователем. Если число отрицательное, используя инструкцию `assert`, проверить условие и вывести сообщение «Отрицательное число». В остальных случаях выводится результат вычисления факториала."
      ],
      "metadata": {
        "id": "SBoP5Wq-W0wB"
      }
    },
    {
      "cell_type": "markdown",
      "source": [
        "10. <br>а) Пользователь вводит свой рост. Если рост меньше 0 или больше 300 см, выбрасывается исключение «Некорректный рост». В остальных случаях выводится сообщение «Рост введен корректно».<br>б) Пользователь вводит вес. Если вес меньше 0 или больше 500 кг, выбрасывается исключение «Некорректный вес». В остальных случаях выводится сообщение «Вес введен корректно».<br>в) Пользователь вводит температуру. Если температура меньше –273.15 градусов Цельсия, выбрасывается исключение «Некорректная температура». В остальных случаях выводится сообщение «Температура введена корректно»."
      ],
      "metadata": {
        "id": "35wUNOaVW9WR"
      }
    },
    {
      "cell_type": "markdown",
      "source": [
        "11. <br>а) Необходимо открыть файл с заданным именем. Если файл не существует, вывести сообщение «Файл не найден». Если файл содержит недопустимые символы, выбрасывается исключение «Файл содержит недопустимые символы». В остальных случаях вывести сообщение «Файл успешно открыт». Используйте исключения `FileNotFoundError` и `ValueError`.<br>б) Необходимо проверить, является ли введенная пользователем строка пустой. Если строка не является пустой, выбрасывается исключение «Строка не является пустой». В остальных случаях выводится сообщение «Строка является пустой».<br>в) Необходимо открыть файл с заданным именем. Если файл не существует, используя инструкцию `assert`, проверить условие и вывести сообщение «Файл не найден». Если файл содержит недопустимые символы, выбрасывается исключение «Файл содержит недопустимые символы». В остальных случаях вывести сообщение «Файл успешно открыт»."
      ],
      "metadata": {
        "id": "HHKJ_4I9XFFl"
      }
    },
    {
      "cell_type": "markdown",
      "source": [
        "12. <br>а) Необходимо проверить, является ли введенное пользователем число квадратом целого числа. Если число не является квадратом целого числа, выбрасывается исключение «Число не является квадратом целого числа». В остальных случаях выводится сообщение «Число является квадратом целого числа».<br>б) Необходимо проверить, является ли введенная пользователем строка палиндромом. Если строка не является палиндромом, выбрасывается исключение «Строка не является палиндромом». В остальных случаях выводится сообщение «Строка является палиндромом».<br>в) Необходимо проверить, является ли введенное пользователем число квадратом целого числа. Если число не является квадратом целого числа, используя инструкцию `assert`, проверить условие и вывести сообщение «Число не является квадратом целого числа». В остальных случаях выводится сообщение «Число является квадратом целого числа»."
      ],
      "metadata": {
        "id": "IBCOAnCMXLa0"
      }
    },
    {
      "cell_type": "markdown",
      "source": [
        "13. <br>а) Пользователь вводит свой возраст. Если возраст меньше 0 или больше 150 лет, выбрасывается исключение «Некорректный возраст». В остальных случаях выводится сообщение «Возраст введен корректно».<br>б) Пользователь вводит свой пол. Если пол не равен «м» или «ж», выбрасывается исключение «Некорректный пол». В остальных случаях выводится сообщение «Пол введен корректно».<br>в) Пользователь вводит свое имя. Если имя содержит цифры или специальные символы, используя инструкцию `assert`, проверить условие и вывести сообщение «Некорректное имя». В остальных случаях выводится сообщение «Имя введено корректно»."
      ],
      "metadata": {
        "id": "74JY9_ZyWvO_"
      }
    },
    {
      "cell_type": "markdown",
      "source": [
        "14. <br>а) Необходимо проверить, является ли введенное пользователем число степенью двойки. Если число не является степенью двойки, выбрасывается исключение «Число не является степенью двойки». В остальных случаях выводится сообщение «Число является степенью двойки».<br>б) Необходимо проверить, является ли введенная пользователем строка палиндромом. Если строка не является палиндромом, выбрасывается исключение «Строка не является палиндромом». В остальных случаях выводится сообщение «Строка является палиндромом».<br>в) Необходимо проверить, является ли введенное пользователем число степенью двойки. Если число не является степенью двойки, используя инструкцию `assert`, проверить условие и вывести сообщение «Число не является степенью двойки». В остальных случаях выводится сообщение «Число является степенью двойки»."
      ],
      "metadata": {
        "id": "pTFj-jueXa6F"
      }
    },
    {
      "cell_type": "markdown",
      "source": [
        "15. <br>а) Пользователь вводит свое имя. Если имя содержит только пробелы или пустую строку, выбрасывается исключение «Некорректное имя». В остальных случаях выводится сообщение «Имя введено корректно».<br>б) Пользователь вводит свой возраст. Если возраст меньше 0 или больше 120 лет, выбрасывается исключение «Некорректный возраст». В остальных случаях выводится сообщение «Возраст введен корректно».<br>в) Пользователь вводит свой пол. Если пол не равен «м» или «ж», используя инструкцию assert, проверить условие и вывести сообщение «Некорректный пол». В остальных случаях выводится сообщение «Пол введен корректно»."
      ],
      "metadata": {
        "id": "_CoU1wxvXh2J"
      }
    },
    {
      "cell_type": "markdown",
      "source": [
        "#### <font color='LightCoral'> **ЗАДАНИЕ 24.** Продвинутые коллекции."
      ],
      "metadata": {
        "id": "nTJboR7ycqP2"
      }
    },
    {
      "cell_type": "markdown",
      "source": [
        "1. <br>а) **`Counter`**: Подсчитать количество повторений каждого элемента в списке и вывести на экран.<br>б) **`defaultdictr`**: Написать функцию, которая принимает на вход список слов и возвращает словарь, в котором каждое слово является ключом, а значение — количество раз, которое это слово встречается в списке.<br>в) **`enum`**: Создать перечисление для дней недели и написать функцию, которая принимает на вход день недели и выводит его название на русском языке.<br>г) **`frozenset`**: Напишите программу, которая принимает на вход два множества и выводит их пересечение в виде `frozenset`.<br>д) **`namedtuple`**: Написать функцию, которая принимает список кортежей (имя, фамилия, возраст) и возвращает список объектов класса `namedtuple` с соответствующими полями.<br>е) **`OrderedDict`**: Создать упорядоченный словарь, содержащий информацию о количестве продаж каждого товара в интернет-магазине за последний месяц."
      ],
      "metadata": {
        "id": "vwPShvufoigb"
      }
    },
    {
      "cell_type": "markdown",
      "source": [
        "2. <br>а) **`Counter`**: Подсчитать количество слов в тексте и вывести на экран.<br>б) **`defaultdictr`**: Написать функцию, которая принимает на вход список кортежей (имя, оценка) и возвращает словарь, в котором каждое имя является ключом, а значение — список оценок этого человека.<br>в) **`enum`**: Создать перечисление для цветов и написать функцию, которая принимает на вход два цвета и возвращает их смешение (например, смешение красного и синего даст фиолетовый).<br>г) **`frozenset`**: Напишите функцию, которая принимает на вход список чисел и возвращает `frozenset` с уникальными значениями из этого списка.<br>д) **`namedtuple`**: Написать функцию, которая принимает список объектов класса `namedtuple` с информацией о продуктах и возвращает общую стоимость всех товаров.<br>е) **`OrderedDict`**: Реализовать функцию, которая принимает на вход список слов и возвращает упорядоченный словарь, в котором ключами являются слова, а значениями — количество повторений каждого слова в списке."
      ],
      "metadata": {
        "id": "IvQQtsDhokNs"
      }
    },
    {
      "cell_type": "markdown",
      "source": [
        "3. <br>а) **`Counter`**: Найти наиболее часто встречающийся элемент в списке.<br>б) **`defaultdictr`**: Написать функцию, которая принимает на вход список чисел и возвращает словарь, в котором каждое число является ключом, а значение — список индексов, на которых это число встречается в списке.<br>в) **`enum`**: Создать перечисление для типов животных (например, кошка, собака, птица) и написать функцию, которая принимает на вход тип животного и выводит звук, который оно издает.<br>г) **`frozenset`**: Напишите программу, которая принимает на вход два множества и выводит их объединение в виде `frozenset`.<br>д) **`namedtuple`**: Написать функцию, которая принимает список объектов класса `namedtuple` с информацией о погоде и возвращает среднюю температуру за все дни.<br>е) **`OrderedDict`**: Написать программу, которая считывает из файла список студентов и их оценки за экзамены, и выводит на экран упорядоченный словарь, в котором ключами являются имена студентов, а значениями — средний балл каждого студента."
      ],
      "metadata": {
        "id": "Se4K-Q2zpans"
      }
    },
    {
      "cell_type": "markdown",
      "source": [
        "4. <br>а) **`Counter`**: Найти наименее часто встречающийся элемент в списке.<br>б) **`defaultdictr`**: Написать функцию, которая принимает на вход список кортежей (город, население) и возвращает словарь, в котором каждый город является ключом, а значение — население этого города. Если город уже есть в словаре, то население должно добавляться к уже имеющемуся значению.<br>в) **`enum`**: Создать перечисление для видов транспорта (например, автомобиль, велосипед, самолет) и написать функцию, которая принимает на вход вид транспорта и выводит максимальную скорость, которую он может развить.<br>г) **`frozenset`**: Напишите функцию, которая принимает на вход строку и возвращает `frozenset` с уникальными символами из этой строки.<br>д) **`namedtuple`**: Написать функцию, которая принимает список объектов класса `namedtuple` с информацией о книгах и сортирует их по году издания в порядке убывания.<br>е) **`OrderedDict`**: Написать программу, которая считывает из файла список товаров и их цен, и выводит на экран упорядоченный словарь, в котором ключами являются названия товаров, а значениями — цены на каждый товар. При этом цены должны быть отсортированы в порядке возрастания."
      ],
      "metadata": {
        "id": "SY4SFc9yqMlD"
      }
    },
    {
      "cell_type": "markdown",
      "source": [
        "5. <br>а) **`Counter`**: Найти все элементы, которые встречаются в списке более одного раза.<br>б) **`defaultdictr`**: Написать функцию, которая принимает на вход список чисел и возвращает список уникальных чисел из этого списка в том же порядке, в котором они были в исходном списке. Для решения задачи можно использовать defaultdict с типом значений set.<br>в) **`enum`**: Создать перечисление для месяцев года и написать функцию, которая принимает на вход две даты и выводит количество полных месяцев между ними.<br>г) **`frozenset`**: Напишите программу, которая принимает на вход два `frozenset` и выводит их разность в виде `frozenset`.<br>д) **`namedtuple`**: Написать функцию, которая принимает список объектов класса `namedtuple` с информацией о пользователях и возвращает список всех email-адресов.<br>е) **`OrderedDict`**: Написать программу, которая считывает из файла список слов и их частоту встречаемости в тексте, и выводит на экран упорядоченный словарь, в котором ключами являются слова, а значениями — их частота встречаемости. При этом слова должны быть отсортированы в порядке убывания частоты встречаемости."
      ],
      "metadata": {
        "id": "MT7PGDeyqOFL"
      }
    },
    {
      "cell_type": "markdown",
      "source": [
        "6. <br>а) **`Counter`**: Отсортировать список по частоте элементов (от наиболее часто встречающихся до наименее).<br>б) **`defaultdictr`**: Написать функцию, которая принимает на вход список строк и возвращает словарь, в котором каждая строка является ключом, а значение — список индексов, на которых эта строка встречается в списке.<br>в) **`enum`**: Создать перечисление для типов планет в солнечной системе (например, Земля, Марс, Юпитер) и написать функцию, которая принимает на вход тип планеты и выводит её радиус.<br>г) **`frozenset`**: Напишите программу, которая принимает на вход список списков и возвращает `frozenset` с уникальными элементами из всех списков.<br>д) **`namedtuple`**: Написать функцию, которая принимает список объектов класса `namedtuple` с информацией о заказах и возвращает список заказов, сделанных в определенный день.<br>е) **`OrderedDict`**: Написать программу, которая считывает из файла список городов и их население, и выводит на экран упорядоченный словарь, в котором ключами являются названия городов, а значениями — население каждого города. При этом города должны быть отсортированы в порядке алфавитного порядка."
      ],
      "metadata": {
        "id": "IATNaMsjqgi8"
      }
    },
    {
      "cell_type": "markdown",
      "source": [
        "7. <br>а) **`Counter`**: Подсчитать количество каждого элемента в списке.<br>б) **`defaultdictr`**: Написать функцию, которая принимает на вход список кортежей (название книги, автор) и возвращает словарь, в котором каждый автор является ключом, а значение — список названий книг этого автора.<br>в) **`enum`**: Создать перечисление для типов материалов (например, дерево, металл, стекло) и написать функцию, которая принимает на вход два материала и возвращает true, если они совместимы, и false в противном случае.<br>г) **`frozenset`**: Напишите функцию, которая принимает на вход два множества и возвращает `frozenset` с элементами, которые есть только в одном из множеств.<br>д) **`namedtuple`**: Написать функцию, которая принимает список объектов класса `namedtuple` с информацией о фильмах и возвращает список фильмов, выпущенных после определенного года.<br>е) **`OrderedDict`**: Написать программу, которая считывает из файла список студентов и их оценки по предметам, и выводит на экран упорядоченный словарь, в котором ключами являются имена студентов, а значениями — их средний балл по всем предметам. При этом студенты должны быть отсортированы в порядке убывания среднего балла."
      ],
      "metadata": {
        "id": "xM1h9Sucqlje"
      }
    },
    {
      "cell_type": "markdown",
      "source": [
        "8. <br>а) **`Counter`**: Подсчитать количество каждого слова в тексте.<br>б) **`defaultdictr`**: Написать функцию, которая принимает на вход список чисел и возвращает словарь, в котором каждое число является ключом, а значение — количество раз, которое это число встречается в списке.<br>в) **`enum`**: Создать перечисление для типов спорта (например, футбол, баскетбол, теннис) и написать функцию, которая принимает на вход тип спорта и выводит количество игроков в команде.<br>г) **`frozenset`**: Напишите программу, которая принимает на вход список строк и возвращает `frozenset` с уникальными словами из всех строк (слова разделены пробелами).<br>д) **`namedtuple`**: Написать функцию, которая принимает список объектов класса `namedtuple` с информацией о музыкальных альбомах и возвращает список альбомов, выпущенных до определенного года.<br>е) **`OrderedDict`**: Написать программу, которая считывает из файла список товаров и их цены, и выводит на экран упорядоченный словарь, в котором ключами являются названия товаров, а значениями — их цена. При этом товары должны быть отсортированы в порядке алфавитного порядка."
      ],
      "metadata": {
        "id": "YxCymglSqpn-"
      }
    },
    {
      "cell_type": "markdown",
      "source": [
        "9. <br>а) **`Counter`**: Подсчитать количество букв в словах текста.<br>б) **`defaultdictr`**: Написать функцию, которая принимает на вход список кортежей (название города, температура) и возвращает словарь, в котором каждый город является ключом, а значение — список температур этого города.<br>в) **`enum`**: Создать перечисление для типов еды (например, фрукты, овощи, мясо) и написать функцию, которая принимает на вход тип еды и выводит количество калорий на 100 грамм.<br>г) **`frozenset`**: Напишите функцию, которая принимает на вход два множества и возвращает `frozenset` с элементами, которые есть только в первом множестве и не встречаются во втором.<br>д) **`namedtuple`**: Написать функцию, которая принимает список объектов класса `namedtuple` с информацией о товарах и возвращает список товаров, количество которых меньше определенного значения.<br>е) **`OrderedDict`**: Создать упорядоченный словарь, содержащий информацию о количестве продаж различных товаров за последний месяц. Ключом является название товара, а значением — количество продаж."
      ],
      "metadata": {
        "id": "sJpSahOlqt1m"
      }
    },
    {
      "cell_type": "markdown",
      "source": [
        "10. <br>а) **`Counter`**: Найти наиболее часто встречающийся элемент в списке.<br>б) **`defaultdictr`**: Написать функцию, которая принимает на вход список строк и возвращает словарь, в котором каждая строка является ключом, а значение — количество раз, которое эта строка встречается в списке.<br>в) **`enum`**: Создать перечисление для типов музыкальных инструментов (например, гитара, фортепиано, скрипка) и написать функцию, которая принимает на вход тип инструмента и выводит название его создателя.<br>г) **`frozenset`**: Напишите программу, которая принимает на вход список кортежей и возвращает `frozenset` с уникальными элементами из всех кортежей.<br>д) **`namedtuple`**: Написать функцию, которая принимает список объектов класса `namedtuple` с информацией о футбольных командах и возвращает список команд, у которых количество побед больше определенного значения.<br>е) **`OrderedDict`**: Написать функцию, которая принимает на вход список кортежей, содержащих информацию о различных товарах (название, цена, количество) и возвращает упорядоченный словарь, в котором ключом является название товара, а значением — список кортежей с информацией о цене и количестве."
      ],
      "metadata": {
        "id": "GKXg8iCFqwnN"
      }
    },
    {
      "cell_type": "markdown",
      "source": [
        "11. <br>а) **`Counter`**: Найти наиболее часто встречающееся слово в тексте.<br>б) **`defaultdictr`**: Написать функцию, которая принимает на вход список чисел и возвращает словарь, в котором ключами являются четные числа из списка, а значениями — список нечетных чисел, которые следуют за этим четным числом.<br>в) **`enum`**: Создать перечисление для типов цветов (например, красный, зеленый, синий) и написать функцию, которая принимает на вход тип цвета и выводит его RGB код.<br>г) **`frozenset`**: Напишите функцию, которая принимает на вход два множества и возвращает `frozenset` с элементами, которые есть в обоих множествах.<br>д) **`namedtuple`**: Написать функцию, которая принимает список объектов класса `namedtuple` с информацией о студентах и возвращает список студентов, чей средний балл выше определенного значения.<br>е) **`OrderedDict`**: Создать класс для работы с упорядоченным словарем, который позволяет добавлять, удалять и изменять элементы словаря, а также получать отсортированный список ключей и значений."
      ],
      "metadata": {
        "id": "oNs7GaXiqz6t"
      }
    },
    {
      "cell_type": "markdown",
      "source": [
        "12. <br>а) **`Counter`**: Найти наименее часто встречающийся элемент в списке.<br>б) **`defaultdictr`**: Написать функцию, которая принимает на вход список кортежей (название города, население) и возвращает словарь, в котором ключами являются диапазоны населения (например, «менее 100 тыс.», «от 100 тыс. до 1 млн.», «более 1 млн.»), а значениями — список городов, попадающих в каждый диапазон.<br>в) **`enum`**: Создать перечисление для типов животных (например, кошка, собака, кролик) и написать функцию, которая принимает на вход тип животного и выводит его средний вес.<br>г) **`frozenset`**: Напишите программу, которая принимает на вход список словарей и возвращает `frozenset` с уникальными ключами из всех словарей.<br>д) **`namedtuple`**: Написать функцию, которая принимает список объектов класса `namedtuple` с информацией о книгах и возвращает список книг, количество страниц в которых больше определенного значения.<br>е) **`OrderedDict`**: Написать функцию, которая принимает на вход упорядоченный словарь и возвращает новый словарь, содержащий только те элементы, значения которых больше заданного числа."
      ],
      "metadata": {
        "id": "yOcog7ueq2rO"
      }
    },
    {
      "cell_type": "markdown",
      "source": [
        "13. <br>а) **`Counter`**: Найти наименее часто встречающееся слово в тексте.<br>б) **`defaultdictr`**: Написать функцию, которая принимает на вход список кортежей (название товара, цена) и возвращает словарь, в котором ключами являются диапазоны цен (например, «до 100 руб.», «от 100 руб. до 500 руб.», «более 500 руб.»), а значениями — список товаров, попадающих в каждый диапазон.<br>в) **`enum`**: Создать перечисление для типов напитков (например, чай, кофе, сок) и написать функцию, которая принимает на вход тип напитка и выводит его содержание кофеина.<br>г) **`frozenset`**: Напишите функцию, которая принимает на вход два множества и возвращает `frozenset` с элементами, которые есть только во втором множестве и не встречаются в первом.<br>д) **`namedtuple`**: Написать функцию, которая принимает список объектов класса `namedtuple` с информацией о поставщиках и возвращает список поставщиков из определенного города.<br>е) **`OrderedDict`**: Написать функцию, которая принимает на вход упорядоченный словарь и возвращает список ключей, значения которых начинаются с заданной буквы."
      ],
      "metadata": {
        "id": "FgpLCX4mq433"
      }
    },
    {
      "cell_type": "markdown",
      "source": [
        "14. <br>а) **`Counter`**: Определить, сколько раз каждая цифра встречается в числе.<br>б) **`defaultdictr`**: Написать функцию, которая принимает на вход список кортежей (название страны, столица) и возвращает словарь, в котором ключами являются первые буквы названий стран (в верхнем регистре), а значениями — список кортежей с названиями стран и их столиц.<br>в) **`enum`**: Создать перечисление для типов видов транспорта (например, автомобиль, велосипед, самолет) и написать функцию, которая принимает на вход тип транспорта и выводит его максимальную скорость.<br>г) **`frozenset`**: Напишите программу, которая принимает на вход список строк и возвращает `frozenset` с уникальными символами из всех строк.<br>д) **`namedtuple`**: Написать функцию, которая принимает список объектов класса `namedtuple` с информацией о клиентах и возвращает список клиентов из определенного города.<br>е) **`OrderedDict`**: Написать функцию, которая принимает на вход упорядоченный словарь и возвращает новый словарь, содержащий только те элементы, ключи которых начинаются с заданной буквы."
      ],
      "metadata": {
        "id": "7-9OGkTlq76X"
      }
    },
    {
      "cell_type": "markdown",
      "source": [
        "15. <br>а) **`Counter`**: Определить, сколько раз каждая буква алфавита встречается в тексте.<br>б) **`defaultdictr`**: Написать функцию, которая принимает на вход список строк и возвращает словарь, в котором ключами являются первые три буквы строк (в верхнем регистре), а значениями — количество строк, начинающихся с этих трех букв.<br>в) **`enum`**: Создать перечисление для типов драгоценных камней (например, алмаз, изумруд, рубин) и написать функцию, которая принимает на вход тип камня и выводит его твердость по шкале Мооса.<br>г) **`frozenset`**: Напишите функцию, которая принимает на вход два множества и возвращает `frozenset` с элементами, которые есть только в одном из множествах, но не в обоих.<br>д) **`namedtuple`**: Написать функцию, которая принимает список объектов класса `namedtuple` с информацией о транспортных средствах и возвращает список транспортных средств, выпущенных после определенного года.<br>е) **`OrderedDict`**: Написать функцию, которая принимает на вход упорядоченный словарь и возвращает новый словарь, содержащий только те элементы, значения которых содержат заданную подстроку."
      ],
      "metadata": {
        "id": "qoOSwndhq--i"
      }
    },
    {
      "cell_type": "markdown",
      "source": [
        "## <font color='CadetBlue'> **ВТОРОЙ СЕМЕСТР**"
      ],
      "metadata": {
        "id": "Eiz1r57hl3Lv"
      }
    },
    {
      "cell_type": "markdown",
      "source": [
        "### <font color='CadetBlue'> **I** —  февраль, март"
      ],
      "metadata": {
        "id": "WtxZotV6eLD2"
      }
    },
    {
      "cell_type": "markdown",
      "source": [
        "#### <font color='LightCoral'> **ЗАДАНИЕ 25.** Описание класса."
      ],
      "metadata": {
        "id": "s2CXmHkJeW6N"
      }
    },
    {
      "cell_type": "markdown",
      "source": [
        "1. Класс – комплексное число. Методы – сумма, разность, произведение комплексных чисел. Поля – действительная и мнимая часть комплексного числа."
      ],
      "metadata": {
        "id": "Nj2PsaR7Fai6"
      }
    },
    {
      "cell_type": "markdown",
      "source": [
        "2. Класс – десятичная дробь. Методы класса – сумма, разность, произведение, частное десятичных дробей. Поля класса – целая и дробная часть числа."
      ],
      "metadata": {
        "id": "W6MQR6pAFb4G"
      }
    },
    {
      "cell_type": "markdown",
      "source": [
        "3. Класс – натуральная дробь. Методы класса – сумма, разность, произведение, частное натуральных дробей. Поля класса – числитель и знаменатель дроби."
      ],
      "metadata": {
        "id": "90JJLDN0FhxH"
      }
    },
    {
      "cell_type": "markdown",
      "source": [
        "4. Класс – строка символов. Методы класса – расчет длины строки и коли-чества слов. Поля класса – строка, длина строки, кол–во слов в строке."
      ],
      "metadata": {
        "id": "RhQ2vaJSFl3s"
      }
    },
    {
      "cell_type": "markdown",
      "source": [
        "5. Класс – отрезок. Методы – расчет середины и длины. Поля класса – координаты начала, конца, середины и длина."
      ],
      "metadata": {
        "id": "u-XeyYkRFqFh"
      }
    },
    {
      "cell_type": "markdown",
      "source": [
        "6. Класс – окружность. Методы – расчет длины окружности и ее площади. Поля класса – координаты центра, радиус, длина, площадь окружности."
      ],
      "metadata": {
        "id": "LcZB0oNfFs7k"
      }
    },
    {
      "cell_type": "markdown",
      "source": [
        "7. Класс – квадратное уравнение. Методы – расчет корней уравнения. Поля – корни уравнения, коэффициенты  $a$, $b$, $c$."
      ],
      "metadata": {
        "id": "oOXS_Am7FxNJ"
      }
    },
    {
      "cell_type": "markdown",
      "source": [
        "8. Класс – шар. Методы – расчет площади и объема шара. Поля – координаты центра ($x$, $y$, $z$), радиус шара."
      ],
      "metadata": {
        "id": "lOMtr2Q3F5nW"
      }
    },
    {
      "cell_type": "markdown",
      "source": [
        "9. Класс – конус. Методы – расчет площади и объема конуса. Поля – радиус основания, высота конуса."
      ],
      "metadata": {
        "id": "mDiM5tREGETd"
      }
    },
    {
      "cell_type": "markdown",
      "source": [
        "10. Класс – параллелепипед. Методы – расчет площади поверхности и объема параллелепипеда. Поля – ребра $a$, $b$, $c$, площадь и объем."
      ],
      "metadata": {
        "id": "BVyKGnfiGHaJ"
      }
    },
    {
      "cell_type": "markdown",
      "source": [
        "11. Класс – целочисленный вектор фиксированной размерности. Методы – сумма, разность, скалярное произведение векторов. Поля – размерность вектора, координаты вектора."
      ],
      "metadata": {
        "id": "iavPLGYIGRoR"
      }
    },
    {
      "cell_type": "markdown",
      "source": [
        "12. Класс – треугольник. Методы – расчет площади и периметра треуголь-ника. Поля – стороны треугольника."
      ],
      "metadata": {
        "id": "c_-H2DlIGWti"
      }
    },
    {
      "cell_type": "markdown",
      "source": [
        "13. Класс – студент. Методы – определение среднего балла и решение о начислении стипендии. Поля – ФИО студента, оценки по дисциплинам в текущую сессию, средний балл."
      ],
      "metadata": {
        "id": "_-sacydeGXpO"
      }
    },
    {
      "cell_type": "markdown",
      "source": [
        "14. Класс – трапеция. Методы – расчет площади и периметра трапеции. Поля – стороны трапеции, площадь и периметр."
      ],
      "metadata": {
        "id": "6dGaKB6OGaDC"
      }
    },
    {
      "cell_type": "markdown",
      "source": [
        "15. Класс – целочисленный вектор фиксированной размерности. Методы – сравнение двух векторов на равенство, вычисление длины вектора. Поля – размерность вектора, координаты вектора."
      ],
      "metadata": {
        "id": "3Qglr0unGcrb"
      }
    },
    {
      "cell_type": "markdown",
      "source": [
        "#### <font color='LightCoral'> **ЗАДАНИЕ 26.** Работа с классами."
      ],
      "metadata": {
        "id": "YpP98h6Lej5f"
      }
    },
    {
      "cell_type": "markdown",
      "source": [
        "1. Опишите класс `Point`. Для точки задаются декартовы координаты $x$, $y$. Включите в описание класса методы, позволяющие вывести координаты точки на экран, рассчитать расстояние от начала координат до точки, пе-реместить точку на плоскости на вектор $(a, b)$ и свойство, позволяющее умножить координаты точки на скаляр.\n"
      ],
      "metadata": {
        "id": "momSNTdcGrkB"
      }
    },
    {
      "cell_type": "markdown",
      "source": [
        "2. Опишите класс `Triangle`, заданный длинами сторон. Включите в описание класса методы, позволяющие вывести длины сторон треугольника на экран, рассчитать периметр, площадь и высоты треугольника и свойство, позволяющее установить, существует ли треугольник с данными длинами сторон.\n"
      ],
      "metadata": {
        "id": "Lg4RrDrSG3DR"
      }
    },
    {
      "cell_type": "markdown",
      "source": [
        "3. Опишите класс `Rectangle`, заданный длинами сторон. Включите в описа-ние класса методы, позволяющие вывести длины сторон прямоугольника на экран, рассчитать периметр, площадь и диагональ прямоугольника, изменить его размеры, умножив его длины на скаляр, и свойство, позволяющее установить, является ли данный прямоугольник квадратом."
      ],
      "metadata": {
        "id": "lis8Yq4DG-Fk"
      }
    },
    {
      "cell_type": "markdown",
      "source": [
        "4. Опишите класс `Money`, заданный двумя полями, которые определяют номинал купюры и количество купюр. Включите в описание класса методы, позволяющие вывести номинал и количество купюр, определить, хватит ли денежных средств на покупку товара на сумму   рублей, и метод определения, сколько штук товара стоимости   рублей можно купить на имеющиеся денежные средства, а также свойство, позволяющее рассчитать сумму денег."
      ],
      "metadata": {
        "id": "qgVzd0tgHAew"
      }
    },
    {
      "cell_type": "markdown",
      "source": [
        "5. Опишите класс `Angle`, заданный величиной в градусах и минутах (двумя полями). Включите в описание класса методы, позволяющие реализовать перевод в радианы, привести величину угла к диапазону 0–360°, увеличить и уменьшить угол на заданную величину и свойство, позволяющее определить, является ли угол тупым."
      ],
      "metadata": {
        "id": "nZHQuT8QHD9E"
      }
    },
    {
      "cell_type": "markdown",
      "source": [
        "6. Опишите класс для работы со списком целых чисел размером $n$. Включите в описание класса методы ввода элементов списка, вывода списка на экран, нахождения максимального и минимального элементов списка и их индексов, а также свойства, позволяющие: определить, является ли список упорядоченным по убыванию, домножить все элементы списка на скаляр."
      ],
      "metadata": {
        "id": "R9f9bHiiHMAD"
      }
    },
    {
      "cell_type": "markdown",
      "source": [
        "7. Составьте описание класса многочлена вида $ax^2 + bx + c$. Включите в класс метод вывода описания многочлена на экран и метод вычисления значения многочлена для заданного аргумента, а также свойства, позволяющие: определить, имеет ли квадратное уравнение действительные корни; умножить многочлен на скаляр."
      ],
      "metadata": {
        "id": "-iXPxzUSHVTy"
      }
    },
    {
      "cell_type": "markdown",
      "source": [
        "8. Составьте описание класса многочлена вида $ax + b$. Включите в класс методы: вывода описания многочлена на экран, вычисления значения многочлена для заданного аргумента, вычисления корня линейного уравнения с проверкой неравенства коэффициента $b$ нулю, а также свойство, позволяющее возвести многочлен в квадрат."
      ],
      "metadata": {
        "id": "HIxMWeHBHdGA"
      }
    },
    {
      "cell_type": "markdown",
      "source": [
        "9. Опишите класс `Triangle`, заданный длиной одной стороны и двумя прилежащими углами (в градусах). Включите в описание класса методы, позволяющие вычислить две другие стороны и третий угол треугольника, и свойство, доступное только для чтения, позволяющее установить вид треугольника (равносторонний, равнобедренный, прямоугольный и т. п.)."
      ],
      "metadata": {
        "id": "VHWu7CkPHlYS"
      }
    },
    {
      "cell_type": "markdown",
      "source": [
        "10. Опишите класс `Account`. Для банковского счета задаются фамилия владельца, номер счёта, процент начисления за год и сумма в рублях. Включите в описание класса методы: пополнения счёта, снятия денег со счёта, перевода суммы в доллары и в евро, а также свойство, позволяющее начислить процент за заданное количество месяцев."
      ],
      "metadata": {
        "id": "rNOMEeNKHxWl"
      }
    },
    {
      "cell_type": "markdown",
      "source": [
        "11. Опишите класс `Date`, заданный тремя атрибутами для года, месяца и дня. Включите в описание класса методы, позволяющие вычислить дату следующего дня, определить, сколько дней осталось до конца месяца, и свойство, позволяющее выяснить, является ли год високосным."
      ],
      "metadata": {
        "id": "I3B9M_elH1bM"
      }
    },
    {
      "cell_type": "markdown",
      "source": [
        "12. Опишите класс `Salary`. Для класса задаются атрибуты: фамилия, имя и отчество, год поступления на работу, оклад в рублях, процент надбавки, количество отработанных дней в месяце, количество рабочих дней в месяце, начисленная и удержанная суммы. Включите в описание класса методы: вычисления начисленной суммы, вычисления удержанной суммы, вычисления суммы, выдаваемой на руки, а также свойство только для чтения, позволяющее определить стаж работы (вычисляется как полное количество лет, прошедших с момента зачисления на работу до задаваемого текущего года). Начисленная сумма вычисляется за отработанные дни месяца плюс надбавка. Удержания — подоходный налог 13%."
      ],
      "metadata": {
        "id": "Y2Pn6yxhH4bI"
      }
    },
    {
      "cell_type": "markdown",
      "source": [
        "13. Опишите класс `Time`, заданный тремя полями для часов, минут и секунд. Включите в описание класса методы, позволяющие перевести время в секунды, изменить время на заданное количество секунд, и свойство только для чтения, позволяющее определить время суток (утро, день, вечер, ночь)."
      ],
      "metadata": {
        "id": "g0tY4kn0H8eQ"
      }
    },
    {
      "cell_type": "markdown",
      "source": [
        "14. Опишите класс `ATM`. В классе задаются поля для хранения идентификационного номера банкомата, минимальной и максимальной сумм денег, которые позволено снять клиенту за один раз. Сумма денег, оставшаяся в банкомате, представляется шестью полями — номиналами российских рублей (10, 50, 100, 500, 1000, 5000), значениями которых является количество купюр данного достоинства. Включите в описание класса методы загрузки денег в банкомат и снятия определенной суммы денег, а также свойство, позволяющее вывести на экран сумму денег в банкомате в виде строки."
      ],
      "metadata": {
        "id": "5i4s1pdsIA7s"
      }
    },
    {
      "cell_type": "markdown",
      "source": [
        "15. Опишите класс `Window` для работы с моделями экранных окон. В качестве полей задаются координаты левого верхнего угла и размеры окна по вертикали и по горизонтали (целые числа), заголовок окна, состояние (видимое/невидимое). Включите в описание класса методы передвижения окна по горизонтали и по вертикали, изменения высоты и ширины окна с проверкой на пересечение границ экрана и свойство, позволяющее установить, является ли данное окно квадратным."
      ],
      "metadata": {
        "id": "JSYqPo1wIE_1"
      }
    },
    {
      "cell_type": "markdown",
      "source": [
        "#### <font color='LightCoral'> **ЗАДАНИЕ 27.** Иерархия классов (наследование и полиморфизм)."
      ],
      "metadata": {
        "id": "C_MzbmEnesp0"
      }
    },
    {
      "cell_type": "markdown",
      "source": [
        "1. Создайте класс ФИГУРА с методами вычисления площади и периметра, а также методом, выводящим информацию о фигуре на экран. Создайте дочерние классы ПРЯМОУГОЛЬНИК, КРУГ, ТРЕУГОЛЬНИК со своими методами вычисления площади и периметра. Создайте список $n$ фигур и выведите полную информацию о фигурах на экран.\n"
      ],
      "metadata": {
        "id": "VVzZypIrIpiZ"
      }
    },
    {
      "cell_type": "markdown",
      "source": [
        "2. Создайте класс ИЗДАНИЕ с методом, позволяющим вывести на экран информацию об издании, а также определить, является ли данное издание искомым. Создайте дочерние классы КНИГА (название, фамилия автора, год издания, издательство), СТАТЬЯ (название, фамилия автора, название журнала, его номер и год издания), ЭЛЕКТРОННЫЙ РЕСУРС (название, фамилия автора, ссылка, аннотация) со своими методами вывода информации на экран. Создайте список из $n$ изданий, выведите полную информацию из списка, а также организуйте поиск изданий по фамилии автора."
      ],
      "metadata": {
        "id": "yFSEt0b3IttF"
      }
    },
    {
      "cell_type": "markdown",
      "source": [
        "3. Создайте класс ТРЕУГОЛЬНИК, заданный длинами двух сторон и угла между ними, с методами вычисления площади и периметра треугольника, а также методом, выводящим информацию о фигуре на экран. Создайте дочерние классы ПРЯМОУГОЛЬНЫЙ, РАВНОБЕДРЕННЫЙ, РАВНОСТОРОННИЙ со своими методами вычисления площади и периметра. Создайте список $n$ треугольников и выведите полную информацию о треугольниках на экран."
      ],
      "metadata": {
        "id": "XFp2WUYYIyeS"
      }
    },
    {
      "cell_type": "markdown",
      "source": [
        "4. Создайте класс ТОВАР с методами, позволяющими вывести на экран информацию о товаре, а также определить, может ли приобрести товар покупатель, имеющий заданную сумму денег. Создайте дочерние классы ПРОДУКТ (название, цена, дата производства, срок годности), ПАРТИЯ (название, цена за штуку, количество штук, дата производства, срок годности), ТЕЛЕФОН (название, цена) со своими методами вывода информации на экран и определения соответствия заданной цене. Создайте список из $n$ товаров, выведите полную информацию из базы на экран, а также организуйте поиск товара, который может приобрести покупатель, имеющий заданную сумму денег."
      ],
      "metadata": {
        "id": "MWYJcANkI4Yx"
      }
    },
    {
      "cell_type": "markdown",
      "source": [
        "5. Создайте класс ТОВАР с методами, позволяющими вывести на экран информацию о товаре, а также определить, предназначен ли он для заданного возраста потребителя. Создайте дочерние классы ИГРУШКА (название, цена, производитель, материал, возраст, на который рассчитана), КНИГА (название, автор, цена, издательство, возраст, на который рассчитана), СПОРТИНВЕНТАРЬ (название, цена, производитель, возраст, на который рассчитан) со своими методами вывода информации на экран и определения соответствия возрасту потребителя. Создайте список из $n$ товаров, выведите полную информацию из базы на экран, а также организуйте поиск товаров для потребителя в заданном возрастном диапазоне."
      ],
      "metadata": {
        "id": "_XHh1rJBI9d4"
      }
    },
    {
      "cell_type": "markdown",
      "source": [
        "6. Создайте класс ТЕЛЕФОННЫЙ СПРАВОЧНИК с методами, позволяющими вывести на экран информацию о записях в телефонном справочнике, а также определить соответствие записи критерию поиска. Создайте дочерние классы ПЕРСОНА (фамилия, адрес, номер телефона), ОРГАНИЗАЦИЯ (название, адрес, телефон, факс, контактное лицо), ДРУГ (фамилия, адрес, номер телефона, дата рождения) со своими методами вывода информации на экран и определения соответствия заданной фамилии. Создайте список из $n$ записей, выведите полную информацию из базы на экран, а также организуйте поиск в базе по фамилии."
      ],
      "metadata": {
        "id": "hyG_AiFGJBsF"
      }
    },
    {
      "cell_type": "markdown",
      "source": [
        "7. Создайте класс КЛИЕНТ с методами, позволяющими вывести на экран информацию о клиентах банка, а также определить соответствие клиента критерию поиска. Создайте дочерние классы ВКЛАДЧИК (фамилия, дата открытия вклада, размер вклада, процент по вкладу), КРЕДИТОР (фамилия, дата выдачи кредита, размер кредита, процент по кредиту, остаток долга), ОРГАНИЗАЦИЯ (название, дата открытия счета, номер счета, сумма на счету) со своими методами вывода информации на экран и определения соответствия дате (открытия вклада, выдаче кредита, открытия счета). Создайте список из $n$ клиентов, выведите полную информацию из базы на экран, а также организуйте поиск клиентов, начавших сотрудничать с банком в заданную дату."
      ],
      "metadata": {
        "id": "JDo00i08JHB3"
      }
    },
    {
      "cell_type": "markdown",
      "source": [
        "8. Создайте класс ПРОГРАММНОЕ ОБЕСПЕЧЕНИЕ с методами, позво-ляющими вывести на экран информацию о программном обеспечении, а также определить соответствие возможности использования (на текущую дату). Создайте дочерние классы СВОБОДНОЕ (название, производитель), УСЛОВНО БЕСПЛАТНОЕ (название, производитель, дата установки, срок бесплатного использования), КОММЕРЧЕСКОЕ (название, производитель, цена, дата установки, срок использования) со своими методами вывода информации на экран и определения возможности использования на текущую дату. Создайте список из   видов программного обеспечения, выведите полную информацию из базы на экран, а также организуйте поиск программного обеспечения, которое допустимо использовать на текущую дату."
      ],
      "metadata": {
        "id": "g5AdFEapJM1T"
      }
    },
    {
      "cell_type": "markdown",
      "source": [
        "9. Создайте класс ТРАНСПОРТ с методами, позволяющими вывести на экран информацию о транспортном средстве, а также определить, находится ли транспортное средство в пределах заданных координат. Создайте дочерние классы САМОЛЕТ (марка, максимальные скорость и высота, количество пассажиров, координаты), АВТОМОБИЛЬ (марка, номер, год выпуска, координаты), КОРАБЛЬ (название, координаты, скорость, количество пассажиров, порт приписки) со своими методами вывода информации на экран и определения присутствия транспортного средства в пределах заданных координат. Создайте список из $n$ транспортных средств, выведите полную информацию из базы на экран, а также организуйте поиск транспортных средств, которые сейчас находятся в пределах заданных координат."
      ],
      "metadata": {
        "id": "bipOzyOQJW8Z"
      }
    },
    {
      "cell_type": "markdown",
      "source": [
        "10. Создайте класс ИГРУШКА с методами, позволяющими вывести на экран информацию о товаре, а также определить соответствие игрушки критерию поиска. Создайте дочерние классы КУБИК (цвет, цена, материал, размер ребра), МЯЧ (цена, цвет, диаметр, материал), МАШИНКА (название, цена, производитель, цвет) со своими методами вывода информации на экран и определения соответствия заданному цвету. Создайте список из $n$ игрушек, выведите полную информацию из базы на экран, а также организуйте поиск игрушек заданного цвета."
      ],
      "metadata": {
        "id": "6h-83h83JcWk"
      }
    },
    {
      "cell_type": "markdown",
      "source": [
        "11. Создайте класс ТЕЛО с методами вычисления площади поверхности и объема, а также методом, выводящим информацию о фигуре на экран. Создайте дочерние классы ПАРАЛЛЕЛЕПИПЕД, ШАР, ПИРАМИДА со своими методами вычисления площади и объема. Создайте список $n$ фигур и выведите полную информацию о фигурах на экран."
      ],
      "metadata": {
        "id": "YFuH-QvHJlzI"
      }
    },
    {
      "cell_type": "markdown",
      "source": [
        "12. Создайте класс УРАВНЕНИЕ с методами вычисления корня уравнения и вывода результата на экран. Создайте дочерние классы ЛИНЕЙНОЕ, КВАДРАТНОЕ со своими методами вычисления корней и вывода на экран. Создайте список $n$ уравнений и выведите полную информацию об уравнениях на экран."
      ],
      "metadata": {
        "id": "zFQ7gJLAJxgX"
      }
    },
    {
      "cell_type": "markdown",
      "source": [
        "13. Создайте класс ВАЛЮТА с методами перевода денежной суммы в руб-ли и вывода на экран. Создайте дочерние классы ДОЛЛАР, ЕВРО со своими методами перевода и вывода на экран. Создайте список $n$ валютных денежных сумм и выведите полную информацию о них на экран."
      ],
      "metadata": {
        "id": "HmDstxApJ2C5"
      }
    },
    {
      "cell_type": "markdown",
      "source": [
        "14. Создайте класс ПРОГРЕССИЯ с методами вычисления  $i$-го элемента прогрессии, её суммы и методом, выводящим сумму на экран. Создайте дочерние классы: АРИФМЕТИЧЕСКАЯ, ГЕОМЕТРИЧЕСКАЯ со своими методами вычисления. Создайте список $n$ прогрессий и выведите сумму каждой из них экран."
      ],
      "metadata": {
        "id": "pKT0xk8xJgv7"
      }
    },
    {
      "cell_type": "markdown",
      "source": [
        "15. Создайте класс ТРАНСПОРТ с методами, позволяющими вывести на экран информацию о транспортном средстве, а также определить грузоподъемность транспортного средства. Создайте дочерние классы АВТОМОБИЛЬ (марка, номер, скорость, грузоподъемность), МОТОЦИКЛ (марка, номер, скорость, грузоподъемность, наличие коляски, при этом если коляска отсутствует, то грузоподъемность равна нулю), ГРУЗОВИК (марка, номер, скорость, грузоподъемность, наличие прицепа, при этом если есть прицеп, то грузоподъемность увеличивается в два раза) со своими методами вывода информации на экран и определения грузоподъемности. Создайте список из $n$ машин, выведите полную информацию на экран, а также организуйте поиск машин, удовлетворяющих требованиям грузоподъемности."
      ],
      "metadata": {
        "id": "vwk-3E66KDid"
      }
    },
    {
      "cell_type": "markdown",
      "source": [
        "#### <font color='LightCoral'> **ЗАДАНИЕ 28.** Основы функционального программирования: лямбда-функции."
      ],
      "metadata": {
        "id": "ICWe68Cre6qx"
      }
    },
    {
      "cell_type": "markdown",
      "source": [
        "1. <br>а) Напишите лямбда-функцию, которая добавляет 15 к заданному числу, переданному в качестве аргумента, а также лямбда-функцию, которая умножает аргумент `x` на аргумент `y`, и выведите результат.<br>б) Найти максимальное и минимальное значения в заданном списке кортежей с помощью лямбда-функции.<br>в) Извлечь строки с заданной длиной из списка строковых значений с помощью лямбда-функции."
      ],
      "metadata": {
        "id": "6Vy3BOAWhhWq"
      }
    },
    {
      "cell_type": "code",
      "source": [
        "# a\n",
        "add_15 = lambda x: x + 15\n",
        "\n",
        "lmbd_mul = lambda x,y: x * y\n",
        "\n",
        "#б\n",
        "data = [(1, 5), (3, 2), (8, 10), (6, 4)]\n",
        "\n",
        "max_val = max(data, key=lambda x: max(x))\n",
        "min_val = min(data, key=lambda x: min(x))\n",
        "\n",
        "print(\"Максимальное значение:\", max_val)\n",
        "print(\"Минимальное значение:\", min_val)\n",
        "\n",
        "#в\n",
        "give_str = lambda x,y: [i for i in x if len(i) == y ]"
      ],
      "metadata": {
        "id": "H4saSFkHpghr"
      },
      "execution_count": null,
      "outputs": []
    },
    {
      "cell_type": "markdown",
      "source": [
        "2. <br>а) Напишите лямбда-функцию, которая принимает один аргумент, и этот аргумент должен быть умножен на неизвестное заданное число.<br>б) Найти числа, делящиеся на девятнадцать или тринадцать, из списка чисел, используя лямбда-функцию.<br>в) Напишите программу для подсчёта вещественных чисел в заданном смешанном списке с помощью лямбда-функции."
      ],
      "metadata": {
        "id": "BzABUUcHhqsU"
      }
    },
    {
      "cell_type": "markdown",
      "source": [
        "3. <br>а) Используя лямбда-функцию, отсортировать список кортежей. _Пример_: `[('English', 88), ('Science', 90), ('Maths', 97), ('Social sciences', 82)]` → `[('Social sciences', 82), ('English', 88), ('Science', 90), ('Maths', 97)]`.<br>б) Найдите палиндромы в заданном списке строк с помощью лямбда- функции.<br>в) Найти индекс и значение максимального и минимального значений в заданном списке чисел."
      ],
      "metadata": {
        "id": "RC0u_vLIhymu"
      }
    },
    {
      "cell_type": "markdown",
      "source": [
        "4. <br>а) Используя лямбда-функцию, отсортировать список словарей. _Пример_: `[{'make': 'Nokia', 'model': 216, 'color': 'Black'}, {'make': 'Mi Max', 'model': '2', 'color': 'Gold'}, {'make': 'Samsung', 'model': 7, 'color': 'Blue'}]` → `[{'make': 'Nokia', 'model': 216, 'color': 'Black'}, {'make': 'Samsung', 'model': 7, 'color': 'Blue'}, {'make': 'Mi Max', 'model': '2', 'color': 'Gold'}]`.<br>б) Найти все анаграммы в заданном списке строк с помощью лямбда- функции. _Пример_: `'abcd'`, `['bcda', 'abce', 'cbda', 'cbea', 'adcb']` → `['bcda', 'cbda', 'adcb']`.<br>в) Напишите программу для сортировки заданного смешанного списка целых чисел и строк с помощью лямбда-функции. Числа должны быть отсортированы перед строками. _Пример_: `[19, 'red', 12, 'green', 'blue', 10, 'white', 'green', 1]` → `[1, 10, 12, 19, 'blue', 'green', 'green', 'red', 'white']`.\n"
      ],
      "metadata": {
        "id": "5kJwGIMjiBcO"
      }
    },
    {
      "cell_type": "markdown",
      "source": [
        "5. <br>а) Отфильтровать список целых чисел на чётные и нечётные числа с помощью лямбда-функции.<br>б) Для удаления определённых слов из заданного списка используйте лямбда-функцию. _Пример_: дан список слов `['orange', 'red', 'green', 'blue', 'white', 'black']`, удалить слова `['orange', 'black']` → `['red', 'green', 'blue', 'white']`.<br>в) Используя лямбда-функцию, проверить, отсортирован ли указанный список или нет.\n"
      ],
      "metadata": {
        "id": "nM4_EXBYiUlm"
      }
    },
    {
      "cell_type": "markdown",
      "source": [
        "6. <br>а) Возвести в квадрат и куб каждое число в заданном списке целых чисел с помощью лямбда-функции.<br>б) Умножьте каждое число заданного списка на заданное число, при это используйте лямбда-функцию.<br>в) Используйте лямбда-функцию для извлечения $n$-го элемента кортежа из заданного списка кортежей. _Пример_: дан список кортежей `[('Greyson Fulton', 98, 99), ('Brady Kent', 97, 96), ('Wyatt Knott', 91, 94), ('Beau Turnbull', 94, 98)]`, при `n = 0` → `['Greyson Fulton', 'Brady Kent', 'Wyatt Knott', 'Beau Turnbull']`, при `n = 2` → `[99, 96, 94, 98]`."
      ],
      "metadata": {
        "id": "z3oobEJ2idSt"
      }
    },
    {
      "cell_type": "markdown",
      "source": [
        "7. <br>а) Используя лямбда-функцию, найти, начинается ли данная строка с заданного символа.<br>б) Суммируйте длину имён заданного списка после удаления имён, начинающихся со строчной буквы. Используйте лямбда-функцию. _Пример_: `['sally', 'Dylan', 'rebecca', 'Diana', 'Joanne', 'keith']` → `16`.<br>в) Удалите определённые слова из заданного списка с помощью лямбда- функции."
      ],
      "metadata": {
        "id": "A1d5CMujjC5L"
      }
    },
    {
      "cell_type": "markdown",
      "source": [
        "8. <br>а) Используя лямбда-функцию, из текущего времени извлеките год, месяц, дату и время.<br>б) Вычислите сумму положительных и отрицательных чисел заданного списка чисел, используя лямбда-функцию.<br>в) Для подсчёта вхождений элементов в заданный список используйте лямбда-функцию. _Пример_: `[3, 4, 5, 8, 0, 3, 8, 5, 0, 3, 1, 5, 2, 3, 4, 2]` → `{3: 4, 4: 2, 5: 3, 8: 2, 0: 2, 1: 1, 2: 2}`."
      ],
      "metadata": {
        "id": "_A47hwamjMIu"
      }
    },
    {
      "cell_type": "markdown",
      "source": [
        "9. <br>а) С помощью лямбда-функции проверьте, является ли данная строка числом или нет.<br>б) Напишите программу для поиска чисел в заданном диапазоне, где каждое число делится на каждую цифру, которую оно содержит. _Пример_: задан диапазон от `1` до `22` → `[1, 2, 3, 4, 5, 6, 7, 8, 9, 11, 12, 15, 22]`.<br>в) Удалите все элементы из заданного списка, присутствующие в другом списке. _Пример_: `[1, 2, 3, 4, 5, 6, 7, 8, 9, 10]`, `[2, 4, 6, 8]` → `[1, 3, 5, 7, 9, 10]`."
      ],
      "metadata": {
        "id": "9k9fJcA0jSb2"
      }
    },
    {
      "cell_type": "markdown",
      "source": [
        "10. <br>а) Вывести ряд Фибоначчи до n чисел, используя лямбда-функцию.<br>б) Найти следующее после заданного число, полученное перестановкой цифр заданного числа. _Примеры_: `12` → `21`, `10` → `False`, `201` → `210`, `102` → `120`, `445` → `454`.<br>в) Напишите программу для поиска элементов заданного списка строк, содержащих определённую подстроку, используя лямбда-функцию. _Пример_: `['red', 'black', 'white', 'green', 'orange']`; `ack` → `['black']`; `abc` → `[]`."
      ],
      "metadata": {
        "id": "g3dcJ5KrjaF8"
      }
    },
    {
      "cell_type": "markdown",
      "source": [
        "11. <br>а) Найти пересечение двух заданных списков с помощью лямбда- функции. _Пример_: `[1, 2, 3, 5, 7, 8, 9, 10]`, `[1, 2, 4, 8, 9]` → `[1, 2, 8, 9]`.<br>б) Найти список с максимальной и минимальной длиной, используя лямбда-функцию. _Пример_: `[[0], [1, 3], [5, 7], [9, 11], [13, 15, 17]]` → `(3, [13, 15, 17])`, (1, [0]).<br>в) Найти вложенные элементы списков, которые присутствуют в другом списке с помощью лямбда-функции. _Пример_: `[1, 2, 3, 4, 5, 6, 7, 8, 9, 10, 11, 12, 13, 14]`, `[[12, 18, 23, 25, 45], [7, 11, 19, 24, 28], [1, 5, 8, 18, 15, 16]]` → `[[12], [7, 11], [1, 5, 8]]`."
      ],
      "metadata": {
        "id": "0-z9ugKgjpc1"
      }
    },
    {
      "cell_type": "markdown",
      "source": [
        "12. <br>а) Используя лямбда-функцию, в заданном массиве отсортируйте числа следующим образом: сначала идут положительные числа по возрастанию, затем отрицательные — также по возрастанию.<br>б) Напишите программу для сортировки каждого подсписка строк в заданном списке списков. Используйте лямбда-функцию.<br>в) Вычислить произведение элементов заданного списка чисел с помощью лямбда-функции."
      ],
      "metadata": {
        "id": "LaAPzXg2j4-G"
      }
    },
    {
      "cell_type": "markdown",
      "source": [
        "13. <br>а) Подсчитайте чётные и нечётные числа в заданном списке целых чисел, используя лямбда-функцию. <br>б) Отсортируйте заданный список списков по длине и значению, используя при этом лямбда-функцию. _Пример_: `[[2], [0], [1, 3], [0, 7], [9, 11], [13, 15, 17]]` → `[[0], [2], [0, 7], [1, 3], [9, 11], [13, 15, 17]]`.<br>в) Используйте лямбда-функцию для вычисления среднего значения чисел в заданном кортеже кортежей. Примеры: `((10, 10, 10), (30, 45, 56), (81, 80, 39), (1, 2, 3))` → `(30.5, 34.25, 27.0)`; `((1, 1, -5), (30, -15, 56), (81, -60, -39), (-10, 2, 3))` → `(25.5, -18.0, 3.75)`."
      ],
      "metadata": {
        "id": "5z2mvCMZj-rf"
      }
    },
    {
      "cell_type": "markdown",
      "source": [
        "14. <br>а) С помощью лямбда-функции в заданном списке слов найти слова, длина которых равна шести.<br>б) Найти максимальное значение в заданном гетерогенном списке с помощью лямбда-функции. _Пример_: `['Python', 3, 2, 4, 5, 'version']` → `5`.<br>в) Удалите значения `None` из заданного списка с помощью лямбда- функции. _Пример_: `[12, 0, None, 23, None, -55, 234, 89, None, 0, 6, -12]` → `[12, 0, 23, -55, 234, 89, 0, 6, -12]`."
      ],
      "metadata": {
        "id": "RTJdAZQokKmN"
      }
    },
    {
      "cell_type": "markdown",
      "source": [
        "15. <br>а) Сложите два заданных списка с помощью лямбда-функции и функции `map`.<br>б) Используйте лямбда-функцию для сортировки данной матрицы в порядке возрастания по сумме элементов её строк. _Пример_: `[[1, 2, 3], [2, 4, 5], [1, 1, 1]]` → `[[1, 1, 1], [1, 2, 3], [2, 4, 5]]`; `[[1, 2, 3], [-2, 4, -5], [1, -1, 1]]` → `[[-2, 4, -5], [1, -1, 1], [1, 2, 3]]`.<br>в) Напишите программу для сортировки заданного списка строк (чисел) численно с помощью лямбда-функции. _Пример_: `['4', '12', '45', '7', '0', '100', '200', '-12', '-500']` → `['-500', '-12', '0', '4', '7', '12', '45', '100', '200']`.\n"
      ],
      "metadata": {
        "id": "SwCnArAVkmG8"
      }
    },
    {
      "cell_type": "markdown",
      "source": [
        "#### <font color='LightCoral'> **ЗАДАНИЕ 29.** Основы функционального программирования: функции `map`, `filter`, `reduce`."
      ],
      "metadata": {
        "id": "Ufb_V5ALe70J"
      }
    },
    {
      "cell_type": "markdown",
      "source": [
        "1. <br>а) Утройте все числа из заданного списка целых чисел, используя функцию `map()`.<br>б) Сгенерировать список целых чисел. С помощью функции `filter()` выбрать из списка все нечетные числа и упорядочить их по убыванию. Используя функцию `reduce()`, найти их произведение."
      ],
      "metadata": {
        "id": "mpe0QtitnWBJ"
      }
    },
    {
      "cell_type": "code",
      "source": [
        "#а\n",
        "numbers = [1, 2, 3, 4, 5]\n",
        "tripled_numbers = list(map(lambda x: x * 3, numbers))\n",
        "print(tripled_numbers)\n",
        "\n",
        "#b\n",
        "import functools\n",
        "\n",
        "numbers = [5, 2, 7, 4, 9, 6, 3]\n",
        "\n",
        "odd_numbers = sorted(filter(lambda x: x % 2 != 0, numbers), reverse=True)\n",
        "odd_product = functools.reduce(lambda x, y: x * y, odd_numbers)\n",
        "\n",
        "print(odd_numbers)\n",
        "print(odd_product)"
      ],
      "metadata": {
        "id": "VT0SH1_EuPiY"
      },
      "execution_count": null,
      "outputs": []
    },
    {
      "cell_type": "markdown",
      "source": [
        "2. <br>а) Создайте списки, содержащие определенные элементы из кортежа, и преобразуйте строковые значения в целое число. _Пример_: `[('Alberto Franco', '15/05/2002', '35kg'), ('Gino Mcneill', '17/05/2002', '37kg'), ('Ryan Parkes', '16/02/1999', '39kg'), ('Eesha Hinton', '25/09/1998', '35kg')]` → `['Alberto Franco', 'Gino Mcneill', 'Ryan Parkes', 'Eesha Hinton']`; `['15/05/2002', '17/05/2002', '16/02/1999', '25/09/1998']`; `[35, 37, 39, 35]`.<br>б) Сгенерировать список целых чисел. С помощью функции `filter()` выбрать из списка все положительные числа и упорядочить их по возрастанию. Используя функцию `reduce()`, найти их сумму.\n"
      ],
      "metadata": {
        "id": "L1aUT7fQniLI"
      }
    },
    {
      "cell_type": "markdown",
      "source": [
        "3. <br>а) Сложите три заданных списка, используя `map()` и лямбда-функцию.<br>б) Сгенерировать список целых чисел. С помощью функции `filter()` выбрать из списка все положительные числа и упорядочить их по убыванию. Используя функцию `reduce()`, найти их произведение."
      ],
      "metadata": {
        "id": "pSaQjkzjn9Ik"
      }
    },
    {
      "cell_type": "markdown",
      "source": [
        "4. <br>а) Сложите два заданных списка и найдите разницу между ними, используя функцию `map()`. _Пример_: `[6, 5, 3, 9], [0, 1, 7, 7]` → `[(6, 6), (6, 4), (10, –4), (16, 2)]`.<br>б) Сгенерировать список целых чисел. С помощью функции `filter()` выбрать из списка все четные числа и упорядочить их по возрастанию. Используя функцию `reduce()`, найти их сумму."
      ],
      "metadata": {
        "id": "HIh-AG5NoMTo"
      }
    },
    {
      "cell_type": "markdown",
      "source": [
        "5. <br>а) С помощью функции `map()` преобразуйте каждую строку из заданного списка строк в список символов. _Пример_: `['Red', 'Blue', 'Black', 'White', 'Pink']` → `[['R', 'e', 'd'], ['B', 'l', 'u', 'e'], ['B', 'l', 'a', 'c', 'k'], ['W', 'h', 'i', 't', 'e'], ['P', 'i', 'n', 'k']]`.<br>б) Сгенерировать список целых чисел. С помощью функции `filter()` выбрать из списка все числа больше заданного числа   и упорядочить их по убыванию. Используя функцию `reduce()`, найти их произведение."
      ],
      "metadata": {
        "id": "vkX1yEtmncsJ"
      }
    },
    {
      "cell_type": "markdown",
      "source": [
        "6. <br>а) С использованием функции `map()` создайте список, содержащий заданные числа, возведенные в соответствующую степень. _Пример_: `bases = [10, 20, 30, 40, 50, 60, 70, 80, 90, 100]`, `exponents = [1, 2, 3, 4, 5, 6, 7, 8, 9, 10]` → `result = [10, 400, 27000, 2560000, 312500000, 46656000000, 8235430000000, 1677721600000000, 387420489000000000, 100000000000000000000]`.<br>б) Сгенерировать список целых чисел. С помощью функции `filter()` выбрать из списка все числа больше 10 и упорядочить их по возрастанию. Используя функцию `reduce()`, найти их сумму.\n"
      ],
      "metadata": {
        "id": "UI8D1r_BoY40"
      }
    },
    {
      "cell_type": "markdown",
      "source": [
        "7. <br>а) Разделите заданный словарь списков на список словарей, используя функцию `map()`. _Пример_: `{'Science': [88, 89, 62, 95], 'Language': [77, 78, 84, 80]}` → `[{'Science': 88, 'Language': 77}, {'Science': 89, 'Language': 78}, {'Science': 62, 'Language': 84}, {'Science': 95, 'Language': 80}]`.<br>б) Сгенерировать список целых чисел. С помощью функции `filter()` выбрать из списка все числа кратные 5 и упорядочить их по убыванию. Используя функцию `reduce()`, найти их произведение."
      ],
      "metadata": {
        "id": "e-bBn_8XohPA"
      }
    },
    {
      "cell_type": "markdown",
      "source": [
        "8. <br>а) Преобразуйте заданный список целых чисел и кортеж целых чисел в список строк. _Пример_: `[1, 2, 3, 4]`, `(0, 1, 2, 3)` → `['1', '2', '3', '4']`, `('0', '1', '2', '3')`.<br>б) Сгенерировать список целых чисел. С помощью функции `filter()` выбрать из списка все числа меньше заданного числа   и упорядочить их по возрастанию. Используя функцию `reduce()`, найти их произведение."
      ],
      "metadata": {
        "id": "OhgXcAV_op6C"
      }
    },
    {
      "cell_type": "markdown",
      "source": [
        "9. <br>а) Преобразуйте заданный список строк в список списков с помощью функции `map()`. _Пример_: `['Red', 'Green', 'Black', 'Orange']` → `[['R', 'e', 'd'], ['G', 'r', 'e', 'e', 'n'], ['B', 'l', 'a', 'c', 'k'], ['O', 'r', 'a', 'n', 'g', 'e']]`.<br>б) Сгенерировать список целых чисел. С помощью функции `filter()` выбрать из списка все числа меньше 15 и упорядочить их по убыванию. Используя функцию `reduce()`, найти их сумму."
      ],
      "metadata": {
        "id": "IkAIEg4bo1kG"
      }
    },
    {
      "cell_type": "markdown",
      "source": [
        "10. <br>а) Преобразуйте заданный список кортежей в список строк с помощью функции `map()`. _Пример_: `[('red', 'pink'), ('white', 'black'), ('orange', 'green')]` → `['red pink', 'white black', 'orange green']`; `[('Sheridan', 'Gentry'); ('Laila', 'Mckee'), ('Ahsan', 'Rivas'), ('Conna', 'Gonzalez')]` → `['Sheridan Gentry', 'Laila Mckee', 'Ahsan Rivas', 'Conna Gonzalez']`.<br>б) Сгенерировать список целых чисел. С помощью функции `filter()` выбрать из списка все числа кратные 3 и упорядочить их по возрастанию. Используя функцию `reduce()`, найти их произведение."
      ],
      "metadata": {
        "id": "CD4EsUc2o-Xo"
      }
    },
    {
      "cell_type": "markdown",
      "source": [
        "11. <br>а) Напишите программу для подсчета пар одинаковых значений в двух заданных списках. Используйте функцию `map()`. _Пример_: `[1, 2, 3, 4, 5, 6, 7, 8]`, `[2, 2, 3, 1, 2, 6, 7, 9]` → `4`.<br>б) Сгенерировать список целых чисел. С помощью функции `filter()` выбрать из списка все числа кратные заданному числу и упорядочить их по убыванию. Используя функцию `reduce()`, найти их сумму."
      ],
      "metadata": {
        "id": "r65mHO3LpGzo"
      }
    },
    {
      "cell_type": "markdown",
      "source": [
        "12. <br>а) Найдите соотношение положительных чисел, отрицательных чисел и нулей в массиве целых чисел. _Пример_: `[0, 1, 2, –1, –5, 6, 0, –3, –2, 3, 4, 6, 8]` → `(0.54, 0.31, 0.15)`; `[2, 1, 2, –1, –5, 6, 4, –3, –2, 3, 4, 6, 8]` → `(0.69, 0.31, 0.0)`.<br>б) Сгенерировать список целых чисел. С помощью функции `filter()` выбрать из списка все отрицательные числа и упорядочить их по возрастанию. Используя функцию `reduce()`, найти их произведение."
      ],
      "metadata": {
        "id": "Uhduv_bqpNhe"
      }
    },
    {
      "cell_type": "markdown",
      "source": [
        "13. <br>а) Используя функцию `map()`(), переведите все символы заданной последовательности в верхний и нижний регистр и удалите повторяющиеся буквы. _Пример_: `'a'`, `'b'`, `'E'`, `'f'`, `'a'`, `'i'`, `'o'`, `'U'`, `'a'` → `{('E', 'e'), ('B', 'b'), ('U', 'u'), ('I', 'i'), ('A', 'a'), ('O', 'o'), ('F', 'f')}`.<br>б) Сгенерировать список целых чисел. С помощью функции `filter()` выбрать из списка все числа на нечетных позициях и упорядочить эти числа по убыванию. Используя функцию `reduce()`, найти их сумму."
      ],
      "metadata": {
        "id": "X7oMZ_KgpWd7"
      }
    },
    {
      "cell_type": "markdown",
      "source": [
        "14. <br>а) Вычислите квадраты первых $N$ чисел Фибоначчи, используя функцию `map()`, и сгенерируйте из них список чисел. _Пример_: `N = 10` → `[0, 1, 1, 2, 3, 5, 8, 13, 21, 34]` → `[0, 1, 1, 4, 9, 25, 64, 169, 441, 1156]`.<br>б) Сгенерировать список целых чисел. С помощью функции `filter()` выбрать из списка все двузначные числа и упорядочить эти числа по возрастанию. Используя функцию `reduce()`, найти их произведение."
      ],
      "metadata": {
        "id": "4Rm0PbXSpj-h"
      }
    },
    {
      "cell_type": "markdown",
      "source": [
        "15. <br>а) Возведите в квадрат элементы списка с помощью функции `map()`.<br>б) Сгенерировать список целых чисел. С помощью функции `filter()` выбрать из списка все числа на четных позициях и упорядочить эти числа по возрастанию. Используя функцию `reduce()`, найти их сумму."
      ],
      "metadata": {
        "id": "sYWBM7xHpxd7"
      }
    },
    {
      "cell_type": "markdown",
      "source": [
        "#### <font color='LightCoral'> **ЗАДАНИЕ 30.** Декораторы."
      ],
      "metadata": {
        "id": "jIET26XX-1iW"
      }
    },
    {
      "cell_type": "markdown",
      "source": [
        "1. <br>а) Создайте декоратор, который будет выводить время выполнения функции и сохранять его в файл.<br>б) Создайте декоратор, который будет принимать аргументы и передавать их в функцию в качестве позиционных параметров с заданными значениями по умолчанию."
      ],
      "metadata": {
        "id": "EztubtBQAx1W"
      }
    },
    {
      "cell_type": "code",
      "source": [
        "#a\n",
        "import time\n",
        "\n",
        "def log_time_to_file(func):\n",
        "    def wrapper(*args, **kwargs):\n",
        "        start_time = time.time()\n",
        "        result = func(*args, **kwargs)\n",
        "        end_time = time.time()\n",
        "        execution_time = end_time - start_time\n",
        "\n",
        "        with open('execution_log.txt', 'a') as file:\n",
        "            file.write(f\"Function {func.__name__} executed in {execution_time} seconds.\\n\")\n",
        "\n",
        "        return result\n",
        "    return wrapper\n",
        "\n",
        "# Пример использования декоратора\n",
        "@log_time_to_file\n",
        "def example_function():\n",
        "    time.sleep(2)\n",
        "    print(\"Function executed\")\n",
        "\n",
        "example_function()\n",
        "\n",
        "#b\n",
        "def with_arguments(arg1, arg2):\n",
        "    def decorator(func):\n",
        "        def wrapper(*args, **kwargs):\n",
        "            result = func(arg1, arg2, *args, **kwargs)\n",
        "            return result\n",
        "        return wrapper\n",
        "    return decorator\n",
        "\n",
        "# Пример использования декоратора\n",
        "@with_arguments(10, 20)\n",
        "def add_numbers(a, b, c):\n",
        "    return a + b + c\n",
        "\n",
        "print(add_numbers(5))  # Выведет: 35 (10 + 20 + 5)"
      ],
      "metadata": {
        "id": "H7waMoDRupk7"
      },
      "execution_count": null,
      "outputs": []
    },
    {
      "cell_type": "markdown",
      "source": [
        "2. <br>а) Создайте декоратор, который будет выводить на экран результат выполнения функции.<br>б) Создайте декоратор, который будет принимать аргументы и передавать их в функцию в качестве позиционных параметров и ключевых параметров с заданными значениями по умолчанию."
      ],
      "metadata": {
        "id": "5uQShfd_AzGG"
      }
    },
    {
      "cell_type": "markdown",
      "source": [
        "3. <br>а) Создайте декоратор, который будет выводить на экран аргументы функции и их типы.<br>б) Создайте декоратор, который будет принимать несколько аргументов и передавать их в функцию в определенном порядке."
      ],
      "metadata": {
        "id": "Y6Mw3kYSA4ns"
      }
    },
    {
      "cell_type": "markdown",
      "source": [
        "4. <br>а) Создайте декоратор, который будет выводить на экран имя функции и модуль, где она определена.<br>б) Создайте декоратор, который будет принимать несколько аргументов и передавать их в функцию в качестве ключевых параметров с заданными значениями по умолчанию."
      ],
      "metadata": {
        "id": "pDT8SdqYBCeO"
      }
    },
    {
      "cell_type": "markdown",
      "source": [
        "5. <br>а) Создайте декоратор, который будет выводить на экран количество вызовов функции за определенный период времени.<br>б) Создайте декоратор, который будет принимать несколько аргументов и передавать их в функцию в качестве позиционных параметров с заданными значениями по умолчанию."
      ],
      "metadata": {
        "id": "3-9ph3tfBE6G"
      }
    },
    {
      "cell_type": "markdown",
      "source": [
        "6. <br>а) Создайте декоратор, который будет выводить на экран статистику вызовов функции и сохранять ее в текстовый файл.<br>б) Создайте декоратор, который будет принимать несколько аргументов и передавать их в функцию в качестве позиционных параметров и ключевых параметров с заданными значениями по умолчанию."
      ],
      "metadata": {
        "id": "66-8jQeMBHRV"
      }
    },
    {
      "cell_type": "markdown",
      "source": [
        "7. <br>а) Создайте декоратор, который будет кэшировать результаты выполнения функции и очищать кэш при превышении заданного размера.<br>б) Создайте декоратор, который будет принимать список аргументов и передавать его в функцию в определенном порядке."
      ],
      "metadata": {
        "id": "BEotHZ_YBJvA"
      }
    },
    {
      "cell_type": "markdown",
      "source": [
        "8. <br>а) Создайте декоратор, который будет логировать ошибки, возникающие при выполнении функции, и отправлять уведомления об этих ошибках.<br>б) Создайте декоратор, который будет принимать словарь аргументов и передавать его в функцию с заданными значениями по умолчанию."
      ],
      "metadata": {
        "id": "D93ssi2iBbD6"
      }
    },
    {
      "cell_type": "markdown",
      "source": [
        "9. <br>а) Создайте декоратор, который будет проверять аргументы функции на корректность и выбрасывать исключение при обнаружении некорректных данных.<br>б) Создайте декоратор, который будет принимать список и словарь аргументов и передавать их в функцию в определенном порядке и с заданными значениями по умолчанию."
      ],
      "metadata": {
        "id": "ZYe08yMRBf-F"
      }
    },
    {
      "cell_type": "markdown",
      "source": [
        "10. <br>а) Создайте декоратор, который будет проверять возвращаемое значение функции на корректность и заменять его на предопределенное значение при обнаружении некорректных данных.<br>б) Создайте декоратор, который будет заменять значение аргумента на заданное значение только если оно удовлетворяет определенному условию."
      ],
      "metadata": {
        "id": "rbpKJRIWBiEZ"
      }
    },
    {
      "cell_type": "markdown",
      "source": [
        "11. <br>а) Создайте декоратор, который будет заменять исключения, возникающие при выполнении функции, на заданное значение и логировать эти замены.<br>б) Создайте декоратор, который будет заменять значение аргумента на результат выполнения заданной функции только если оно удовлетворяет определенному условию."
      ],
      "metadata": {
        "id": "BDS5DZzeBklY"
      }
    },
    {
      "cell_type": "markdown",
      "source": [
        "12. <br>а) Создайте декоратор, который будет ограничивать время выполнения функции и выбрасывать исключение при превышении этого времени.<br>б) Создайте декоратор, который будет заменять значение аргумента на результат выполнения заданной функции с использованием других аргументов функции только если оно удовлетворяет определенному условию."
      ],
      "metadata": {
        "id": "53S0OXIeBmt5"
      }
    },
    {
      "cell_type": "markdown",
      "source": [
        "13. <br>а) Создайте декоратор, который будет ограничивать количество вызовов функции за определенный период времени.<br>б) Создайте декоратор, который будет заменять значение аргумента на результат выполнения заданной функции с использованием других аргументов функции и некоторого контекста только если оно удовлетворяет определенному условию."
      ],
      "metadata": {
        "id": "46E6MpziBo-O"
      }
    },
    {
      "cell_type": "markdown",
      "source": [
        "14. <br>а) Создайте декоратор, который будет принимать аргументы и передавать их в функцию в определенном порядке.<br>б) Создайте декоратор, который будет заменять значение аргумента на результат выполнения заданной функции с использованием других аргументов функции и контекста извне только если оно удовлетворяет определенному условию."
      ],
      "metadata": {
        "id": "yIKEgtH3BrfT"
      }
    },
    {
      "cell_type": "markdown",
      "source": [
        "15. <br>а) Создайте декоратор, который будет принимать аргументы и передавать их в функцию в качестве ключевых параметров с заданными значениями по умолчанию.<br>б) Создайте декоратор, который будет заменять значение аргумента на результат выполнения заданной функции с использованием других аргументов функции и контекста извне, если условие выполняется и логировать эти замены."
      ],
      "metadata": {
        "id": "guNiG7HDBtbu"
      }
    },
    {
      "cell_type": "markdown",
      "source": [
        "#### <font color='LightCoral'> **ЗАДАНИЕ 31.** Функции-генераторы и выражения-генераторы."
      ],
      "metadata": {
        "id": "grEFfrT1Ptd9"
      }
    },
    {
      "cell_type": "markdown",
      "source": [
        "1. <br>а) Написать функцию-генератор, которая создает последовательность чисел Фибоначчи до заданного числа.\n",
        "<br>б) Написать функцию-генератор, которая создает все возможные варианты расположения фотографий на стене.\n",
        "<br>в) Найти сумму квадратов всех чисел от 1 до 10, используя выражение-генератор.\n",
        "<br>г) Создать список всех чисел, являющихся квадратами других чисел, в заданном диапазоне, используя выражение-генератор."
      ],
      "metadata": {
        "id": "Qoo1yaQpRe3N"
      }
    },
    {
      "cell_type": "markdown",
      "source": [
        "2. <br>а) Реализовать функцию-генератор, которая создает случайные строки заданной длины из заданного набора символов.\n",
        "<br>б) Реализовать функцию-генератор, которая создает все возможные варианты расположения мебели в комнате.\n",
        "<br>в) Найти все простые числа в диапазоне от 1 до 100, используя выражение-генератор.\n",
        "<br>г) Отфильтровать список строк, оставив только те, которые содержат только цифры, используя выражение-генератор."
      ],
      "metadata": {
        "id": "A7kZIUb3oLlE"
      }
    },
    {
      "cell_type": "markdown",
      "source": [
        "3. <br>а) Создать функцию-генератор, которая создает случайные числа в заданном диапазоне с заданным шагом.\n",
        "<br>б) Создать функцию-генератор, которая создает все возможные варианты расположения зданий на карте города.\n",
        "<br>в) Отфильтровать список строк, оставив только те, которые начинаются с заглавной буквы, используя выражение-генератор.\n",
        "<br>г) Создать список всех простых чисел Фибоначчи в заданном диапазоне, используя выражение-генератор."
      ],
      "metadata": {
        "id": "AlU0cV74oOl0"
      }
    },
    {
      "cell_type": "markdown",
      "source": [
        "4. <br>а) Написать функцию-генератор, которая создает все простые числа до заданного числа.\n",
        "<br>б) Написать функцию-генератор, которая создает все возможные варианты расположения книг на полке.\n",
        "<br>в) Создать список из квадратов всех четных чисел в заданном диапазоне, используя выражение-генератор.\n",
        "<br>г) Отфильтровать список чисел, оставив только те, которые являются палиндромами, используя выражение-генератор."
      ],
      "metadata": {
        "id": "iyIqwN_GoSHB"
      }
    },
    {
      "cell_type": "markdown",
      "source": [
        "5. <br>а) Реализовать функцию-генератор, которая создает все возможные перестановки элементов списка.\n",
        "<br>б) Реализовать функцию-генератор, которая создает все возможные варианты расположения продуктов на полке в магазине.\n",
        "<br>в) Отфильтровать список чисел, оставив только положительные значения, используя выражение-генератор.\n",
        "<br>г) Создать список всех троек чисел $(a, b, c)$, где $a+b+c=0$, используя выражение-генератор:"
      ],
      "metadata": {
        "id": "vciRa4kPoUow"
      }
    },
    {
      "cell_type": "markdown",
      "source": [
        "6. <br>а) Создать функцию-генератор, которая создает все подмножества заданного множества.\n",
        "<br>б) Создать функцию-генератор, которая создает все возможные варианты расположения слов в предложении.\n",
        "<br>в) Создать список всех возможных комбинаций двух списков, используя выражение-генератор.\n",
        "<br>г) Отфильтровать список строк, оставив только те, которые содержат только буквы, используя выражение-генератор."
      ],
      "metadata": {
        "id": "vDnxkAosoYAO"
      }
    },
    {
      "cell_type": "markdown",
      "source": [
        "7. <br>а) Написать функцию-генератор, которая создает все возможные комбинации заданных элементов.\n",
        "<br>б) Написать функцию-генератор, которая создает все возможные комбинации чисел в массиве.\n",
        "<br>в) Отсортировать список строк по длине слов в порядке убывания, используя выражение-генератор.\n",
        "<br>г) Создать список всех чисел, являющихся степенями двойки, в заданном диапазоне, используя выражение-генератор."
      ],
      "metadata": {
        "id": "93DPjkoeoa8g"
      }
    },
    {
      "cell_type": "markdown",
      "source": [
        "8. <br>а) Реализовать функцию-генератор, которая создает все возможные варианты расположения заданных элементов в матрице.\n",
        "<br>б) Реализовать функцию-генератор, которая создает все возможные варианты расположения элементов на странице сайта.\n",
        "<br>в) Создать список всех чисел Фибоначчи в заданном диапазоне, используя выражение-генератор.\n",
        "<br>г) Отфильтровать список чисел, оставив только те, которые являются простыми числами Фибоначчи, используя выражение-генератор."
      ],
      "metadata": {
        "id": "vz9kdmQLod40"
      }
    },
    {
      "cell_type": "markdown",
      "source": [
        "9. <br>а) Создать функцию-генератор, которая создает все возможные варианты расположения заданных элементов на шахматной доске.\n",
        "<br>б) Создать функцию-генератор, которая создает все возможные варианты расположения карточек товаров на странице интернет-магазина.\n",
        "<br>в) Отфильтровать список чисел, оставив только те, которые делятся на 3 и на 5, используя выражение-генератор.\n",
        "<br>г) Создать список всех возможных подстрок заданной строки, используя выражение-генератор."
      ],
      "metadata": {
        "id": "sFNBWw80of8D"
      }
    },
    {
      "cell_type": "markdown",
      "source": [
        "10. <br>а) Написать функцию-генератор, которая создает все возможные варианты расположения заданных элементов на круговой доске.\n",
        "<br>б) Написать функцию-генератор, которая создает все возможные варианты расположения изображений на сайте.\n",
        "<br>в) Создать список всех возможных перестановок элементов заданного списка, используя выражение-генератор.\n",
        "<br>г) Отсортировать список чисел в порядке возрастания, используя выражение-генератор."
      ],
      "metadata": {
        "id": "jLhsn7V5oiou"
      }
    },
    {
      "cell_type": "markdown",
      "source": [
        "11. <br>а) Реализовать функцию-генератор, которая создает все возможные комбинации цветов RGB.\n",
        "<br>б) Реализовать функцию-генератор, которая создает все возможные варианты расположения элементов на графике.\n",
        "<br>в) Отфильтровать список строк, оставив только те, которые содержат определенную подстроку, используя выражение-генератор.\n",
        "<br>г) Создать список всех возможных перестановок элементов заданного списка без повторений, используя выражение-генератор."
      ],
      "metadata": {
        "id": "ZJXvKJNgolv8"
      }
    },
    {
      "cell_type": "markdown",
      "source": [
        "12. <br>а) Создать функцию-генератор, которая создает все возможные варианты расположения фигур в игре шашки.\n",
        "<br>б) Создать функцию-генератор, которая создает все возможные варианты расположения элементов на диаграмме.\n",
        "<br>в) Создать список всех троек чисел $(a, b, c)$, где $a^2 + b^2 = c^2$, используя выражение-генератор.\n",
        "<br>г) Отфильтровать список словарей, оставив только те, у которых значение определенного ключа больше заданного значения, используя выражение-генератор."
      ],
      "metadata": {
        "id": "kySq_nENooT2"
      }
    },
    {
      "cell_type": "markdown",
      "source": [
        "13. <br>а) Написать функцию-генератор, которая создает все возможные варианты расположения букв в слове.\n",
        "<br>б) Написать функцию-генератор, которая создает все возможные варианты расположения кнопок на интерфейсе приложения.\n",
        "<br>в) Отфильтровать список чисел, оставив только простые числа, используя выражение-генератор.\n",
        "<br>г) Создать список всех чисел, являющихся степенями тройки, в заданном диапазоне, используя выражение-генератор."
      ],
      "metadata": {
        "id": "rn-stg0Voq9r"
      }
    },
    {
      "cell_type": "markdown",
      "source": [
        "14. <br>а) Реализовать функцию-генератор, которая создает все возможные варианты расположения карт в колоде.\n",
        "<br>б) Реализовать функцию-генератор, которая создает все возможные варианты расположения элементов на карте местности.\n",
        "<br>в) Создать список всех возможных сочетаний элементов заданного списка, используя выражение-генератор.\n",
        "<br>г) Отфильтровать список чисел, оставив только те, которые являются палиндромами в двоичной системе счисления, используя выражение-генератор."
      ],
      "metadata": {
        "id": "CIr_0lIuotEm"
      }
    },
    {
      "cell_type": "markdown",
      "source": [
        "15. <br>а) Создать функцию-генератор, которая создает все возможные варианты расположения элементов на сетке.\n",
        "<br>б) Создать функцию-генератор, которая создает все возможные комбинации символов в пароле.\n",
        "<br>в) Отсортировать список словарей по значению определенного ключа в порядке возрастания, используя выражение-генератор.\n",
        "<br>г) Создать список всех возможных сочетаний элементов заданного списка определенной длины, используя выражение-генератор."
      ],
      "metadata": {
        "id": "CQsBhSisoviq"
      }
    },
    {
      "cell_type": "markdown",
      "source": [
        "#### <font color='LightCoral'> **ЗАДАНИЕ 32.** Структуры данных: массивы."
      ],
      "metadata": {
        "id": "_50nhig8e8WB"
      }
    },
    {
      "cell_type": "markdown",
      "source": [
        "1. Используя модуль `array` и  библиотеку `numpy`, решить следующие задачи:<br>а) Дан массив размера $N$. Найти количество участков, на которых его элементы возрастают.<br>б) Дана квадратная матрица $A$ порядка $M$. Найти сумму элементов каждой ее диагонали, параллельной главной (начиная с одноэлементной диагонали $A_{1,M}$)."
      ],
      "metadata": {
        "id": "WdI-OP4YtdCP"
      }
    },
    {
      "cell_type": "markdown",
      "source": [
        "2. Используя модуль `array` и  библиотеку `numpy`, решить следующие задачи:<br>а) Дано множество $A$ из $N$ точек с целочисленными координатами $x$, $y$. Для хранения данных о каждом наборе точек следует использовать по два массива: первый массив для хранения абсцисс, второй — для хранения ординат. Порядок на координатной плоскости определим следующим образом: $(x_1, y_1) < (x_2, y_2)$, если либо $x_1 + y_1 < x_2 + y_2$, либо $x_1 + y_1 = x_2 + y_2$ и $x_1 < x_2$. Расположить точки данного множества по убыванию в соответствии с указанным порядком.<br>б) Дана квадратная матрица $A$ порядка $M$. Повернуть ее на угол 90° в отрицательном направлении, т. е. по часовой стрелке (при этом элемент $A_{1,1}$ перейдет в $A_{1,M}$, элемент $A_{1,M}$ — в $A_{M,M}$ и т. д.). Вспомогательную матрицу не использовать."
      ],
      "metadata": {
        "id": "4sISE-SptioF"
      }
    },
    {
      "cell_type": "markdown",
      "source": [
        "3. Используя модуль `array` и  библиотеку `numpy`, решить следующие задачи:<br>а) Дано число $R$ и массив $A$ размера $N$. Найти элемент массива, который наиболее близок к числу $R$.<br>б) Дана квадратная матрица порядка $M$. Обнулить элементы матрицы, лежащие на побочной диагонали и ниже нее. Условный оператор не использовать."
      ],
      "metadata": {
        "id": "xYjFCGEbuJ56"
      }
    },
    {
      "cell_type": "markdown",
      "source": [
        "4. Используя модуль `array` и  библиотеку `numpy`, решить следующие задачи:<br>а) Дано число $R$ и массив размера $N$. Найти два соседних элемента массива, сумма которых наиболее близка к числу $R$, и вывести эти элементы в порядке возрастания их индексов.<br>б) Дана целочисленная матрица размера $M×N$. Найти номер первого из ее столбцов, содержащих максимальное количество одинаковых элементов."
      ],
      "metadata": {
        "id": "coOn7qGiuOb6"
      }
    },
    {
      "cell_type": "markdown",
      "source": [
        "5. Используя модуль `array` и  библиотеку `numpy`, решить следующие задачи:<br>а) Дан массив размера $N$. Найти номера двух ближайших элементов из этого массива (т. е. элементов с наименьшим модулем разности) и вывести эти номера в порядке возрастания.<br>б) Дана целочисленная матрица размера $M×N$, элементы которой могут принимать значения от 0 до 100. Различные строки матрицы назовем похожими, если совпадают множества чисел, встречающихся в этих строках. Найти количество строк, похожих на первую строку данной матрицы."
      ],
      "metadata": {
        "id": "4aPTmuQBuSQH"
      }
    },
    {
      "cell_type": "markdown",
      "source": [
        "6. Используя модуль `array` и  библиотеку `numpy`, решить следующие задачи:<br>а) Дан целочисленный массив размера $N$. Найти максимальное количество его одинаковых элементов.<br>б) Дана целочисленная матрица размера $M×N$. Найти количество ее столбцов, все элементы которых различны."
      ],
      "metadata": {
        "id": "iECB314RuWDT"
      }
    },
    {
      "cell_type": "markdown",
      "source": [
        "7. Используя модуль `array` и  библиотеку `numpy`, решить следующие задачи:<br>а) Даны два массива $A$ и B одинакового размера $N$. Сформировать новый массив $C$ того же размера, каждый элемент которого равен максимальному из элементов массивов $A$ и B с тем же индексом.<br>б) Дана целочисленная матрица размера $M×N$. Найти элемент, являющийся максимальным в своей строке и минимальным в своем столбце. Если такой элемент отсутствует, то вывести 0."
      ],
      "metadata": {
        "id": "Pdj5HZaiuZ-j"
      }
    },
    {
      "cell_type": "markdown",
      "source": [
        "8. Используя модуль `array` и  библиотеку `numpy`, решить следующие задачи:<br>а) Дан массив $A$ размера $N$. Сформировать новый массив B того же размера по следующему правилу: элемент BK равен сумме элементов массива $A$ с номерами от 1 до $K$.<br>б) Дана матрица размера $M×N$. Элемент матрицы называется ее локальным минимумом, если он меньше всех окружающих его элементов. Заменить все локальные минимумы данной матрицы на нули."
      ],
      "metadata": {
        "id": "NAY9Y59jucwc"
      }
    },
    {
      "cell_type": "markdown",
      "source": [
        "9. Используя модуль `array` и  библиотеку `numpy`, решить следующие задачи:<br>а) Дан массив $A$ размера $N$. Сформировать новый массив B того же размера по следующему правилу: элемент BK равен среднему арифметическому элементов массива $A$ с номерами от 1 до $K$.<br>б) Дана квадратная матрица $A$ порядка $M$. Зеркально отразить ее элементы относительно побочной диагонали (при этом элементы побочной диагонали останутся на прежнем месте, элемент $A_{1,1}$ поменяется местами с $A_{M,M}$, элемент $A_{1,2}$ — с $A_{M−1,M}$ и т. д.). Вспомогательную матрицу не использовать."
      ],
      "metadata": {
        "id": "1Sg-2Pk7ug9q"
      }
    },
    {
      "cell_type": "markdown",
      "source": [
        "10. Используя модуль `array` и  библиотеку `numpy`, решить следующие задачи:<br>а) Дан массив $A$ размера $N$. Сформировать новый массив B того же размера по следующему правилу: элемент BK равен сумме элементов массива $A$ с номерами от $K$ до $N$.<br>б) Дана матрица размера $M×N$. Упорядочить ее строки так, чтобы их первые элементы образовывали возрастающую последовательность."
      ],
      "metadata": {
        "id": "JskCpDL6ulnK"
      }
    },
    {
      "cell_type": "markdown",
      "source": [
        "11. Используя модуль `array` и  библиотеку `numpy`, решить следующие задачи:<br>а) Дан массив размера $N$. После каждого отрицательного элемента массива вставить элемент с нулевым значением.<br>б) Дана матрица размера $M×N$. Упорядочить ее столбцы так, чтобы их последние элементы образовывали убывающую последовательность."
      ],
      "metadata": {
        "id": "RM8d6xBOusnf"
      }
    },
    {
      "cell_type": "markdown",
      "source": [
        "12. Используя модуль `array` и  библиотеку `numpy`, решить следующие задачи:<br>а) Дан целочисленный массив размера $N$. Удалить из массива все элементы, встречающиеся ровно два раза, и вывести размер полученного массива и его содержимое.<br>б) Дана матрица размера $M×N$. Упорядочить ее столбцы так, чтобы их максимальные элементы образовывали возрастающую последовательность."
      ],
      "metadata": {
        "id": "H5mUQglWuwdp"
      }
    },
    {
      "cell_type": "markdown",
      "source": [
        "13. Используя модуль `array` и  библиотеку `numpy`, решить следующие задачи:<br>а) Дан целочисленный массив размера $N$. Удалить из массива все элементы, встречающиеся менее трех раз, и вывести размер полученного массива и его содержимое.<br>б) Дана квадратная матрица $A$ порядка $M$. Найти максимальный элемент для каждой ее диагонали, параллельной побочной (начиная с одноэлементной диагонали $A_{1,1}$)."
      ],
      "metadata": {
        "id": "Jq3h1T4Uu1FM"
      }
    },
    {
      "cell_type": "markdown",
      "source": [
        "14. Используя модуль `array` и  библиотеку `numpy`, решить следующие задачи:<br>а) Дано множество $A$ из $N$ точек (точки заданы своими координатами $x$, $y$). Для хранения данных о каждом наборе точек следует использовать по два массива: первый массив для хранения абсцисс, второй — для хранения ординат. Среди всех точек этого множества, лежащих во второй четверти, найти точку, наиболее удаленную от начала координат. Если таких точек нет, то вывести точку с нулевыми координатами.<br>б) Дана матрица размера $M×N$. Элемент матрицы называется ее локальным максимумом, если он больше всех окружающих его элементов. Поменять знак всех локальных максимумов данной матрицы на противоположный."
      ],
      "metadata": {
        "id": "cMxzFcX_u4nh"
      }
    },
    {
      "cell_type": "markdown",
      "source": [
        "15. Используя модуль `array` и  библиотеку `numpy`, решить следующие задачи:<br>а) Дано целое число $L>1$ и целочисленный массив размера $N$. Заменить каждую серию массива, длина которой меньше $L$, на один элемент с нулевым значением. Серией называется группа подряд идущих одинаковых элементов, а длиной серии — количество этих элементов (длина серии может быть равна 1).<br>б) Дана квадратная матрица $A$ порядка $M$. Найти среднее арифметическое элементов каждой ее диагонали, параллельной главной (начиная с одноэлементной диагонали $A_{1,M}$)."
      ],
      "metadata": {
        "id": "0b05yuiju8yU"
      }
    },
    {
      "cell_type": "markdown",
      "source": [
        "### <font color='CadetBlue'> **II** —  апрель, май"
      ],
      "metadata": {
        "id": "GZgHsGJmeKrR"
      }
    },
    {
      "cell_type": "markdown",
      "source": [
        "#### <font color='LightCoral'> **ЗАДАНИЕ 33.** Структуры данных: стек."
      ],
      "metadata": {
        "id": "Y5IzArqPfc6g"
      }
    },
    {
      "cell_type": "markdown",
      "source": [
        "Задачу решить двумя способами:\n",
        "\n",
        "1. Реализовать класс стек через использование списка:\n",
        "   * Создать класс `Stack` с методами:\n",
        "     - `push(item)`: добавляет элемент `item` в верхушку стека;\n",
        "     - `pop()`: удаляет и возвращает элемент из верхушки стека;\n",
        "     - `peek()`: возвращает элемент из верхушки стека без его удаления;\n",
        "     - `is_empty()`: проверяет, пуст ли стек;\n",
        "     - `size()`: возвращает текущий размер стека.\n",
        "\n",
        "2. Реализовать класс стек через связный список:\n",
        "   * Создать класс `Node` для представления узла связного списка с двумя атрибутами: `data` (значение узла) и `next` (ссылка на следующий узел).\n",
        "\n",
        "   * Создать класс `Stack` с методами:\n",
        "     - `push(item)`: добавляет элемент `item` в верхушку стека;\n",
        "     - `pop()`: удаляет и возвращает элемент из верхушки стека;\n",
        "     - `peek()`: возвращает элемент из верхушки стека без его удаления;\n",
        "     - `is_empty()`: проверяет, пуст ли стек;\n",
        "     - `size()`: возвращает текущий размер стека/\n",
        "\n",
        "Оба способа реализации должны обеспечивать функциональность стека: добавление элементов в верхушку, удаление элементов из верхушки, получение элемента из верхушки без его удаления, проверку на пустоту и получение текущего размера стека."
      ],
      "metadata": {
        "id": "fAHsgG-Iwa2A"
      }
    },
    {
      "cell_type": "markdown",
      "source": [
        "1. Дан стек. Необходимо перевернуть его содержимое так, чтобы верхний элемент стал нижним, а нижний — верхним."
      ],
      "metadata": {
        "id": "-Hbnwm81vlJo"
      }
    },
    {
      "cell_type": "markdown",
      "source": [
        "2. Дан стек. Необходимо удалить из него все элементы, которые не являются простыми числами."
      ],
      "metadata": {
        "id": "gadb9MTQvmFw"
      }
    },
    {
      "cell_type": "markdown",
      "source": [
        "3. Дан стек. Необходимо отсортировать его содержимое по возрастанию или убыванию, в зависимости от переданного параметра (`False` — по возрастанию, `True` — по убыванию)."
      ],
      "metadata": {
        "id": "GaZOxwo1vpue"
      }
    },
    {
      "cell_type": "markdown",
      "source": [
        "4. Дан стек. Необходимо проверить, есть ли в нем повторяющиеся элементы. Вывести повторяющиеся элементы, если они есть."
      ],
      "metadata": {
        "id": "NlTV5vBpvuPy"
      }
    },
    {
      "cell_type": "markdown",
      "source": [
        "5. Дан стек. Необходимо найти максимальный или минимальный элемент в нем, в зависимости от переданного параметра (`True` — максимальный, `False` — минимальный)."
      ],
      "metadata": {
        "id": "cv_foLSnvyoc"
      }
    },
    {
      "cell_type": "markdown",
      "source": [
        "6. Дан стек и два элемента $A$ и $B$. Необходимо удалить из стека все элементы, которые находятся между $A$ и $B$ (включая сами $A$ и $B$)."
      ],
      "metadata": {
        "id": "my7x7RSHv1SY"
      }
    },
    {
      "cell_type": "markdown",
      "source": [
        "7. Дан стек. Необходимо разделить его на два так, чтобы в первом были элементы с четными индексами, а во втором — с нечетными."
      ],
      "metadata": {
        "id": "jB3x0j7Lv4jn"
      }
    },
    {
      "cell_type": "markdown",
      "source": [
        "8. Дан стек. Необходимо проверить, является ли его содержимое палиндромом (то есть читается одинаково как слева направо, так и справа налево)."
      ],
      "metadata": {
        "id": "qt-EN8Kov8xQ"
      }
    },
    {
      "cell_type": "markdown",
      "source": [
        "9. Дан стек. Необходимо удалить из него все отрицательные элементы."
      ],
      "metadata": {
        "id": "QYEXbH_ewEh2"
      }
    },
    {
      "cell_type": "markdown",
      "source": [
        "10. Дан стек. Необходимо проверить, является ли его содержимое последовательностью арифметической прогрессии."
      ],
      "metadata": {
        "id": "ivGN0girwH6S"
      }
    },
    {
      "cell_type": "markdown",
      "source": [
        "11. Дан стек. Необходимо найти среднее арифметическое всех его элементов."
      ],
      "metadata": {
        "id": "KeCUir8awK1T"
      }
    },
    {
      "cell_type": "markdown",
      "source": [
        "12. Дан стек и значение $A$. Необходимо удалить из стека все элементы, которые больше $A$."
      ],
      "metadata": {
        "id": "fKxjHk5ZwNQ-"
      }
    },
    {
      "cell_type": "markdown",
      "source": [
        "13. Дан стек и число $k$. Необходимо найти $k$-й по счету элемент в стеке."
      ],
      "metadata": {
        "id": "MNtqYus3wPTO"
      }
    },
    {
      "cell_type": "markdown",
      "source": [
        "14. Дан стек. Необходимо проверить, является ли его содержимое последовательностью геометрической прогрессии."
      ],
      "metadata": {
        "id": "c3JdfsGywR_o"
      }
    },
    {
      "cell_type": "markdown",
      "source": [
        "15. Дан стек и число $N$, необходимо удалить из стека все элементы, которые кратны $N$."
      ],
      "metadata": {
        "id": "i-mmoANewVqQ"
      }
    },
    {
      "cell_type": "markdown",
      "source": [
        "#### <font color='LightCoral'> **ЗАДАНИЕ 34.** Структуры данных: очередь."
      ],
      "metadata": {
        "id": "Zz7Pa6d9fp0N"
      }
    },
    {
      "cell_type": "markdown",
      "source": [
        "Задачу решить двумя способами:\n",
        "\n",
        "1. Реализовать класс очередь через использование списка:\n",
        "   * Создать класс `Queue` с методами:\n",
        "     - `enqueue(item)`: добавляет элемент `item` в конец очереди;\n",
        "     - `dequeue()`: удаляет и возвращает элемент из начала очереди;\n",
        "     - `peek()`: возвращает элемент из начала очереди без его удаления;\n",
        "     - `is_empty()`: проверяет, пуста ли очередь;\n",
        "     - `size()`: возвращает текущий размер очереди.\n",
        "\n",
        "2. Реализовать класс очередь через связный список:\n",
        "   * Создать класс `Node` для представления узла связного списка с двумя атрибутами: `data` (значение узла) и `next` (ссылка на следующий узел).\n",
        "\n",
        "   * Создать класс `Queue` с методами:\n",
        "     - `enqueue(item)`: добавляет элемент `item` в конец очереди;\n",
        "     - `dequeue()`: удаляет и возвращает элемент из начала очереди;\n",
        "     - `peek()`: возвращает элемент из начала очереди без его удаления;\n",
        "     - `is_empty()`: проверяет, пуста ли очередь;\n",
        "     - `size()`: возвращает текущий размер очереди.\n",
        "\n",
        "Оба способа реализации должны обеспечивать функциональность очереди: добавление элементов в конец, удаление элементов из начала, получение элемента из начала без его удаления, проверку на пустоту и получение текущего размера очереди."
      ],
      "metadata": {
        "id": "213jeUuw8Aq5"
      }
    },
    {
      "cell_type": "markdown",
      "source": [
        "1. Создать класс очереди, который будет хранить только уникальные элементы. При добавлении элемента, если он уже есть в очереди, то он не должен добавляться."
      ],
      "metadata": {
        "id": "dtZx4p0L8m9Z"
      }
    },
    {
      "cell_type": "markdown",
      "source": [
        "2. Создать класс очереди, который будет хранить только четные или только нечетные числа в зависимости от параметра, передаваемого при инициализации объекта класса очереди (`True` — хранить только четные числа, `False` — нечетные числа). При добавлении элемента, если его значение не соответствует заданному условию, то он не должен добавляться."
      ],
      "metadata": {
        "id": "f4_m8jlB80fF"
      }
    },
    {
      "cell_type": "markdown",
      "source": [
        "3. Создать класс очереди с ограниченной емкостью. Если при добавлении элемента очередь уже заполнена, то новый элемент должен заменить первый элемент в очереди."
      ],
      "metadata": {
        "id": "ExFZpf8t9EVm"
      }
    },
    {
      "cell_type": "markdown",
      "source": [
        "4. Создать класс очереди, который будет поддерживать операции добавления элемента в конец очереди и удаления элемента из середины очереди по индексу."
      ],
      "metadata": {
        "id": "qbv9UMSk9KiE"
      }
    },
    {
      "cell_type": "markdown",
      "source": [
        "5. Создать класс очереди, который будет поддерживать операции добавления элемента в конец очереди, удаления элемента из начала очереди и сортировки элементов в очереди по возрастанию."
      ],
      "metadata": {
        "id": "02kRPkrA9Mz7"
      }
    },
    {
      "cell_type": "markdown",
      "source": [
        "6. Создать класс очереди, который будет поддерживать операции добавления элемента в конец очереди, удаления элемента из начала очереди и поиска минимального элемента в очереди."
      ],
      "metadata": {
        "id": "wjLxhGiC9Pjs"
      }
    },
    {
      "cell_type": "markdown",
      "source": [
        "7. Создать класс очереди, который будет поддерживать операции добавления элемента в конец очереди и удаления всех элементов из очереди, которые меньше заданного значения."
      ],
      "metadata": {
        "id": "5-54PJcP9TzQ"
      }
    },
    {
      "cell_type": "markdown",
      "source": [
        "8. Создать класс двусторонней очереди, который будет поддерживать операции добавления элемента в начало и конец очереди, удаления элемента из начала и конца очереди, а также удаления минимального и максимального элементов из очереди."
      ],
      "metadata": {
        "id": "ceew3tR39V1e"
      }
    },
    {
      "cell_type": "markdown",
      "source": [
        "9. Создать класс очереди, который будет поддерживать операции добавления элемента в конец очереди и удаления всех повторяющихся элементов из очереди."
      ],
      "metadata": {
        "id": "OSpy49ZK9Yd-"
      }
    },
    {
      "cell_type": "markdown",
      "source": [
        "10. Создать класс очереди, который будет хранить только элементы определенного типа данных. Тип элементов задается при инициализации объекта класса очереди. При добавлении элемента, если его тип не соответствует заданному, то он не должен добавляться."
      ],
      "metadata": {
        "id": "U7cTmIEk9bXh"
      }
    },
    {
      "cell_type": "markdown",
      "source": [
        "11. Создать класс очереди, который будет поддерживать операции добавления элемента в конец очереди и удаления элемента из середины очереди по значению."
      ],
      "metadata": {
        "id": "Kxgptij59dkG"
      }
    },
    {
      "cell_type": "markdown",
      "source": [
        "12. Создать класс очереди, который будет хранить только элементы, кратные заданному числу, которое определяется при инициализации объекта класса очереди. При добавлении элемента, который не является кратным заданному числу, то он не должен добавляться."
      ],
      "metadata": {
        "id": "6R45C7ea9gER"
      }
    },
    {
      "cell_type": "markdown",
      "source": [
        "13. Создать класс очереди, который будет поддерживать операции добавления элемента в конец очереди и добавления элемента в середину очереди по индексу."
      ],
      "metadata": {
        "id": "phxY0hR39jsF"
      }
    },
    {
      "cell_type": "markdown",
      "source": [
        "14. Создать класс очереди, который будет поддерживать операции добавления элемента в конец очереди и удаления всех элементов из очереди, которые больше заданного значения."
      ],
      "metadata": {
        "id": "4dxQNsSJ9mZZ"
      }
    },
    {
      "cell_type": "markdown",
      "source": [
        "15. Создать класс очереди, который будет хранить только простые числа. При добавлении элемента, не являющийся простым числом, то он не должен добавляться."
      ],
      "metadata": {
        "id": "ekgosSkt9opI"
      }
    },
    {
      "cell_type": "markdown",
      "source": [
        "#### <font color='LightCoral'> **ЗАДАНИЕ 35.** Структуры данных: создание двусвязного списка."
      ],
      "metadata": {
        "id": "pbF7QemofsxE"
      }
    },
    {
      "cell_type": "markdown",
      "source": [
        "1. Создайте двусвязный список для хранения и управления информацией о студентах в университете. Каждый элемент списка должен содержать имя, фамилию, номер студенческого билета и список курсов, на которые студент записан."
      ],
      "metadata": {
        "id": "pNx8t2il9t1V"
      }
    },
    {
      "cell_type": "markdown",
      "source": [
        "2. Создайте двусвязный список для хранения информации о покупках в интернетмагазине. Каждый элемент списка должен содержать название товара, цену, количество и дату покупки."
      ],
      "metadata": {
        "id": "QZLShnnW96dH"
      }
    },
    {
      "cell_type": "markdown",
      "source": [
        "3. Создайте двусвязный список для хранения информации о задачах в проекте. Каждый элемент списка должен содержать название задачи, описание, дату начала и дату окончания."
      ],
      "metadata": {
        "id": "Sehmfokp-Bas"
      }
    },
    {
      "cell_type": "markdown",
      "source": [
        "4. Создайте двусвязный список для хранения информации о заказах в ресторане. Каждый элемент списка должен содержать название блюда, цену, количество, дату заказа и статус заказа (например, «в обработке», «готов», «доставлен»)."
      ],
      "metadata": {
        "id": "BEy0asB4-K71"
      }
    },
    {
      "cell_type": "markdown",
      "source": [
        "5. Создайте двусвязный список для хранения информации о задачах в календаре. Каждый элемент списка должен содержать название задачи, описание, дату начала и дату окончания, а также список напоминаний о задаче (например, за день до окончания, за час до начала и т.д.)."
      ],
      "metadata": {
        "id": "_ph3QBvX-Okz"
      }
    },
    {
      "cell_type": "markdown",
      "source": [
        "6. Создайте двусвязный список для хранения информации о задачах в системе управления проектами для строительства зданий. Каждый элемент списка должен содержать название задачи, описание, дату начала и дату окончания, а также информацию о том, какие инженеры и рабочие работают над этой задачей."
      ],
      "metadata": {
        "id": "HBvAEuA0-Q3H"
      }
    },
    {
      "cell_type": "markdown",
      "source": [
        "7. Создайте двусвязный список для хранения информации о пациентах в больнице. Каждый элемент списка должен содержать имя и фамилию пациента, диагноз, дату поступления и выписки, а также список проведенных процедур и назначенных лекарств."
      ],
      "metadata": {
        "id": "LbDZEk2z-UAh"
      }
    },
    {
      "cell_type": "markdown",
      "source": [
        "8. Создайте двусвязный список для хранения информации о задачах в проекте по разработке программного обеспечения. Каждый элемент списка должен содержать название задачи, описание, дату начала и дату окончания, а также информацию о том, какие разработчики работают над этой задачей."
      ],
      "metadata": {
        "id": "viCzm9Ur-Wvp"
      }
    },
    {
      "cell_type": "markdown",
      "source": [
        "9. Создайте двусвязный список для хранения информации о посетителях музея. Каждый элемент списка должен содержать имя и фамилию посетителя, дату посещения, список экспонатов, которые он посмотрел, и оценку каждого из них."
      ],
      "metadata": {
        "id": "ot2cT70P-ZvZ"
      }
    },
    {
      "cell_type": "markdown",
      "source": [
        "10. Создайте двусвязный список для хранения информации о заказах в интернетмагазине. Каждый элемент списка должен содержать номер заказа, дату создания, список товаров, их количество и стоимость, а также информацию о доставке и оплате."
      ],
      "metadata": {
        "id": "S0aByMp2-ehK"
      }
    },
    {
      "cell_type": "markdown",
      "source": [
        "11. Создайте двусвязный список для хранения информации о студентах в университете. Каждый элемент списка должен содержать имя, фамилию, номер группы, список предметов, которые студент изучает, и оценки по каждому предмету."
      ],
      "metadata": {
        "id": "GSnmdYcZ-fwm"
      }
    },
    {
      "cell_type": "markdown",
      "source": [
        "12. Создайте двусвязный список для хранения информации о сотрудниках в компании. Каждый элемент списка должен содержать имя, фамилию, должность, дату приема на работу и список проектов, над которыми сотрудник работает."
      ],
      "metadata": {
        "id": "XpvtcwQZ-ifB"
      }
    },
    {
      "cell_type": "markdown",
      "source": [
        "13. Создайте двусвязный список для хранения информации о задачах в игре. Каждый элемент списка должен содержать название задачи, описание, уровень сложности, дату начала и дату окончания, а также список игроков, которые работают над этой задачей."
      ],
      "metadata": {
        "id": "WNACZ3Pw-k2E"
      }
    },
    {
      "cell_type": "markdown",
      "source": [
        "14. Создайте двусвязный список для хранения информации о книгах в библиотеке. Каждый элемент списка должен содержать название книги, автора, год издания, количество экземпляров и список читателей, которые взяли эту книгу."
      ],
      "metadata": {
        "id": "mYAYP_8U-nAe"
      }
    },
    {
      "cell_type": "markdown",
      "source": [
        "15. Создайте двусвязный список для хранения информации о задачах в системе управления проектами. Каждый элемент списка должен содержать название задачи, описание, дату начала и дату окончания, а также список комментариев и прикрепленных файлов к задаче."
      ],
      "metadata": {
        "id": "SI0h8uOo-pTJ"
      }
    },
    {
      "cell_type": "markdown",
      "source": [
        "#### <font color='LightCoral'> **ЗАДАНИЕ 36.** Структуры данных: работа с двусвязным списком."
      ],
      "metadata": {
        "id": "7km8KaMcftjL"
      }
    },
    {
      "cell_type": "markdown",
      "source": [
        "1. Реализовать функцию, которая переворачивает двусвязный список."
      ],
      "metadata": {
        "id": "d_o509KICOMF"
      }
    },
    {
      "cell_type": "markdown",
      "source": [
        "2. Реализовать функцию, которая объединяет два отсортированных двусвязных списка в один отсортированный список."
      ],
      "metadata": {
        "id": "rnYtn1H_CPIv"
      }
    },
    {
      "cell_type": "markdown",
      "source": [
        "3. Реализовать функцию, которая проверяет, является ли двусвязный список палиндромом."
      ],
      "metadata": {
        "id": "SE-QdW2rCRjW"
      }
    },
    {
      "cell_type": "markdown",
      "source": [
        "4. Реализовать функцию, которая удаляет все повторяющиеся элементы из двусвязного списка."
      ],
      "metadata": {
        "id": "sMYOJvOmCUsr"
      }
    },
    {
      "cell_type": "markdown",
      "source": [
        "5. Реализовать функцию, которая находит средний элемент в двусвязном списке."
      ],
      "metadata": {
        "id": "sYC0h5ZaCXU2"
      }
    },
    {
      "cell_type": "markdown",
      "source": [
        "6. Реализовать функцию, которая находит $k$-й элемент с конца в двусвязном списке."
      ],
      "metadata": {
        "id": "8iun7-9KCa7M"
      }
    },
    {
      "cell_type": "markdown",
      "source": [
        "7. Реализовать функцию, которая удаляет каждый $n$-й элемент из двусвязного списка."
      ],
      "metadata": {
        "id": "EQ2YNohYCdko"
      }
    },
    {
      "cell_type": "markdown",
      "source": [
        "8. Реализовать функцию, которая находит пересечение двух двусвязных списков."
      ],
      "metadata": {
        "id": "ZOqj4Ai9Cidi"
      }
    },
    {
      "cell_type": "markdown",
      "source": [
        "9. Реализовать функцию, которая находит сумму двух чисел, представленных в виде двусвязных списков."
      ],
      "metadata": {
        "id": "wi2qCgcUCkru"
      }
    },
    {
      "cell_type": "markdown",
      "source": [
        "10. Реализовать функцию, которая разделяет двусвязный список на два списка, один из которых содержит все элементы, меньшие заданного значения, а другой — все элементы, большие или равные заданному значению."
      ],
      "metadata": {
        "id": "1kJnAxC2Cm5U"
      }
    },
    {
      "cell_type": "markdown",
      "source": [
        "11. Реализовать функцию, которая находит среднее арифметическое всех элементов двусвязного списка."
      ],
      "metadata": {
        "id": "xHQIiAAZCpZk"
      }
    },
    {
      "cell_type": "markdown",
      "source": [
        "12. Реализовать функцию, которая удаляет все элементы с заданным значением из двусвязного списка."
      ],
      "metadata": {
        "id": "v1N7QybxCr77"
      }
    },
    {
      "cell_type": "markdown",
      "source": [
        "13. Реализовать функцию, которая находит медиану двусвязного списка."
      ],
      "metadata": {
        "id": "-ZTLlxizCuFM"
      }
    },
    {
      "cell_type": "markdown",
      "source": [
        "14. Реализовать функцию, которая находит сумму всех элементов двусвязного списка, кроме первого и последнего."
      ],
      "metadata": {
        "id": "261N-yNLCwIe"
      }
    },
    {
      "cell_type": "markdown",
      "source": [
        "15. Реализовать функцию, которая находит сумму всех элементов двусвязного списка, удовлетворяющих заданному условию."
      ],
      "metadata": {
        "id": "SkDt6KxNCyVi"
      }
    },
    {
      "cell_type": "markdown",
      "source": [
        "#### <font color='LightCoral'> **ЗАДАНИЕ 37.** Структуры данных: циклический двусвязный список."
      ],
      "metadata": {
        "id": "jFhR9iC2ftuv"
      }
    },
    {
      "cell_type": "markdown",
      "source": [
        "1. Реализовать функцию, которая находит индекс первого вхождения заданного элемента в циклический двусвязный список."
      ],
      "metadata": {
        "id": "IPH-HDmGC9fl"
      }
    },
    {
      "cell_type": "markdown",
      "source": [
        "2. Реализовать функцию, которая перемещает заданное количество элементов из начала циклического двусвязного списка в его конец."
      ],
      "metadata": {
        "id": "n9HiSWmWC-pu"
      }
    },
    {
      "cell_type": "markdown",
      "source": [
        "3. Реализовать функцию, которая переворачивает циклический двусвязный список."
      ],
      "metadata": {
        "id": "i--0LFDVDA34"
      }
    },
    {
      "cell_type": "markdown",
      "source": [
        "4. Реализовать функцию, которая удаляет все элементы циклического двусвязного списка, равные заданному значению."
      ],
      "metadata": {
        "id": "yhoEo6FkDDCM"
      }
    },
    {
      "cell_type": "markdown",
      "source": [
        "5. Реализовать функцию, которая сортирует циклический двусвязный список по возрастанию."
      ],
      "metadata": {
        "id": "iKFe9_IeDFJn"
      }
    },
    {
      "cell_type": "markdown",
      "source": [
        "6. Реализовать функцию, которая удаляет все элементы циклического двусвязного списка, меньшие заданного значения."
      ],
      "metadata": {
        "id": "iP0w9lB-DHVb"
      }
    },
    {
      "cell_type": "markdown",
      "source": [
        "7. Реализовать функцию, которая возвращает элемент по заданному индексу в циклический двусвязном списке."
      ],
      "metadata": {
        "id": "oKXJ2HpWDJS0"
      }
    },
    {
      "cell_type": "markdown",
      "source": [
        "8. Реализовать функцию, которая вставляет элемент на заданную позицию в циклическом двусвязном списке."
      ],
      "metadata": {
        "id": "1Lz5LAngDLVT"
      }
    },
    {
      "cell_type": "markdown",
      "source": [
        "9. Реализовать функцию, которая удаляет все элементы циклического двусвязного списка, большие заданного значения."
      ],
      "metadata": {
        "id": "Ewt0iyRnDNhh"
      }
    },
    {
      "cell_type": "markdown",
      "source": [
        "10. Реализовать функцию, которая проверяет, содержится ли заданный элемент в циклическом двусвязном списке.\n"
      ],
      "metadata": {
        "id": "kXwDtGWgDRio"
      }
    },
    {
      "cell_type": "markdown",
      "source": [
        "11. Реализовать функцию, которая удаляет все повторяющиеся элементы из циклического двусвязного списка.\n"
      ],
      "metadata": {
        "id": "OoRaG1sjDPp1"
      }
    },
    {
      "cell_type": "markdown",
      "source": [
        "12. Реализовать функцию, которая находит максимальный элемент в циклическом двусвязном списке."
      ],
      "metadata": {
        "id": "7wDXzylaD5HB"
      }
    },
    {
      "cell_type": "markdown",
      "source": [
        "13. Реализовать функцию, которая сортирует циклический двусвязный список по убыванию."
      ],
      "metadata": {
        "id": "J4LMsrnIEBkT"
      }
    },
    {
      "cell_type": "markdown",
      "source": [
        "14. Реализовать функцию, которая проверяет, является ли циклический двусвязный список палиндромом."
      ],
      "metadata": {
        "id": "DwJqu0woEDxk"
      }
    },
    {
      "cell_type": "markdown",
      "source": [
        "15. Реализовать функцию, которая возвращает сумму всех элементов циклического двусвязного списка."
      ],
      "metadata": {
        "id": "cu1WnrPIEF_Z"
      }
    },
    {
      "cell_type": "markdown",
      "source": [
        "#### <font color='LightCoral'> **ЗАДАНИЕ 38.** Алгоритмы поиска и сортировки."
      ],
      "metadata": {
        "id": "YbpTd9oaft6R"
      }
    },
    {
      "cell_type": "markdown",
      "source": [
        "1. Необходимо отсортировать список студентов по их среднему баллу за сессию и вывести результат на экран. Использовать алгоритмы сортировки: сортировку выбором, сортировку слиянием и быструю сортировку. Сравнить время выполнения алгоритмов сортировки с помощью декоратора. Данные о студентах хранятся в файле."
      ],
      "metadata": {
        "id": "v-Z6pO2QEhyX"
      }
    },
    {
      "cell_type": "markdown",
      "source": [
        "2. Необходимо отсортировать массив объектов по заданному критерию и вывести результат на экран. В зависимости от переданного параметра отсортировать массив объектов класса «Книга» по автору, названию или году издания, используя алгоритмы сортировки: пузырьковую, сортировку вставками и быструю сортировку. Сравнить время выполнения алгоритмов сортировки с помощью декоратора. Данные о книгах хранятся в файле."
      ],
      "metadata": {
        "id": "_pdO3jGREj0N"
      }
    },
    {
      "cell_type": "markdown",
      "source": [
        "3. Необходимо отсортировать массив строк по алфавиту и вывести результат на экран. Использовать алгоритмы сортировки: сортировку пузырьком, сортировку слиянием и быструю сортировку. Сравнить время выполнения алгоритмов сортировки с помощью декоратора. Строки хранятся в файле."
      ],
      "metadata": {
        "id": "XSF4gr5eEmM8"
      }
    },
    {
      "cell_type": "markdown",
      "source": [
        "4. Необходимо отсортировать список товаров по цене и вывести результат на экран. В зависимости от переданного параметра отсортировать список товаров по возрастанию цены или по убыванию цены, используя алгоритмы сортировки: сортировку пузырьком, сортировку слиянием и быструю сортировку. Сравнить время выполнения алгоритмов сортировки с помощью декоратора. Данные о товарах хранятся в файле."
      ],
      "metadata": {
        "id": "koV_2jAEEo28"
      }
    },
    {
      "cell_type": "markdown",
      "source": [
        "5. Необходимо отсортировать массив строк по длине и вывести результат на экран. В зависимости от переданного параметра отсортировать массив строк по возрастанию длины или по убыванию длины, используя алгоритмы сортировки: сортировку выбором, сортировку пузырьком и быструю сортировку. Сравнить время выполнения алгоритмов сортировки с помощью декоратора. Строки хранятся в файле."
      ],
      "metadata": {
        "id": "YyHlSX41ErKp"
      }
    },
    {
      "cell_type": "markdown",
      "source": [
        "6. Необходимо отсортировать массив чисел по частоте их встречаемости и вывести результат на экран. В зависимости от переданного параметра отсортировать массив чисел по возрастанию частоты их встречаемости или по убыванию частоты их встречаемости, используя алгоритмы сортировки: сортировку пузырьком, сортировку выбором и быструю сортировку. Сравнить время выполнения алгоритмов сортировки с помощью декоратора. Числа хранятся в файле."
      ],
      "metadata": {
        "id": "b8SJ2W5hEuGa"
      }
    },
    {
      "cell_type": "markdown",
      "source": [
        "7. Необходимо отсортировать список городов по населению и вывести результат на экран. В зависимости от переданного параметра отсортировать список городов по возрастанию населения или по убыванию населения, используя алгоритмы сортировки: сортировку пузырьком, сортировку вставками и быструю сортировку. Сравнить время выполнения алгоритмов сортировки с помощью декоратора. Данные о городах хранятся в файле."
      ],
      "metadata": {
        "id": "hdP-NQNzEv8n"
      }
    },
    {
      "cell_type": "markdown",
      "source": [
        "8. Необходимо отсортировать массив объектов по определенному полю и вывести результат на экран. В зависимости от переданного параметра отсортировать массив объектов по возрастанию или по убыванию значения определенного поля, используя алгоритмы сортировки: сортировку выбором, сортировку пузырьком и быструю сортировку. Сравнить время выполнения алгоритмов сортировки с помощью декоратора. Данные об объектах хранятся в файле."
      ],
      "metadata": {
        "id": "ZYJglq5kEx_5"
      }
    },
    {
      "cell_type": "markdown",
      "source": [
        "9. Необходимо отсортировать список слов по алфавиту и вывести результат на экран. В зависимости от переданного параметра отсортировать список слов по возрастанию или по убыванию алфавитного порядка, используя алгоритмы сортировки: сортировку вставками, сортировку выбором и быструю сортировку. Сравнить время выполнения алгоритмов сортировки с помощью декоратора. Текст хранится в файле."
      ],
      "metadata": {
        "id": "VBuoLsl-E0D2"
      }
    },
    {
      "cell_type": "markdown",
      "source": [
        "10. Необходимо отсортировать массив дат и вывести результат на экран. В зависимости от переданного параметра отсортировать массив дат по возрастанию или по убыванию даты, используя алгоритмы сортировки: сортировку выбором, сортировку пузырьком и быструю сортировку. Сравнить время выполнения алгоритмов сортировки с помощью декоратора. Даты хранятся в файле."
      ],
      "metadata": {
        "id": "blWhcwwME18r"
      }
    },
    {
      "cell_type": "markdown",
      "source": [
        "11. Необходимо отсортировать список товаров по количеству продаж и вывести результат на экран. В зависимости от переданного параметра отсортировать список товаров по возрастанию или по убыванию количества продаж, используя алгоритмы сортировки: сортировку вставками, сортировку выбором и быструю сортировку. Сравнить время выполнения алгоритмов сортировки с помощью декоратора. Данные о товарах хранятся в файле."
      ],
      "metadata": {
        "id": "jgu8XNawE3-8"
      }
    },
    {
      "cell_type": "markdown",
      "source": [
        "12. Необходимо отсортировать массив чисел по сумме цифр каждого числа и вывести результат на экран. В зависимости от переданного параметра отсортировать массив чисел по возрастанию или по убыванию суммы цифр каждого числа, используя алгоритмы сортировки: сортировку выбором, сортировку пузырьком и быструю сортировку. Сравнить время выполнения алгоритмов сортировки с помощью декоратора. Числа хранятся в файле."
      ],
      "metadata": {
        "id": "xPFBA8i6E6IK"
      }
    },
    {
      "cell_type": "markdown",
      "source": [
        "13. Необходимо отсортировать массив точек на плоскости по расстоянию до начала координат и вывести результат на экран. В зависимости от переданного параметра отсортировать массив точек по возрастанию или по убыванию расстояния до начала координат, используя алгоритмы сортировки: сортировку выбором, сортировку пузырьком и быструю сортировку. Сравнить время выполнения алгоритмов сортировки с помощью декоратора. Координаты точек хранятся в файле."
      ],
      "metadata": {
        "id": "KrcDUDgNE8XZ"
      }
    },
    {
      "cell_type": "markdown",
      "source": [
        "14. Необходимо отсортировать список фильмов по году выпуска и вывести результат на экран. В зависимости от переданного параметра отсортировать список фильмов по возрастанию или по убыванию года выпуска, используя алгоритмы сортировки: сортировку вставками, сортировку выбором и быструю сортировку. Сравнить время выполнения алгоритмов сортировки с помощью декоратора. Информация о фильмах хранится в файле."
      ],
      "metadata": {
        "id": "bhdiCLrjE-rm"
      }
    },
    {
      "cell_type": "markdown",
      "source": [
        "15. Необходимо отсортировать массив звездных величин по яркости и вывести результат на экран. В зависимости от переданного параметра отсортировать массив звездных величин по возрастанию или по убыванию яркости, используя алгоритмы сортировки: сортировку выбором, сортировку пузырьком и быструю сортировку. Сравнить время выполнения алгоритмов сортировки с помощью декоратора. Звездные величины хранятся в файле."
      ],
      "metadata": {
        "id": "jKa66GEoFDoI"
      }
    },
    {
      "cell_type": "markdown",
      "source": [
        "#### <font color='LightCoral'> **ЗАДАНИЕ 39.** Структуры данных: бинарные деревья."
      ],
      "metadata": {
        "id": "83V3q8I8fuFK"
      }
    },
    {
      "cell_type": "markdown",
      "source": [
        "1. Реализовать класс бинарного дерева. Написать функцию для поиска элемента в бинарном дереве."
      ],
      "metadata": {
        "id": "oUZZ0n6LFncr"
      }
    },
    {
      "cell_type": "markdown",
      "source": [
        "2. Реализовать класс бинарного дерева. Написать функцию для проверки, является ли бинарное дерево сбалансированным."
      ],
      "metadata": {
        "id": "j3wYaAheFpt7"
      }
    },
    {
      "cell_type": "markdown",
      "source": [
        "3. Реализовать класс бинарного дерева. Написать функцию для поиска наименьшего и наибольшего элементов в бинарном дереве."
      ],
      "metadata": {
        "id": "W783wUiFFsOX"
      }
    },
    {
      "cell_type": "markdown",
      "source": [
        "4. Реализовать класс бинарного дерева. Написать функцию для проверки, является ли бинарное дерево деревом поиска."
      ],
      "metadata": {
        "id": "O4DktWEaFuse"
      }
    },
    {
      "cell_type": "markdown",
      "source": [
        "5. Реализовать класс бинарного дерева. Написать функцию для нахождения наибольшей глубины листьев в бинарном дереве."
      ],
      "metadata": {
        "id": "DOM03ifuFxil"
      }
    },
    {
      "cell_type": "markdown",
      "source": [
        "6. Реализовать класс бинарного дерева. Написать функцию для нахождения наименьшего общего предка двух узлов в бинарном дереве."
      ],
      "metadata": {
        "id": "iDa7ZzsRFz3y"
      }
    },
    {
      "cell_type": "markdown",
      "source": [
        "7. Реализовать класс бинарного дерева. Написать функцию для нахождения суммы всех элементов в бинарном дереве."
      ],
      "metadata": {
        "id": "9c3taYNSF18r"
      }
    },
    {
      "cell_type": "markdown",
      "source": [
        "8. Реализовать класс бинарного дерева. Написать функцию для нахождения диаметра бинарного дерева (максимального расстояния между двумя узлами)."
      ],
      "metadata": {
        "id": "ShxVEAx5F5C2"
      }
    },
    {
      "cell_type": "markdown",
      "source": [
        "9. Реализовать класс бинарного дерева. Написать функцию для нахождения всех узлов, которые имеют только одного потомка в бинарном дереве."
      ],
      "metadata": {
        "id": "NrJjZwkjF7Ss"
      }
    },
    {
      "cell_type": "markdown",
      "source": [
        "10. Реализовать класс бинарного дерева. Написать функцию для нахождения всех узлов, которые имеют двух потомков в бинарном дереве."
      ],
      "metadata": {
        "id": "4wy5ECRFF9Ya"
      }
    },
    {
      "cell_type": "markdown",
      "source": [
        "11. Реализовать класс бинарного дерева. Написать функцию для нахождения всех узлов, которые являются листьями в бинарном дереве."
      ],
      "metadata": {
        "id": "rOQOcfeqF_bD"
      }
    },
    {
      "cell_type": "markdown",
      "source": [
        "12. Реализовать класс бинарного дерева. Написать функцию для проверки, является ли бинарное дерево полным."
      ],
      "metadata": {
        "id": "1coFyqPPGBZm"
      }
    },
    {
      "cell_type": "markdown",
      "source": [
        "13. Реализовать класс бинарного дерева. Написать функцию для проверки, является ли бинарное дерево симметричным (зеркально симметричным)."
      ],
      "metadata": {
        "id": "fv31zNv9GDVb"
      }
    },
    {
      "cell_type": "markdown",
      "source": [
        "14. Реализовать класс бинарного дерева. Написать функцию для нахождения всех путей от корня до листьев в бинарном дереве."
      ],
      "metadata": {
        "id": "dB9EVEPtGFSP"
      }
    },
    {
      "cell_type": "markdown",
      "source": [
        "15. Реализовать класс бинарного дерева. Написать функцию для нахождения всех узлов на заданной глубине в бинарном дереве."
      ],
      "metadata": {
        "id": "pAKv8BEZGHF_"
      }
    },
    {
      "cell_type": "markdown",
      "source": [
        "#### <font color='LightCoral'> **ЗАДАНИЕ 40.** Структуры данных: двоичная куча."
      ],
      "metadata": {
        "id": "gttR9xjtFbtf"
      }
    },
    {
      "cell_type": "markdown",
      "source": [
        "1. Набор данных представляет собой пары «ключ-значение». Реализуйте структуру данных на основе двоичной кучи, которая будет поддерживать операции вставки пары, удаления пары по ключу и поиска значения по ключу."
      ],
      "metadata": {
        "id": "RhVVceGEGZ0O"
      }
    },
    {
      "cell_type": "markdown",
      "source": [
        "2. Работает система, которая отслеживает активность пользователей на веб-сайте. Каждый раз, когда пользователь посещает страницу, система создает запись с временной меткой. Реализовать структуру данных на основе двоичной кучи, которая будет поддерживать операции добавления записи и извлечения записей за определенный период времени."
      ],
      "metadata": {
        "id": "0ehvwIcwGdE4"
      }
    },
    {
      "cell_type": "markdown",
      "source": [
        "3. Даны две двоичные кучи. Напишите функцию, которая объединяет эти две кучи в одну."
      ],
      "metadata": {
        "id": "Bv9uLpkJGlwb"
      }
    },
    {
      "cell_type": "markdown",
      "source": [
        "4. Дан список задач с указанием времени выполнения каждой задачи. Напишите программу, использующую двоичную кучу, для определения порядка выполнения задач таким образом, чтобы минимизировать общее время ожидания."
      ],
      "metadata": {
        "id": "JBXiDRJxGopx"
      }
    },
    {
      "cell_type": "markdown",
      "source": [
        "5. Создайте структуру данных «Top N», которая хранит $N$ наибольших элементов из потока входных данных. Структура должна поддерживать операцию добавления нового элемента в поток и операцию извлечения одного из «Top N» элементов. Используйте для этого двоичную кучу."
      ],
      "metadata": {
        "id": "Gc7sddLQGs8A"
      }
    },
    {
      "cell_type": "markdown",
      "source": [
        "6. Предоставлен набор данных, содержащий информацию о студентах и их оценках. Разработайте систему ранжирования студентов по их среднему баллу с использованием двоичной кучи."
      ],
      "metadata": {
        "id": "zLb6WbpWG7IV"
      }
    },
    {
      "cell_type": "markdown",
      "source": [
        "7. Даны две отсортированные последовательности. Напишите функцию, которая объединяет эти две последовательности в одну отсортированную последовательность с использованием двоичной кучи."
      ],
      "metadata": {
        "id": "eJFMIOUTG9-i"
      }
    },
    {
      "cell_type": "markdown",
      "source": [
        "8. Дан массив строк. Напишите программу, которая использует двоичную кучу для сортировки массива в лексикографическом порядке."
      ],
      "metadata": {
        "id": "JICG7gGhHAkQ"
      }
    },
    {
      "cell_type": "markdown",
      "source": [
        "9. Имеется набор данных, представляющих собой пары «слово-частота». Реализуйте структуру данных на основе двоичной кучи, которая будет поддерживать операции вставки пары, удаления пары по слову и поиска частоты по слову."
      ],
      "metadata": {
        "id": "PG67tddvHEbR"
      }
    },
    {
      "cell_type": "markdown",
      "source": [
        "10. Имеется система управления задачами. Каждая задача имеет приоритет и дедлайн. Реализовать структуру данных на основе двоичной кучи, которая будет поддерживать операции добавления задачи и извлечения задачи с наивысшим приоритетом и дедлайном до определенного времени."
      ],
      "metadata": {
        "id": "NnXbsVBOHJ3g"
      }
    },
    {
      "cell_type": "markdown",
      "source": [
        "11. Реализуйте алгоритм поиска медианы в отсортированном массиве с использованием двоичной кучи."
      ],
      "metadata": {
        "id": "3s3oHSk9HNRY"
      }
    },
    {
      "cell_type": "markdown",
      "source": [
        "12. Дан массив точек на плоскости. Напишите программу, которая использует двоичную кучу для сортировки точек по их расстоянию от начала координат."
      ],
      "metadata": {
        "id": "n9qGg_iHHPc9"
      }
    },
    {
      "cell_type": "markdown",
      "source": [
        "13. Имеется набор данных, представляющих собой пары «имя-возраст». Реализуйте структуру данных на основе двоичной кучи, которая будет поддерживать операции вставки пары, удаления пары по имени и поиска возраста по имени."
      ],
      "metadata": {
        "id": "K9FCv-cBHSsw"
      }
    },
    {
      "cell_type": "markdown",
      "source": [
        "14. Разработайте систему управления автобусным расписанием. Каждый автобус имеет номер маршрута и время отправления. Реализовать структуру данных на основе двоичной кучи, которая будет поддерживать операции добавления автобуса и извлечения автобуса с наименьшим временем отправления."
      ],
      "metadata": {
        "id": "bwA4wIFvHYh6"
      }
    },
    {
      "cell_type": "markdown",
      "source": [
        "15. Разработайте систему учета книг в библиотеке. Каждая книга имеет название и количество экземпляров. Реализовать структуру данных на основе двоичной кучи, которая будет поддерживать операции добавления книги и извлечения книги с наименьшим количеством экземпляров."
      ],
      "metadata": {
        "id": "bMUvcsWvHccB"
      }
    },
    {
      "cell_type": "markdown",
      "source": [
        "#### <font color='LightCoral'> **ЗАДАНИЕ 41.** Хеш-таблицы."
      ],
      "metadata": {
        "id": "meJCexfTfuPn"
      }
    },
    {
      "cell_type": "markdown",
      "source": [
        "1. <br>а) Создать класс «Студент» с полями «Имя», «Фамилия», «Год рождения» и «Средний балл». Создать хеш-таблицу для хранения объектов класса «Студент» по ключу — номеру зачетной книжки.<br>б) Написать функцию для объединения двух хеш-таблиц.<br>в) Реализуйте хеш-таблицу для хранения информации о клиентах туристического агентства. Ключом является номер паспорта клиента, значение — объект, содержащий информацию о клиенте (ФИО, контактная информация, список заказанных туров и т.д.). Используйте метод разрешения коллизий методом открытой адресации с линейным пробированием."
      ],
      "metadata": {
        "id": "XxV5Rzk1IUgi"
      }
    },
    {
      "cell_type": "markdown",
      "source": [
        "2. <br>а) Создать класс «Товар» с полями «Название», «Цена» и «Количество». Создать хеш-таблицу для хранения объектов класса «Товар» по ключу — артикулу товара.<br>б) Написать функцию для разделения хеш-таблицы на две, где первая будет содержать элементы с четными ключами, а вторая — с нечетными.<br>в) Реализуйте хеш-таблицу для хранения информации о документах в архиве. Ключом является номер документа, значение — объект, содержащий информацию о документе (название, дата создания, автор и т.д.). Используйте метод разрешения коллизий методом цепочек и реализуйте возможность удаления элементов из таблицы."
      ],
      "metadata": {
        "id": "J9U0eOHAIY2m"
      }
    },
    {
      "cell_type": "markdown",
      "source": [
        "3. <br>а) Создать класс «Клиент» с полями «Имя», «Фамилия», «Адрес» и «Номер телефона». Создать хеш-таблицу для хранения объектов класса «Клиент» по ключу — номеру клиентской карты.<br>б) Написать функцию для удаления всех элементов из хеш-таблицы, которые не удовлетворяют заданному условию.<br>в) Реализуйте хеш-таблицу для хранения информации о студентах университета. Ключом является номер студенческого билета, значение — объект, содержащий информацию о студенте (ФИО, группа, оценки и т.д.). Используйте метод разрешения коллизий методом цепочек."
      ],
      "metadata": {
        "id": "MwA6deKJIfw8"
      }
    },
    {
      "cell_type": "markdown",
      "source": [
        "4. <br>а) Создать класс «Заказ» с полями «Номер заказа», «Дата заказа», «Сумма заказа» и «Статус заказа». Создать хеш-таблицу для хранения объектов класса «Заказ» по ключу — номеру заказа.<br>б) Написать функцию для удаления всех элементов из хеш-таблицы, которые меньше заданного значения.<br>в) Реализуйте хеш-таблицу для хранения информации о сотрудниках компании. Ключом является табельный номер, значение — объект, содержащий информацию о сотруднике (ФИО, должность, зарплата и т.д.). Используйте метод разрешения коллизий методом открытой адресации с двойным хешированием."
      ],
      "metadata": {
        "id": "bhy-qpOrIkqs"
      }
    },
    {
      "cell_type": "markdown",
      "source": [
        "5. <br>а) Создать класс «Книга» с полями «Название», «Автор», «Год выпуска» и «Количество страниц». Создать хеш-таблицу для хранения объектов класса «Книга» по ключу — ISBN.<br>б) Написать функцию для нахождения количества элементов из хеш-таблицы, у которых значение больше заданного значения.<br>в) Реализуйте хеш-таблицу для хранения информации о товарах на складе. Ключом является штрих-код товара, значение — объект, содержащий информацию о товаре (название, количество, цена и т.д.). Используйте метод разрешения коллизий методом цепочек."
      ],
      "metadata": {
        "id": "c3HojoFfImw-"
      }
    },
    {
      "cell_type": "markdown",
      "source": [
        "6. <br>а) Создать класс «Сотрудник» с полями «Имя», «Фамилия», «Должность» и «Зарплата». Создать хеш-таблицу для хранения объектов класса «Сотрудник» по ключу — табельному номеру.<br>б) Написать функцию для удаления всех дубликатов из хеш-таблицы.<br>в) Реализуйте хеш-таблицу для хранения информации о книгах в библиотеке. Ключом является ISBN книги, значение — объект, содержащий информацию о книге (название, автор, количество экземпляров и т.д.). Используйте метод разрешения коллизий методом открытой адресации с квадратичным пробированием."
      ],
      "metadata": {
        "id": "MLxGnEfNIqYo"
      }
    },
    {
      "cell_type": "markdown",
      "source": [
        "7. <br>а) Создать класс «Ресторан» с полями «Название», «Адрес», «Телефон» и «Тип кухни». Создать хеш-таблицу для хранения объектов класса «Ресторан» по ключу — названию ресторана.<br>б) Написать функцию для проверки, содержит ли хеш-таблица заданный ключ.<br>в) Реализуйте хеш-таблицу для хранения информации о заказах в интернет-магазине. Ключом является номер заказа, значение — объект, содержащий информацию о заказе (список товаров, стоимость заказа, адрес доставки и т.д.). Используйте метод разрешения коллизий методом цепочек и реализуйте возможность изменения элементов в таблице."
      ],
      "metadata": {
        "id": "WsrFC-U3Itz0"
      }
    },
    {
      "cell_type": "markdown",
      "source": [
        "8. <br>а) Создать класс «Пользователь» с полями «Имя», «Фамилия», «Логин» и «Пароль». Создать хеш-таблицу для хранения объектов класса «Пользователь» по ключу — логину.<br>б) Написать функцию для сортировки значений в хеш-таблице по возрастанию/убыванию.<br>в) Реализуйте хеш-таблицу для хранения информации о клиентах банка. Ключом является номер счета, значение — объект, содержащий информацию о клиенте (ФИО, адрес, баланс и т.д.). Используйте метод разрешения коллизий методом открытой адресации с линейным пробированием."
      ],
      "metadata": {
        "id": "gQcN8YjHIv_3"
      }
    },
    {
      "cell_type": "markdown",
      "source": [
        "9. <br>а) Создать класс «Страна» с полями «Название», «Столица», «Население» и «Площадь». Создать хеш-таблицу для хранения объектов класса «Страна» по ключу — названию страны.<br>б) Написать функцию для нахождения наименьшего значения в хеш-таблице.<br>в) Реализуйте хеш-таблицу для хранения информации о продуктах в интернет-магазине. Ключом является артикул товара, значение — объект, содержащий информацию о товаре (название, описание, цена и т.д.). Используйте метод разрешения коллизий методом цепочек и реализуйте возможность удаления элементов из таблицы."
      ],
      "metadata": {
        "id": "Z8JlhOZJIyir"
      }
    },
    {
      "cell_type": "markdown",
      "source": [
        "10. <br>а) Создать класс «Фильм» с полями «Название», «Режиссер», «Год выпуска» и «Жанр». Создать хеш-таблицу для хранения объектов класса «Фильм» по ключу — названию фильма.<br>б) Написать функцию для нахождения элемента в хеш-таблице, который наиболее близок по значению к заданному числу.<br>в) Реализуйте хеш-таблицу для хранения информации о пациентах в больнице. Ключом является номер медицинской карты, значение — объект, содержащий информацию о пациенте (ФИО, диагноз, лечение и т.д.). Используйте метод разрешения коллизий методом открытой адресации с квадратичным пробированием."
      ],
      "metadata": {
        "id": "fSG3PCCLI0z_"
      }
    },
    {
      "cell_type": "markdown",
      "source": [
        "11. <br>а) Создать класс «Продукт» с полями «Название», «Цена», «Количество» и «Срок годности». Создать хеш-таблицу для хранения объектов класса «Продукт» по ключу — названию продукта.<br>б) Написать функцию для нахождения наиболее часто встречающегося ключа в хеш-таблице.<br>в) Реализуйте хеш-таблицу для хранения информации о заказах в ресторане. Ключом является номер заказа, значение — объект, содержащий информацию о заказе (список блюд, стоимость заказа, адрес доставки и т.д.). Используйте метод разрешения коллизий методом цепочек и реализуйте возможность поиска элементов в таблице."
      ],
      "metadata": {
        "id": "VW3m9Xn0I3u2"
      }
    },
    {
      "cell_type": "markdown",
      "source": [
        "12. <br>а) Создать класс «Адрес» с полями «Улица», «Дом», «Квартира» и «Индекс». Создать хеш-таблицу для хранения объектов класса «Адрес» по ключу — индексу.<br>б) Написать функцию для нахождения среднего значения всех значений в хеш-таблице.<br>в) Реализуйте хеш-таблицу для хранения информации о клиентах страховой компании. Ключом является номер полиса, значение — объект, содержащий информацию о клиенте (ФИО, адрес, страховые услуги и т.д.). Используйте метод разрешения коллизий методом открытой адресации с двойным хешированием и реализуйте возможность добавления новых элементов в таблицу."
      ],
      "metadata": {
        "id": "smwVeC0mI52T"
      }
    },
    {
      "cell_type": "markdown",
      "source": [
        "13. <br>а) Создать класс «Курс» с полями «Название», «Преподаватель», «Количество студентов» и «День недели». Создать хеш-таблицу для хранения объектов класса «Курс» по ключу — названию курса.<br>б) Написать функцию для нахождения медианы всех значений в хеш-таблице.<br>в) Реализуйте хеш-таблицу для хранения информации о студентах университета. Ключом является номер зачетной книжки, значение — объект, содержащий информацию о студенте (ФИО, факультет, курс и т.д.). Используйте метод разрешения коллизий методом цепочек и реализуйте возможность изменения информации о студентах."
      ],
      "metadata": {
        "id": "QSZcDR9fI8K0"
      }
    },
    {
      "cell_type": "markdown",
      "source": [
        "14. <br>а) Создать класс «Автомобиль» с полями «Марка», «Модель», «Год выпуска» и «Цвет». Создать хеш-таблицу для хранения объектов класса «Автомобиль» по ключу — номеру государственной регистрации.<br>б) Написать функцию для нахождения наиболее часто встречающегося значения в хеш-таблице.<br>в) Реализуйте хеш-таблицу для хранения информации о товарах на складе. Ключом является штрих-код товара, значение — объект, содержащий информацию о товаре (название, количество, цена и т.д.). Используйте метод разрешения коллизий методом открытой адресации с квадратичным пробированием и реализуйте возможность изменения количества товаров."
      ],
      "metadata": {
        "id": "380ebyddI-UN"
      }
    },
    {
      "cell_type": "markdown",
      "source": [
        "15. <br>а) Создать класс «Квартира» с полями «Адрес», «Количество комнат», «Площадь» и «Цена за квадратный метр». Создать хеш-таблицу для хранения объектов класса «Квартира» по ключу — адресу.<br>б) Написать функцию для проверки, содержит ли хеш-таблица заданное значение.<br>в) Реализуйте хеш-таблицу для хранения информации о задачах в проекте. Ключом является номер задачи, значение — объект, содержащий информацию о задаче (описание, статус выполнения, ответственный и т.д.). Используйте метод разрешения коллизий методом цепочек и реализуйте возможность удаления задач из таблицы."
      ],
      "metadata": {
        "id": "VV9jqY-hJAgd"
      }
    }
  ]
}