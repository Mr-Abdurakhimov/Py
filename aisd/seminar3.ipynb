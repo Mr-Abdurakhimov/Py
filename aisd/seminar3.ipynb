# Задание 1
s1 = input('Введите первую строку:')
a = int(input('Введите целое число:'))
s2 = input('Введите вторую строку:')
if s1 and not a - 5 and not s2:
    print('Правильный ответ')
else:
    print('Ответ неправильный, попробуйте еще раз.')
     

# Задание 1.2
values = [(True, True), (True, False), (False, True), (False, False)]
for a, b in values:
    res1 = not (a or b) == (not a and not b)
    res2 = not (a and b) == (not a or not b)
    print(f"a = {a}, b = {b}, res1 = {res1}, res2 = {res2}")
     

# Задание 2
x_values = [-5, -4, -3, -2, -1, 0, 1, 2, 3, 4, 5, 6]
for x in x_values:
    result = x**2 > 6-x > x
    print(f"x = {x}: {result}")

     

# Задание 3
a, b, c = map(int, input("Введите значения a, b, c через пробел: ").split())
result = 0 <= a <= c and 0 <= b < c and b == 2 and 0 <= c < 5
print(result)
     

# Задание 3.2
str1 = input("Введите первую строку: ")
str2 = input("Введите вторую строку: ")
print(len(str1) > len(str2) and str1 < str2)
     

# Задание 4
strings = ['string', 'String', 'strinG', 'stringlong', ' string', 'string ', '_string']
strings_sorted = sorted(strings)
result = strings_sorted == [' string', '_string', 'String', 'strinG', 'string', 'string ', 'stringlong']
print(result)
     

# Задание 5
input_string = input("Введите строку: ")
if "!!!" in input_string and "???" in input_string:
    pass
elif input_string.startswith("!!!"):
    print("Nota bene:", input_string.replace("!!!", ""))
elif "!!!" in input_string:
    print("exclaim")
elif "???" in input_string:
    print("question")
else:
    print("random")
     

# Задание 6
if len(s1) > 5:
    if s1 and not a - 5 and not s2:
        print('Правильный ответ')
    else:
        print('Ответ неправильный, попробуйте еще раз.')
elif len(s1) % 2:
    print(f"{s1}-{s1}-{s1}")
     

# Задание 7
x = "banana monkey"
y = "orangutan"
friend = x if "banana" in x else y
print(friend)
     
